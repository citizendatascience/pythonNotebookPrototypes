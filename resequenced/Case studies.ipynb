{
 "cells": [
  {
   "cell_type": "markdown",
   "metadata": {},
   "source": [
    "# Become a citizen data scientist\n",
    "\n",
    "Professionals who spend their day devising algorithms for processing data are known as **data scientists**. Data scientists are few and far between, and in many organisations there is a need for training the current staff to perform analytical tasks in-house.\n",
    "\n",
    "Therefore the idea of a **citizen data scientist** came about. A citizen data scientist is close enough to the problem context to really understand it, but also equipped with the skills needed to investigate it scientifically.\n",
    "\n",
    "But to us, the idea of a **citizen data scientist** has an additional meaning. In any democratic organisation - whether it is a nation, a city council or a secondary school - it is up to the citizens to make informed judgments, based on facts and supported by data. And when local issues arise and no expert data scientists are available, it is up to the citizens to also collect and analyse it.  \n",
    "\n",
    "This course has been designed to provide you with the skills required for you to trust your own ability to generate facts and use them for the greater good. At the end of it, you will be ready to get your hands dirty in how to identify research questions, collect data, and using Python programming, submit it for analysis.\n",
    "\n",
    "The scientific method is freely available for anyone to use, and there are so many facts out there waiting to be discovered. \n",
    "\n",
    "Be the citizen data scientist your community needs."
   ]
  },
  {
   "cell_type": "markdown",
   "metadata": {},
   "source": [
    "## Two independent samples"
   ]
  },
  {
   "cell_type": "code",
   "execution_count": null,
   "metadata": {},
   "outputs": [],
   "source": []
  },
  {
   "cell_type": "markdown",
   "metadata": {},
   "source": [
    "## Food waste in the canteen: two dependent samples\n",
    "\n",
    "Some time ago, Fatemah stumbled upon the statistic that UK households throw almost 7 million tonnes per year, with around 70 kg per person - about a third of the food the purchase.\n",
    "\n",
    "This led Fatemah to inquire about the food waste at the lunch canteen. She had seen the waste bins overfill, one after one. Some of it were from the cooking staff making too big batches, but the majority seemed to be from students overestimating their appetites. Was there a way to reduce the average food waste per student?\n",
    "\n",
    "Fatemah got permission from her principl to set up a table in the canteen after the food queue, and asked people to weigh their food as she put it into a spreadsheet, alongside their numerical ID. She did the same when they returned their trays.\n",
    "\n",
    "The next day, she made an installation in the school entrance with a 70 recycled milk cartons with the sign \"**THIS IS HOW MUCH FOOD YOU WILL WASTE THIS YEAR**\".\n",
    "\n",
    "Would this technique make people more conscious of how much they wasted? To see the effect of the installation, Fatemah repeated the previous procedure of weighing plates."
   ]
  },
  {
   "cell_type": "code",
   "execution_count": null,
   "metadata": {},
   "outputs": [],
   "source": []
  },
  {
   "cell_type": "markdown",
   "metadata": {},
   "source": [
    "## Student mental health: temporal data\n",
    "\n",
    "Sebastian has seen friends struggle with mental unhealth. Newspapers have reported that an epidemic of depression is raging among his generation, and Sebastian wonders if this vulnerability is made worse by stressful assignments and exams, or if perhaps the opposite holds: does assignments and exams distract students from other issues? If worse, then Sebastian plans to present his data to the principal and ask of the school to offer greater presence of mental health services during exam times.\n",
    "\n",
    "Sebastian realises he needs to track students' mood over time. He samples and approaches 50 students from the school catalogue that do the same courses and asks them to participate in his study. Every day, he will send them an email asking them to rate their mood. He does this for the entire schoolyear and puts it in a spreadsheet. \n",
    "\n",
    "He also collects data on their assignment deadlines and exams. He wonders: will the mood plunge during academically stressful times or fluctuate independently of deadlines?"
   ]
  },
  {
   "cell_type": "code",
   "execution_count": null,
   "metadata": {},
   "outputs": [],
   "source": []
  },
  {
   "cell_type": "markdown",
   "metadata": {},
   "source": [
    "## Solar panels in the school: geographic data\n",
    "\n",
    "Jayesh is frustrated by the lack of environmentalist initiatives in the school. An assignment in physics recently got him inspired by the potential of solar panels, and although Scotland isn't famous for its sunshine, he wonders whether the school can source some of its energy from them.\n",
    "\n",
    "It turns out, the drizzly climate of UK is very well-suited for them. Jayesh finds a web application where he can find the suitability of a particular property using satellite data. He discovers a way to do this automatically for all neighbouring postcodes and local secondary schools, and aims to share this with the local council. Maybe many schools could make a coordinated effort to install solar panels?\n",
    "\n",
    "To present it in a clear and concise form, he contemplates using solar panels."
   ]
  },
  {
   "cell_type": "code",
   "execution_count": null,
   "metadata": {},
   "outputs": [],
   "source": []
  },
  {
   "cell_type": "markdown",
   "metadata": {},
   "source": [
    "## School elections: categorical data\n",
    "\n",
    "Cecily is curious whether the turnout in the school election - the ballot organised by the school before the UK general election - has changed since last election. Engagement with voting even at an early age, even when it doesn't technically matter for the real election, is vital to the democracy, she thinks. \n",
    "\n",
    "Fortunately, the civics teacher - who conducts the voting - still has data from five years back: how many students voted, and how many didn't. The same data exists for the new election.\n",
    "\n",
    "Cecily now has to figure out how to compare the two: it seems so simple, with only four values in her dataset, but she knows that it is easy to read trends into random noise, so a simple at-a-glance analysis will not impress her peers, which she needs to promote democratic involvement."
   ]
  },
  {
   "cell_type": "code",
   "execution_count": null,
   "metadata": {},
   "outputs": [],
   "source": []
  },
  {
   "cell_type": "markdown",
   "metadata": {},
   "source": [
    "## Correlational"
   ]
  },
  {
   "cell_type": "code",
   "execution_count": null,
   "metadata": {},
   "outputs": [],
   "source": []
  },
  {
   "cell_type": "code",
   "execution_count": null,
   "metadata": {},
   "outputs": [],
   "source": []
  },
  {
   "cell_type": "code",
   "execution_count": null,
   "metadata": {},
   "outputs": [],
   "source": []
  }
 ],
 "metadata": {
  "kernelspec": {
   "display_name": "Python 3",
   "language": "python",
   "name": "python3"
  },
  "language_info": {
   "codemirror_mode": {
    "name": "ipython",
    "version": 3
   },
   "file_extension": ".py",
   "mimetype": "text/x-python",
   "name": "python",
   "nbconvert_exporter": "python",
   "pygments_lexer": "ipython3",
   "version": "3.6.6"
  }
 },
 "nbformat": 4,
 "nbformat_minor": 2
}
