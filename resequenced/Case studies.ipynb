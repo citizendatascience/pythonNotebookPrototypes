{
 "cells": [
  {
   "cell_type": "markdown",
   "metadata": {},
   "source": [
    "# Become a citizen data scientist\n",
    "\n",
    "Professionals who spend their day devising algorithms for processing data are known as **data scientists**. Data scientists are few and far between, and in many organisations there is a need for training the current staff to perform analytical tasks in-house.\n",
    "\n",
    "Therefore the idea of a **citizen data scientist** came about. A citizen data scientist is close enough to the problem context to really understand it, but also equipped with the skills needed to investigate it scientifically.\n",
    "\n",
    "But to us, the idea of a **citizen data scientist** has an additional meaning. In any democratic organisation - whether it is a nation, a city council or a secondary school - it is up to the citizens to make informed judgments, based on facts and supported by data. And when local issues arise and no expert data scientists are available, it is up to the citizens to also collect and analyse it.  \n",
    "\n",
    "This course has been designed to provide you with the skills required for you to trust your own ability to generate facts and use them for the greater good. At the end of it, you will be ready to get your hands dirty in how to identify research questions, collect data, and using Python programming, submit it for analysis.\n",
    "\n",
    "The scientific method is freely available for anyone to use, and sociatally vital facts are out there waiting impatiently to be discovered. \n",
    "\n",
    "Be the citizen data scientist your community needs."
   ]
  },
  {
   "cell_type": "markdown",
   "metadata": {},
   "source": [
    "## Two independent samples"
   ]
  },
  {
   "cell_type": "code",
   "execution_count": null,
   "metadata": {},
   "outputs": [],
   "source": []
  },
  {
   "cell_type": "markdown",
   "metadata": {},
   "source": [
    "## Food waste in the canteen: two dependent samples\n",
    "\n",
    "Some time ago, Fatemah stumbled upon the statistic that UK households throw almost 7 million tonnes per year, with around 70 kg per person - about a third of the food the purchase.\n",
    "\n",
    "This led Fatemah to inquire about the food waste at the lunch canteen. She had seen the waste bins overfill, one after one. Some of it were from the cooking staff making too big batches, but the majority seemed to be from students overestimating their appetites. Was there a way to reduce the average food waste per student?\n",
    "\n",
    "Fatemah got permission from her principal to set up a table in the canteen after the food queue, and asked people to weigh their food as she put it into a spreadsheet, alongside their numerical ID. She did the same when they returned their trays.\n",
    "\n",
    "The next day, she made an installation in the school entrance with a 70 recycled milk cartons with the sign \"**THIS IS HOW MUCH FOOD YOU WILL WASTE THIS YEAR**\".\n",
    "\n",
    "Would this technique make people more conscious of how much they wasted? To see the effect of the installation, Fatemah repeated the previous procedure of weighing plates."
   ]
  },
  {
   "cell_type": "code",
   "execution_count": null,
   "metadata": {},
   "outputs": [],
   "source": []
  },
  {
   "cell_type": "markdown",
   "metadata": {},
   "source": [
    "## Recycling on the rise: temporal data\n",
    "\n",
    "Sebastian is well aware that UK needs to transition to a circular, recyling-based economy and avoid contributing to the depletion of Earth's resources. But he doesn't have a good sense of how far UK has yet to go.\n",
    "\n",
    "For an insight into the current recycling rate, Sebastian goes to the government's [website for local data](https://data.gov.uk/), where he finds a [file](https://data.gov.uk/dataset/5aea1caf-3e38-4d57-b321-ba34eb762b6e/local-authority-collected-waste-management-statistics) containing overall recycling rates from 2000 to 2017.\n",
    "\n",
    "Opening it, he wonders how to begin visualising it.\n"
   ]
  },
  {
   "cell_type": "code",
   "execution_count": null,
   "metadata": {},
   "outputs": [],
   "source": []
  },
  {
   "cell_type": "markdown",
   "metadata": {},
   "source": [
    "##The future of carbon sequestration: linear regression\n",
    "\n",
    "Lynda is feeling dejected by how 2018 broke yet another world record in carbon emissions. She knows that, apart from reducing emissions, there is another, complementary strategy available of *absorbing* carbon, known as \"carbon sequestration\". \n",
    "\n",
    "How well is UK doing and at what rate and in what direction does it change? Is carbon sequestration a promising tactic?\n",
    "\n",
    "She finds a governmental [dataset](https://data.gov.uk/dataset/25090ead-6c1e-41c2-97fe-44b77aa89981/forestry-statistics-2018-uk-forests-and-climate-change)."
   ]
  },
  {
   "cell_type": "code",
   "execution_count": null,
   "metadata": {},
   "outputs": [],
   "source": []
  },
  {
   "cell_type": "markdown",
   "metadata": {},
   "source": [
    "## Predicting crop yields: multiple linear regression\n",
    "\n",
    "Along the way, Lynda encounters another government [project](https://data.gov.uk/dataset/c58ad1f2-c9c4-431d-87e6-96dcdb674392/meteorological-data-collected-at-english-short-rotation-coppice-extensive-sites) investigating crops of coppicing trees meant for fuel production. \n",
    "\n",
    "One problem haunting the project is the difficulty of predicting crop volumes. Without reliable estimates, farmers and local administrations become unwilling to invest in them, and it becomes harder to measure the effect of new innovations. \n",
    "\n",
    "To help this, the government has recorded data on a multitude of variables: air temperature, soil temperature, rainfall, humidity, radiation. How can Lynda build a model into which we input this in order to predict the yield?"
   ]
  },
  {
   "cell_type": "code",
   "execution_count": null,
   "metadata": {},
   "outputs": [],
   "source": []
  },
  {
   "cell_type": "markdown",
   "metadata": {},
   "source": [
    "## Solar panels in the school: geographic data\n",
    "\n",
    "Jayesh is frustrated by the lack of environmentalist initiatives in his job. A news article on Elon Musk recently got him inspired by the potential of solar panels, and although Scotland isn't famous for its sunshine, he wonders whether his office building can source some of its energy from them.\n",
    "\n",
    "It turns out, the drizzly climate of UK is very well-suited for them. Jayesh finds a web application where he can find the suitability of a particular property using satellite data. He discovers a way to do this automatically for all neighbouring postcodes and local secondary schools, and aims to share this with the local council. Maybe many neighbouring buildings could make a coordinated effort to install solar panels?\n",
    "\n",
    "To present it in a clear and concise form, he contemplates using solar panels."
   ]
  },
  {
   "cell_type": "code",
   "execution_count": null,
   "metadata": {},
   "outputs": [],
   "source": []
  },
  {
   "cell_type": "markdown",
   "metadata": {},
   "source": [
    "## School elections: categorical data\n",
    "\n",
    "Cecily is curious whether the turnout in the school election - the ballot organised by the school before the UK general election - has changed since last election. Engagement with voting even at an early age, even when it doesn't technically matter for the real election, is vital to the democracy, she thinks. \n",
    "\n",
    "Fortunately, the civics teacher - who conducts the voting - still has data from five years back: how many students voted, and how many didn't. The same data exists for the new election.\n",
    "\n",
    "Cecily now has to figure out how to compare the two: it seems so simple, with only four values in her dataset, but she knows that it is easy to read trends into random noise, so a simple at-a-glance analysis will not impress her peers, which she needs to promote democratic involvement."
   ]
  },
  {
   "cell_type": "code",
   "execution_count": null,
   "metadata": {},
   "outputs": [],
   "source": []
  },
  {
   "cell_type": "markdown",
   "metadata": {},
   "source": [
    "## Correlational"
   ]
  },
  {
   "cell_type": "code",
   "execution_count": null,
   "metadata": {},
   "outputs": [],
   "source": []
  },
  {
   "cell_type": "code",
   "execution_count": null,
   "metadata": {},
   "outputs": [],
   "source": []
  },
  {
   "cell_type": "code",
   "execution_count": null,
   "metadata": {},
   "outputs": [],
   "source": []
  }
 ],
 "metadata": {
  "kernelspec": {
   "display_name": "Python 3",
   "language": "python",
   "name": "python3"
  },
  "language_info": {
   "codemirror_mode": {
    "name": "ipython",
    "version": 3
   },
   "file_extension": ".py",
   "mimetype": "text/x-python",
   "name": "python",
   "nbconvert_exporter": "python",
   "pygments_lexer": "ipython3",
   "version": "3.7.1"
  }
 },
 "nbformat": 4,
 "nbformat_minor": 2
}
