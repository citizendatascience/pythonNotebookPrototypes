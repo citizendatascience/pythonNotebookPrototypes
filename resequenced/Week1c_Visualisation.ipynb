{
 "cells": [
  {
   "cell_type": "markdown",
   "metadata": {},
   "source": []
  },
  {
   "cell_type": "markdown",
   "metadata": {},
   "source": [
    "## Visualizing data in Python\n",
    "<div \"style=\"width:500px;\">\n",
    "\n",
    "Creating graphs via commands instead of menus can at first look rather tedious, but we have good reason to do it. Not only dooes it give us more fine-grained control - it also makes it easy to reproduce the exact same graph or graph style later on.\n",
    "\n",
    "To create a plot, we need a library to take care of all the background business of turning data into 2D geometric objects. There are many libraries for creating plots - NumPy and Pandas have built-in functions for creating basic plots (we'll get to them later).\n",
    "\n",
    "<img src=\"matplotimport.png\" alt=\"Variables\" style=\"float:right;\">\n",
    "\n",
    "The most common library for visualisation, however, is called **matplotlib**, and in particular its sub-library called **pyplot**. It contains a range of functions for creating and customising plots, so we begin by downloading and importing the library.\n",
    "\n",
    "\n",
    "\n",
    "#### 1. Import the library\n",
    " Remember that we do this in the beginning of the script to keep things tidy.\n",
    "\n",
    "We access pyplot the way we normally access object contents: `matplotlib.pyplot`. To avoid having to repeat this mouthful, Python gives you a way of giving it a nickname. By *convention* this nickname is `plt` and we will stick to that: `import matplotlib.pyplot as plt`.\n",
    "\n",
    "</div>"
   ]
  },
  {
   "cell_type": "code",
   "execution_count": 34,
   "metadata": {},
   "outputs": [],
   "source": [
    "import matplotlib.pyplot as plt\n",
    "import numpy as np\n",
    "import pandas as pd"
   ]
  },
  {
   "cell_type": "markdown",
   "metadata": {},
   "source": [
    "<div \"style=\"width:500px;\">\n",
    "\n",
    "You will find those three lines on top of nearly every data analytic script in Python, so they are worth remembering.\n",
    "\n",
    "#### 2. Access a plotting-function within the library\n",
    "\n",
    "It only remains to access a plotting function within `plt` and plug in our data.\n",
    "\n",
    "The function `plot` specifically creates *line graphs* which only asks for one NumPy array of numbers. For simplicity, we'll feed it with `np.arange(10)`, which you recall generates the array `[0,1,2,3,4,5,6,7,8,9]`. \n",
    "\n",
    "When we only pass one data-array, it assumes that it is the y-values and that the x-values are the natural number sequence 0,1,2,...9. \n",
    "\n",
    "If we had passed it a regular Python list instead of a NumPy array, the function would have converted it into a NumPy array. Now, it can proceed to create the graphics and send it to standard output for us to inspect.\n",
    "\n",
    "</div>"
   ]
  },
  {
   "cell_type": "code",
   "execution_count": 12,
   "metadata": {},
   "outputs": [
    {
     "data": {
      "image/png": "[encoded data removed]",
      "text/plain": [
       "<Figure size 432x288 with 1 Axes>"
      ]
     },
     "metadata": {
      "needs_background": "light"
     },
     "output_type": "display_data"
    }
   ],
   "source": [
    "data = np.arange(10)\n",
    "plt.plot(data)\n",
    "plt.show()"
   ]
  },
  {
   "cell_type": "markdown",
   "metadata": {},
   "source": [
    "<div \"style=\"width:500px;\">\n",
    "\n",
    "That was easy - too easy, almost! So let's complicate things.\n",
    "\n",
    "Suppose you wanted to have several *subplots* next to each other to simplify comparison. For example, suppose you wanted to compare it with the flat line `[6,6,6,6,6,6,6,6,6,6]`. To put two plots next to each other, Matplotlib requires a slightly different Step 2. \n",
    "\n",
    "\n",
    "    \n",
    "#### 2. Create a figure\n",
    "\n",
    "The first step is to create a *Figure* object. The Figure is like an empty canvas to which you bind the plots. We create it (by convention called `fig`) using the `plt.figure()` function. \n",
    "\n",
    "`fig = plt.figure()`\n",
    "\n",
    "#### 3. Create a plot\n",
    "\n",
    "Next step is to create individual plots on the Figure. Since they are parts of the Figure, we are better off thinking of them as *sub*plots.  \n",
    "\n",
    "By default, subplots are arranged as a simple grid. The first two arguments in the `add_subplot()` function refers to the number of rows and rows, respectively. For example, if we want a grid with one row and two columns we would write:\n",
    "\n",
    "`ax1 = fig.add_subplot(1,2,1)`\n",
    "\n",
    "`ax2 = fig.add_subplot(1,2,2)`\n",
    "\n",
    "The last argument is the index of the subplot that, for example, `ax1` will have. It will be the first out of the two.\n",
    "\n",
    "<img src=\"matplotlib.png\" alt=\"Variables\" style=\"float:right;\">\n",
    "\n",
    "These functions return plots - technically *AxesSubplot* objects, or *Axes* for short. Think of this as a a composite element consisting of two *Axis* objects, along with labels and such.  \n",
    "\n",
    "**Extension:** If you ever see other people's code, you may find that steps 2 and 3 are done in one swoop: `fig, axes = plt.subplots(1,2)` where `subplots()` is a function that takes the number of rows and columns. To access a specific axis, we would need to use indexing, e.g. `axes[1,1]`.\n",
    "\n",
    "**Extension:** Other subdivisions than a simple grid are [possible](https://matplotlib.org/users/gridspec.html).\n",
    "\n",
    "#### 4. Draw the plot\n",
    "\n",
    "It only remains to actually use the plot function like before, except instead of invoking functions from library `plt.plot(data)`, we invoke them on the particular axis: `ax1.plot(data)`. Axes-objects are equipped with their own plot functions.\n",
    "\n",
    "We *could* still use the old way, in which case matplotlib applies it to the last subplot (and figure) used. In the first example above, using `plt.plot(data)`, matplotlib created a new figure and subplot behind the scenes since there were no pre-existing ones.\n",
    "\n",
    "**Extension:** It is possible to include several plots on the same axes. **TODO**\n",
    "\n",
    "#### 5. Show the plot\n",
    "\n",
    "Finally, show the plot using `plt.show()`. Notebooks like this show them automatically, however, so it is only strictly necessary when programming elsewhere.\n",
    "\n",
    "\n",
    "\n",
    "</div>"
   ]
  },
  {
   "cell_type": "code",
   "execution_count": 32,
   "metadata": {},
   "outputs": [
    {
     "data": {
      "image/png": "[encoded data removed]",
      "text/plain": [
       "<Figure size 432x288 with 2 Axes>"
      ]
     },
     "metadata": {
      "needs_background": "light"
     },
     "output_type": "display_data"
    }
   ],
   "source": [
    "#Create data2\n",
    "data = np.arange(10)\n",
    "data2 = np.array([6,6,6,6,6,6,6,6,6,6])\n",
    "\n",
    "#Create figure\n",
    "fig = plt.figure()\n",
    "\n",
    "#Create subplots\n",
    "ax1 = fig.add_subplot(1,2,1)\n",
    "ax2 = fig.add_subplot(1,2,2)\n",
    "\n",
    "#Draw plots\n",
    "ax1.plot(data)\n",
    "ax2.plot(data2)\n",
    "\n",
    "#Show the plot\n",
    "plt.show()"
   ]
  },
  {
   "cell_type": "markdown",
   "metadata": {},
   "source": [
    "<div \"style=\"width:500px;\">\n",
    "\n",
    "To stay focused, we will only deal with single plots in the future. As you can predict, we simply create these by `ax = fig.add_subplot(1,1,1)`.\n",
    "\n",
    "\n",
    "Now, notice that a plot consists of many graphic elements: lines, axes, axis-ticks, axis-numbers. The `plot` function has default settings for each of these. For example, it chooses to make the line blue, and so forth. By default it also omits any titles, labels, and annotations or other things. \n",
    "\n",
    "How can we customise the plot and override the defaults? How could we, for example, make a line red, or add a title?\n",
    "\n",
    "#### 4. Customise the plot\n",
    "\n",
    "Fully specifying a plot in a single line would be quite the headache. For this reason - to simplify customisation - matplotlib allows you to create plots gradually, in steps.\n",
    "\n",
    "This is where the beauty of Axes objects comes in. An Axes object also has built-in functions that allow you to change the settings.\n",
    "\n",
    "Normally, we do this in a loop: make a change, check if it looks alright, then make additional changes until you are happy.\n",
    "\n",
    "Again, you can choose to do this via `plt`, for example, `plt.set_xlabel('My data')`, or via the Axes objects: `ax.set_xlabel('Mydata')`. And again, for consistency's sake, we will stick to the latter.\n",
    "\n",
    "Example:\n",
    "`set_xticks()`\n",
    "`set_xticklabels()`\n",
    "`set_title()`\n",
    "`set_xlabel()`\n",
    "`set_xlim()`\n",
    "`set_ylim()`\n",
    "\n",
    "Color (notice the American spelling) can be specified in a variety of ways, using abbreviations 'g' or RGB values. "
   ]
  },
  {
   "cell_type": "markdown",
   "metadata": {},
   "source": [
    "<div \"style=\"width:500px;\" >\n",
    "\n",
    "#### 5. Save the graph\n",
    "\n",
    "As an optional last step, you may want too save the graph in order to use it in a report or website. This is easily done using the function `savefig()` which takes the filename (*fname*) and format (*format*) as argument (among other kwargs). For example, to save as a PNG:\n",
    "\n",
    "</div>"
   ]
  },
  {
   "cell_type": "code",
   "execution_count": 33,
   "metadata": {},
   "outputs": [],
   "source": [
    "fig.savefig(fname=\"My first plot\", format=\"png\")"
   ]
  },
  {
   "cell_type": "markdown",
   "metadata": {},
   "source": [
    "# Exploring different visualizations\n",
    "\n",
    "## Single variables\n",
    "\n",
    "<div \"style=\"width:500px;\">\n",
    "    \n",
    "The simplest form of dataset we deal with is when we have a single variable. It could be *categorical* (like gender), *ordinal* (like ratings), or *continuous* (like height).\n",
    "\n",
    "Either way, we would store them in a Pandas DataFrame column, presumably with some ID attached to each value (for example: the name of the participant, or an arbitrary, anonymous number). \n",
    "\n",
    "<img src=\"frequency_tables.png\" alt=\"Variables\" style=\"width:50%;height:50%;\">\n",
    "\n",
    "The main thing a visualisation could help us with in dealing with an individual variable is to give us a sense of the *distribution*. Which values are common? Which values are rare? \n",
    "\n",
    "For this, we need to calculate the *frequency* for each value. For ordinal or categorical values, this is straightforward, but for continuous values there may never be two values with 51.4 specifically, so we may choose to \"bin\" it into the category \"55-60\". \n",
    "\n",
    "\n",
    "\n",
    "Later on, you will learn how to compute frequencies in Python, but for this section we will assume we already have them (like the tables to the right). **Some functions will compute the frequencies for you and therefore only expect one data series argument; others will expect them to be pre-computed and therefore expect two data series arguments**.\n",
    "\n",
    "Despite having two columns, don't forget that we ultimately only have *one* variable.\n",
    "\n",
    "\n",
    "\n",
    "By the way: when we deal with distributions, we have the choice to *normalise* if we want. We normalise when we express absolute frequencies are percentages instead. For example, if there are 52 A and 34 B, then 52/(52+34)=0.6 is the normalised frequency of A. \n",
    "\n",
    "\n",
    "\n",
    "### Preparing the data\n",
    "\n",
    "We are gonna load in the data. One continuous, one categorical and one ordinal.\n",
    "\n",
    "Next, we are gonna go through common charts one by one. For simplicity, we are gonna use the shortcut method.\n",
    "\n",
    "</div>"
   ]
  },
  {
   "cell_type": "markdown",
   "metadata": {},
   "source": [
    "\n",
    "\n",
    "__ | Name | Function | Key Arguments | Pandas example\n",
    "--- | --- | --- | --- | ---\n",
    "<img src=\"icons/singlevar1.png\" width=\"20%\" height=\"20%\" /> | [**Histogram**](https://matplotlib.org/api/_as_gen/matplotlib.pyplot.hist.html) | `hist()` | *x, bins* | `df.hist(bins=3)`\n",
    "<img src=\"icons/singlevar2.png\" width=\"20%\" height=\"20%\" /> | [**Box plot**](https://matplotlib.org/api/_as_gen/matplotlib.pyplot.boxplot.html) | `boxplot()` | *x* | `df.boxplot()`\n",
    "<img src=\"icons/singlevar3.png\" width=\"20%\" height=\"20%\" /> | [**Violin plot**](https://matplotlib.org/api/_as_gen/matplotlib.axes.Axes.violinplot.html) | `violinplot()` | *vpstats* | None\n",
    "<img src=\"icons/singlevar4.png\" width=\"20%\" height=\"20%\" /> | [**Scatter plot**](https://matplotlib.org/api/_as_gen/matplotlib.pyplot.scatter.html) | `scatter()` | *x, y* | `df.scatter(x,y)`\n"
   ]
  },
  {
   "cell_type": "markdown",
   "metadata": {},
   "source": [
    "#### Histograms\n",
    "\n",
    "<div \"style=\"width:500px;\">\n",
    "\n",
    "As we mentioned before, continuous values need to be binned before their frequency can be visualised. For continuous measures, this can be tricky, but thankfully the histogram function `hist` does this calculation for us. We simply state in an argument how many bins we desire, or leave it to default.\n",
    "\n",
    "Pandas = `df.hist(bins=50)'\n",
    "\n",
    "</div>"
   ]
  },
  {
   "cell_type": "code",
   "execution_count": 15,
   "metadata": {},
   "outputs": [
    {
     "data": {
      "text/plain": [
       "(array([13., 16.,  8.,  5., 12., 13.,  9.,  8.,  8.,  8.]),\n",
       " array([ 0. ,  9.7, 19.4, 29.1, 38.8, 48.5, 58.2, 67.9, 77.6, 87.3, 97. ]),\n",
       " <a list of 10 Patch objects>)"
      ]
     },
     "execution_count": 15,
     "metadata": {},
     "output_type": "execute_result"
    },
    {
     "data": {
      "image/png": "[encoded data removed]",
      "text/plain": [
       "<Figure size 432x288 with 1 Axes>"
      ]
     },
     "metadata": {
      "needs_background": "light"
     },
     "output_type": "display_data"
    }
   ],
   "source": [
    "### create some data\n",
    "pop = np.random.randint(0,100,100)\n",
    "\n",
    "fig = plt.figure()\n",
    "\n",
    "plt.hist(pop)"
   ]
  },
  {
   "cell_type": "markdown",
   "metadata": {},
   "source": [
    "For fun, let's customise a bit:"
   ]
  },
  {
   "cell_type": "code",
   "execution_count": 18,
   "metadata": {},
   "outputs": [
    {
     "data": {
      "text/plain": [
       "(array([ 5.,  8., 11.,  5.,  4.,  4.,  3.,  2.,  6.,  6.,  5.,  8.,  5.,\n",
       "         4.,  4.,  4.,  6.,  2.,  4.,  4.]),\n",
       " array([ 0.  ,  4.85,  9.7 , 14.55, 19.4 , 24.25, 29.1 , 33.95, 38.8 ,\n",
       "        43.65, 48.5 , 53.35, 58.2 , 63.05, 67.9 , 72.75, 77.6 , 82.45,\n",
       "        87.3 , 92.15, 97.  ]),\n",
       " <a list of 20 Patch objects>)"
      ]
     },
     "execution_count": 18,
     "metadata": {},
     "output_type": "execute_result"
    },
    {
     "data": {
      "image/png": "[encoded data removed]",
      "text/plain": [
       "<Figure size 432x288 with 1 Axes>"
      ]
     },
     "metadata": {
      "needs_background": "light"
     },
     "output_type": "display_data"
    }
   ],
   "source": [
    "plt.hist(pop, bins = 20, color = 'g', alpha=0.3)"
   ]
  },
  {
   "cell_type": "markdown",
   "metadata": {},
   "source": [
    "#### Dotplots"
   ]
  },
  {
   "cell_type": "code",
   "execution_count": null,
   "metadata": {},
   "outputs": [],
   "source": []
  },
  {
   "cell_type": "markdown",
   "metadata": {},
   "source": [
    "#### Scatter"
   ]
  },
  {
   "cell_type": "code",
   "execution_count": null,
   "metadata": {},
   "outputs": [],
   "source": []
  },
  {
   "cell_type": "markdown",
   "metadata": {},
   "source": [
    "#### Boxplot"
   ]
  },
  {
   "cell_type": "code",
   "execution_count": null,
   "metadata": {},
   "outputs": [],
   "source": []
  },
  {
   "cell_type": "markdown",
   "metadata": {},
   "source": [
    "#### Violin plots"
   ]
  },
  {
   "cell_type": "code",
   "execution_count": null,
   "metadata": {},
   "outputs": [],
   "source": []
  },
  {
   "cell_type": "markdown",
   "metadata": {},
   "source": [
    "### Categorical\n",
    "\n",
    "<div \"style=\"width:500px;\">\n",
    "\n",
    "#### Bar chart\n",
    "\n",
    "When the x-axis is categorical, it is appropriate to instead use a bar chart.\n",
    "\n",
    "Unlike hist, we cannot provide the raw data, but rather provide the frequency data. We use the `bar()` function. If we would like a horizontal bar chart, we use `barh()`.\n",
    "\n",
    "Later, we will learn about the importance of adding error bars to bar charts, which can be further customised. \n",
    "\n",
    "\n",
    "</div>"
   ]
  },
  {
   "cell_type": "code",
   "execution_count": 23,
   "metadata": {},
   "outputs": [
    {
     "data": {
      "text/plain": [
       "<matplotlib.legend.Legend at 0x22ee426d4e0>"
      ]
     },
     "execution_count": 23,
     "metadata": {},
     "output_type": "execute_result"
    },
    {
     "data": {
      "image/png": "[encoded data removed]",
      "text/plain": [
       "<Figure size 432x288 with 1 Axes>"
      ]
     },
     "metadata": {
      "needs_background": "light"
     },
     "output_type": "display_data"
    }
   ],
   "source": [
    "\n",
    "index = np.array([0,1,2,3,4])\n",
    "values = [5,7,3,4,6]\n",
    "plt.bar(index,values, label='Label')\n",
    "plt.xticks(index+0.4,['A','B','C','D','E'])\n",
    "plt.title('Bar chart')\n",
    "plt.legend(loc=2)"
   ]
  },
  {
   "cell_type": "markdown",
   "metadata": {},
   "source": []
  },
  {
   "cell_type": "code",
   "execution_count": null,
   "metadata": {},
   "outputs": [],
   "source": [
    "#index = np.arange(4)\n",
    "#series1 = np.array([3,4,5,3])\n",
    "#plt.barh(index,series1,color='r', bottom=series1)"
   ]
  },
  {
   "cell_type": "markdown",
   "metadata": {},
   "source": [
    "#### Pie charts"
   ]
  },
  {
   "cell_type": "code",
   "execution_count": null,
   "metadata": {},
   "outputs": [],
   "source": []
  },
  {
   "cell_type": "markdown",
   "metadata": {},
   "source": [
    "## Two variables, continuous\n",
    "\n",
    "\n",
    "\n",
    "### Scatterplots"
   ]
  },
  {
   "cell_type": "code",
   "execution_count": null,
   "metadata": {},
   "outputs": [],
   "source": [
    "ax2.scatter(np.arange(30), np.arange(30) + 3 * randn(30))"
   ]
  },
  {
   "cell_type": "markdown",
   "metadata": {},
   "source": [
    "Let's customise!"
   ]
  },
  {
   "cell_type": "markdown",
   "metadata": {},
   "source": [
    "### Plots\n",
    "\n",
    "<div \"style=\"width:500px;\">\n",
    "\n",
    "The general-purpose `plot`-function accepts arrays of X and Y coordinates. Between individual points, the function *interpolates* what should be in between. Beyond this you could specify things like color, marker (indicating dot-locations), drawstyle and linestyle.\n",
    "\n",
    "The Pandas version of this is `df.plot(kind='line')`\n",
    "\n",
    "</div>"
   ]
  },
  {
   "cell_type": "code",
   "execution_count": null,
   "metadata": {},
   "outputs": [],
   "source": [
    "ax.plot(x,y,linestyle='--', color='g')"
   ]
  },
  {
   "cell_type": "code",
   "execution_count": 30,
   "metadata": {},
   "outputs": [
    {
     "data": {
      "text/plain": [
       "<matplotlib.axes._subplots.AxesSubplot at 0x22ee63a8320>"
      ]
     },
     "execution_count": 30,
     "metadata": {},
     "output_type": "execute_result"
    },
    {
     "data": {
      "image/png": "[encoded data removed]",
      "text/plain": [
       "<Figure size 432x288 with 1 Axes>"
      ]
     },
     "metadata": {
      "needs_background": "light"
     },
     "output_type": "display_data"
    }
   ],
   "source": [
    "#REDO\n",
    "df = pd.DataFrame(np.random.randn(10,4).cumsum(0), columns=['A','B','C','D'], index=np.arange(0,100,10))\n",
    "df.plot()"
   ]
  }
 ],
 "metadata": {
  "kernelspec": {
   "display_name": "Python 3",
   "language": "python",
   "name": "python3"
  },
  "language_info": {
   "codemirror_mode": {
    "name": "ipython",
    "version": 3
   },
   "file_extension": ".py",
   "mimetype": "text/x-python",
   "name": "python",
   "nbconvert_exporter": "python",
   "pygments_lexer": "ipython3",
   "version": "3.7.1"
  }
 },
 "nbformat": 4,
 "nbformat_minor": 2
}
