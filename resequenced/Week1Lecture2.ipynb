{
 "cells": [
  {
   "cell_type": "markdown",
   "metadata": {},
   "source": [
    "# Going down to the cellular level: Indices\n",
    "\n",
    "So far we learned how to retrieve a column, now we can learn how to do that for a row. Remember that, if formatted according to conventions, a row represents a single observation. A single observation, we have seen, may be described in terms of many attributes. Each cell in that row encodes the value for the corresponding column's attribute.\n",
    "\n",
    "How can we refer to rows? Unsurprisingly, rows are numbered, or as it's called: *indexed*. **It is a quirk in computing that row numbers start with 0, not 1.** The first element in a list, for example, is list\\[0\\], not list\\[1\\], and if you wish to access the second-to-last element we can use negative indices, like list\\[-1\\]. \n",
    "\n",
    "You can also refer to a range of integers - for example, all those between 0 *inclusive* and *excluding* 18 - by using a colon such as *0:18*.\n",
    "\n",
    "\n",
    "| Attribute0        | Attribute1           | Attribute2  |\n",
    "| ------------- |:-------------:| -----:|\n",
    "| Row 0, Column 0      | Row 0, Column 1 | Row 0, Column 2 |\n",
    "| Row 1, Column 0      | Row 1, Column 1      |   Row 1, Column 2 |\n",
    "| Row 2, Coumn 0 | Row 2, Coumn 1 |   Row 2, Column 2 |\n",
    " \n",
    "\n",
    "The indices of a dataframe are stored as an object property and can be found by attaching *.index* to the dataframe variable. It's quite useful for learning about the dataframe's dimensions so you never try to access an element beyond that range. For example, if you try accessing the 7th element in a six-row dataframe, it will return the error *Index Error: list index out of range*.\n",
    "\n",
    "To select rows, we ultimately need to make use of panda functions. One option is to use **iloc[]** that uses integer positions to choose rows, as just discussed. For a single row, it neatly formats the attribute name to right and value to the right:"
   ]
  },
  {
   "cell_type": "code",
   "execution_count": 15,
   "metadata": {},
   "outputs": [
    {
     "name": "stdout",
     "output_type": "stream",
     "text": [
      "Year                       2000\n",
      "Count points                118\n",
      "Pedal Cycles               1829\n",
      "Motorcycles                4197\n",
      "Cars                     935727\n",
      "Buses and Coaches         19197\n",
      "Light Goods Vehicles     120022\n",
      "All HGVs                  72182\n",
      "All Motor Vehicles      1152324\n",
      "Name: 0, dtype: int64\n"
     ]
    }
   ],
   "source": [
    "import numpy as np\n",
    "import pandas as pd\n",
    "df = pd.read_csv(\"traffic_data_glasgow.csv\", sep=',')\n",
    "\n",
    "print (df.iloc[0]) #prints first row"
   ]
  },
  {
   "cell_type": "markdown",
   "metadata": {},
   "source": [
    "\n",
    "Now let's try the same thing for the range 0:2.\n",
    "\n",
    "### Before executing the code below, try predicting which rows will be printed out. The first row? The second? Both? And does the above format still work?\n"
   ]
  },
  {
   "cell_type": "code",
   "execution_count": 14,
   "metadata": {},
   "outputs": [
    {
     "name": "stdout",
     "output_type": "stream",
     "text": [
      "   Year  Count points  Pedal Cycles  Motorcycles    Cars  Buses and Coaches  \\\n",
      "0  2000           118          1829         4197  935727              19197   \n",
      "1  2001           118          1976         4495  950044              19698   \n",
      "\n",
      "   Light Goods Vehicles  All HGVs  All Motor Vehicles  \n",
      "0                120022     72182             1152324  \n",
      "1                125213     71345             1170794  \n"
     ]
    }
   ],
   "source": [
    "print (df.iloc[0:2])"
   ]
  },
  {
   "cell_type": "markdown",
   "metadata": {},
   "source": [
    "Alternatively the function **loc[]** retrieves rows based on labels for rows and/or columns. For example, df.loc[0:1]"
   ]
  },
  {
   "cell_type": "code",
   "execution_count": 16,
   "metadata": {},
   "outputs": [
    {
     "name": "stdout",
     "output_type": "stream",
     "text": [
      "   Year  Count points  Pedal Cycles  Motorcycles    Cars  Buses and Coaches  \\\n",
      "0  2000           118          1829         4197  935727              19197   \n",
      "1  2001           118          1976         4495  950044              19698   \n",
      "\n",
      "   Light Goods Vehicles  All HGVs  All Motor Vehicles  \n",
      "0                120022     72182             1152324  \n",
      "1                125213     71345             1170794  \n"
     ]
    }
   ],
   "source": [
    "\n",
    "print (df.loc[0:1])"
   ]
  },
  {
   "cell_type": "markdown",
   "metadata": {},
   "source": [
    "Dealing with row numbers feels a bit inconvenient however. It would be more natural to refer to rows using any unique identifier attribute, such as ID or Year. That way we could get all the rows encoding data between 2007 and 2010 without having to convert between row numbers and years.\n"
   ]
  },
  {
   "cell_type": "code",
   "execution_count": 3,
   "metadata": {},
   "outputs": [
    {
     "name": "stdout",
     "output_type": "stream",
     "text": [
      "      Count points  Pedal Cycles  Motorcycles     Cars  Buses and Coaches  \\\n",
      "Year                                                                        \n",
      "2000           118          1829         4197   935727              19197   \n",
      "2001           118          1976         4495   950044              19698   \n",
      "2002           118          2007         4771   975271              20767   \n",
      "2003           118          2141         5648   963936              19331   \n",
      "2004           118          1715         4354  1006914              16296   \n",
      "\n",
      "      Light Goods Vehicles  All HGVs  All Motor Vehicles  \n",
      "Year                                                      \n",
      "2000                120022     72182             1152324  \n",
      "2001                125213     71345             1170794  \n",
      "2002                127144     70991             1198946  \n",
      "2003                133488     71984             1194387  \n",
      "2004                141136     78108             1246808  \n"
     ]
    }
   ],
   "source": [
    "#set the index to be equal to the year column\n",
    "df = df.set_index('Year')\n",
    "print (df.head())"
   ]
  },
  {
   "cell_type": "markdown",
   "metadata": {},
   "source": [
    "\n",
    "\n",
    "### Get rows between 2010 and 2012 (including 2012)\n",
    "### In addition, to getting the entries between 2010 and 2012, include only the columns from Pedal Cycles to Cars\n",
    "### Find the min number of motorcyles between 2000 and 2005 (Hint: you should get 4174 as a min number of motorcycles between 2000 and 2005)"
   ]
  },
  {
   "cell_type": "code",
   "execution_count": 4,
   "metadata": {},
   "outputs": [
    {
     "ename": "AttributeError",
     "evalue": "'DataFrame' object has no attribute 'FUNCTION'",
     "output_type": "error",
     "traceback": [
      "\u001b[1;31m---------------------------------------------------------------------------\u001b[0m",
      "\u001b[1;31mAttributeError\u001b[0m                            Traceback (most recent call last)",
      "\u001b[1;32m<ipython-input-4-d4b81fca42a4>\u001b[0m in \u001b[0;36m<module>\u001b[1;34m()\u001b[0m\n\u001b[0;32m      1\u001b[0m \u001b[1;31m# entries between 2010 and 2012\u001b[0m\u001b[1;33m\u001b[0m\u001b[1;33m\u001b[0m\u001b[0m\n\u001b[1;32m----> 2\u001b[1;33m \u001b[0mprint\u001b[0m \u001b[1;33m(\u001b[0m\u001b[0mdf\u001b[0m\u001b[1;33m.\u001b[0m\u001b[0mFUNCTION\u001b[0m\u001b[1;33m[\u001b[0m\u001b[0mrow_range\u001b[0m\u001b[1;33m]\u001b[0m\u001b[1;33m)\u001b[0m\u001b[1;33m\u001b[0m\u001b[0m\n\u001b[0m\u001b[0;32m      3\u001b[0m \u001b[1;33m\u001b[0m\u001b[0m\n\u001b[0;32m      4\u001b[0m \u001b[1;31m#entries between 2010 and 2012\u001b[0m\u001b[1;33m\u001b[0m\u001b[1;33m\u001b[0m\u001b[0m\n\u001b[0;32m      5\u001b[0m \u001b[0mprint\u001b[0m \u001b[1;33m(\u001b[0m\u001b[0mdf\u001b[0m\u001b[1;33m.\u001b[0m\u001b[0mFUNCTION\u001b[0m\u001b[1;33m[\u001b[0m\u001b[0mrow_range\u001b[0m\u001b[1;33m,\u001b[0m\u001b[0mcolumn_range\u001b[0m\u001b[1;33m]\u001b[0m\u001b[1;33m)\u001b[0m\u001b[1;33m\u001b[0m\u001b[0m\n",
      "\u001b[1;32m~\\Anaconda3\\lib\\site-packages\\pandas\\core\\generic.py\u001b[0m in \u001b[0;36m__getattr__\u001b[1;34m(self, name)\u001b[0m\n\u001b[0;32m   4370\u001b[0m             \u001b[1;32mif\u001b[0m \u001b[0mself\u001b[0m\u001b[1;33m.\u001b[0m\u001b[0m_info_axis\u001b[0m\u001b[1;33m.\u001b[0m\u001b[0m_can_hold_identifiers_and_holds_name\u001b[0m\u001b[1;33m(\u001b[0m\u001b[0mname\u001b[0m\u001b[1;33m)\u001b[0m\u001b[1;33m:\u001b[0m\u001b[1;33m\u001b[0m\u001b[0m\n\u001b[0;32m   4371\u001b[0m                 \u001b[1;32mreturn\u001b[0m \u001b[0mself\u001b[0m\u001b[1;33m[\u001b[0m\u001b[0mname\u001b[0m\u001b[1;33m]\u001b[0m\u001b[1;33m\u001b[0m\u001b[0m\n\u001b[1;32m-> 4372\u001b[1;33m             \u001b[1;32mreturn\u001b[0m \u001b[0mobject\u001b[0m\u001b[1;33m.\u001b[0m\u001b[0m__getattribute__\u001b[0m\u001b[1;33m(\u001b[0m\u001b[0mself\u001b[0m\u001b[1;33m,\u001b[0m \u001b[0mname\u001b[0m\u001b[1;33m)\u001b[0m\u001b[1;33m\u001b[0m\u001b[0m\n\u001b[0m\u001b[0;32m   4373\u001b[0m \u001b[1;33m\u001b[0m\u001b[0m\n\u001b[0;32m   4374\u001b[0m     \u001b[1;32mdef\u001b[0m \u001b[0m__setattr__\u001b[0m\u001b[1;33m(\u001b[0m\u001b[0mself\u001b[0m\u001b[1;33m,\u001b[0m \u001b[0mname\u001b[0m\u001b[1;33m,\u001b[0m \u001b[0mvalue\u001b[0m\u001b[1;33m)\u001b[0m\u001b[1;33m:\u001b[0m\u001b[1;33m\u001b[0m\u001b[0m\n",
      "\u001b[1;31mAttributeError\u001b[0m: 'DataFrame' object has no attribute 'FUNCTION'"
     ]
    }
   ],
   "source": [
    "# entries between 2010 and 2012\n",
    "print (df.FUNCTION[row_range])\n",
    "\n",
    "#entries between 2010 and 2012\n",
    "print (df.FUNCTION[row_range,column_range])\n",
    "\n",
    "#min temperature for 2000\n",
    "print (df.loc[row_range, column].FUNCTION)"
   ]
  },
  {
   "cell_type": "markdown",
   "metadata": {},
   "source": [
    "# Ignoring the irrelevant: filters\n",
    "In our analysis often it's useful to know which entries satisfy a condition. For example, we might want to only look at dates with more than 120 count points. \n",
    "\n",
    "How to do that? Between the square brackets we need to put an expression that shows the condition that the value in the cell must satisfy. This is done using the logical operators == (equal to), <, >, =<, => and != (not equal to).\n",
    "\n",
    "Whenever you code an expression like **df['Count points']>120**, this returns a list of TRUE/FALSE values, one value for each element in that column. As you can imagine, it is TRUE if the condition is satisfied, and FALSE if it isn't. \n",
    "\n",
    "Once we have this list, we can use it as a specifications for what indices we wish to return. TRUE becomes \"include this\", FALSE \"ignore this\". For example:"
   ]
  },
  {
   "cell_type": "code",
   "execution_count": null,
   "metadata": {},
   "outputs": [],
   "source": [
    "below120 = df['Count points'] > 120\n",
    "\n",
    "dfCounting = df[below120]\n",
    "\n",
    "print (dfCounting.head())"
   ]
  },
  {
   "cell_type": "markdown",
   "metadata": {},
   "source": [
    "### Retrieve the entries for which the count points are exactly 118\n",
    "### Retrieve the entries for which the number of motorcycles is less than 4400\n",
    "\n",
    "Use the template below, if you wish. To spice it up, the \"getting the TRUE/FALSE list\" step is combined with the \"filter the rows\" step."
   ]
  },
  {
   "cell_type": "code",
   "execution_count": 6,
   "metadata": {},
   "outputs": [
    {
     "ename": "SyntaxError",
     "evalue": "invalid syntax (<ipython-input-6-6197d464da63>, line 2)",
     "output_type": "error",
     "traceback": [
      "\u001b[1;36m  File \u001b[1;32m\"<ipython-input-6-6197d464da63>\"\u001b[1;36m, line \u001b[1;32m2\u001b[0m\n\u001b[1;33m    dfPoints = df[df[COLUMN_NAME]CONDITION]\u001b[0m\n\u001b[1;37m                                         ^\u001b[0m\n\u001b[1;31mSyntaxError\u001b[0m\u001b[1;31m:\u001b[0m invalid syntax\n"
     ]
    }
   ],
   "source": [
    "#retrieveing entries with exactly 118 count points\n",
    "dfPoints = df[df[COLUMN_NAME]CONDITION]\n",
    "\n",
    "#entries with less than 4400 motorcycles counted\n",
    "dfMotorcycles = ...\n",
    "\n",
    "print(dfPoints.head())"
   ]
  },
  {
   "cell_type": "markdown",
   "metadata": {},
   "source": [
    "# Time to visualise: Linegraphs\n",
    "\n",
    "It is hard, if not impossible, to make a sensible visualisation out of data from 10 different attributes, so as we begin to visualise it, we initially settle for two. For now, let's settle for Cars and Year. \n",
    "\n",
    "The traffic data per year is a **time series** where data points are indexed **at equally spaced intervals**. Line charts are often the most common way of visualising time series. You have probably seen them in the news or in a PowerPoint presentation, with time at the X-axis and some changing quantity at the Y-axis. They are pervasive since humans are interested in understanding the past and using it to to predict the future.\n",
    "\n",
    "### Why should you only make a linegraph for time series data and not, for example, height and width?\n",
    "\n",
    "### Should you do linegraphs for whenever we study time as one variable? For example, if we study the relationship between physical exercise and sleep duration, is a linegraph appropriate?\n"
   ]
  },
  {
   "cell_type": "code",
   "execution_count": 19,
   "metadata": {},
   "outputs": [],
   "source": [
    "#X axis: plotting the time range\n",
    "x = df.index\n",
    "y = df['Cars']"
   ]
  },
  {
   "cell_type": "markdown",
   "metadata": {},
   "source": [
    "# Not as tricky as it looks like: Making graphs in Matplotlib \n",
    "\n",
    "To do this we must first import a library specialised for making plots, called **matplotlib.pyplot**. We use the library by first giving it a shorter alias. The exact syntax for how to string a line graph together can be overwhelming at first, but easy enough to tweak.\n",
    "\n",
    "* **Extract the data:** begin by saving the X elements and Y elements into lists.\n",
    "* **Set the stage for a plot:** To communicate the fact that you wish to plot these datasets as the X and Y axis, use the library's **plot** function, which does linegraphs. This won't immediately produce the plot, just sets the stage.\n",
    "* **Adjust options:** Before producing the plot, we have the opportunity to adjust things like axis labels and legends. We do this by again calling library functions, which will apply them to the plot we are preparing. To learn more about these, you can sefe the documentation online https://matplotlib.org/3.0.0/api/_as_gen/matplotlib.pyplot.plot.html#matplotlib.pyplot.plot.\n",
    "* **Produce the graph:** To make the graph appear, we write **plt.show()**. \n"
   ]
  },
  {
   "cell_type": "code",
   "execution_count": 20,
   "metadata": {},
   "outputs": [
    {
     "data": {
      "image/png": "[encoded data removed]",
      "text/plain": [
       "<Figure size 432x288 with 1 Axes>"
      ]
     },
     "metadata": {},
     "output_type": "display_data"
    }
   ],
   "source": [
    "\n",
    "import matplotlib.pyplot as plt #will use it to create charts\n",
    "\n",
    "\n",
    "#Set the stage for a plot\n",
    "plt.plot(x,y,label='Cars')\n",
    "\n",
    "\n",
    "\n",
    "#Adjust options\n",
    "plt.title(\"Traffic measurements between 2000 and 2017\")\n",
    "plt.xlabel('Year')\n",
    "plt.ylabel(\"Count\")\n",
    "plt.legend(loc='upper left')\n",
    "plt.xticks(np.arange(min(df.index), max(df.index)+1, 4))\n",
    "\n",
    "#Produce the graph\n",
    "plt.show()\n"
   ]
  },
  {
   "cell_type": "markdown",
   "metadata": {},
   "source": [
    "### Interpret the graph above. What has the trend been for the last 17 years in the number of cars? Is the change as dramatic as it seems or does the axes risk exaggerate it?\n",
    "\n",
    "### Create a line chart for 2 fields of your choice. You can also select a year range if you prefer."
   ]
  },
  {
   "cell_type": "code",
   "execution_count": 1,
   "metadata": {},
   "outputs": [
    {
     "ename": "SyntaxError",
     "evalue": "invalid syntax (<ipython-input-1-c81cbc29ba9e>, line 4)",
     "output_type": "error",
     "traceback": [
      "\u001b[1;36m  File \u001b[1;32m\"<ipython-input-1-c81cbc29ba9e>\"\u001b[1;36m, line \u001b[1;32m4\u001b[0m\n\u001b[1;33m    y = df[COLUMN NAME]\u001b[0m\n\u001b[1;37m                     ^\u001b[0m\n\u001b[1;31mSyntaxError\u001b[0m\u001b[1;31m:\u001b[0m invalid syntax\n"
     ]
    }
   ],
   "source": [
    "#X axis: plotting the time range\n",
    "x = df.index\n",
    "# y: number of vehicles\n",
    "y = df[COLUMN NAME]\n",
    "y1 = df[COLUMN NAME]\n",
    "plt.plot(x,y, label= SENSIBLE LEGEND LABEL)\n",
    "plt.plot(x,y1,label= SENSIBLE LEGEND LABEL)\n",
    "plt.xticks(np.arange(min(df.index), max(df.index)+1, 4))\n",
    "\n",
    "#code to set title and labels (see previous example)\n",
    "plt.title(...)\n",
    "plt.\n",
    "...\n",
    "plt.show()"
   ]
  }
 ],
 "metadata": {
  "kernelspec": {
   "display_name": "Python 3",
   "language": "python",
   "name": "python3"
  },
  "language_info": {
   "codemirror_mode": {
    "name": "ipython",
    "version": 3
   },
   "file_extension": ".py",
   "mimetype": "text/x-python",
   "name": "python",
   "nbconvert_exporter": "python",
   "pygments_lexer": "ipython3",
   "version": "3.6.5"
  }
 },
 "nbformat": 4,
 "nbformat_minor": 2
}
