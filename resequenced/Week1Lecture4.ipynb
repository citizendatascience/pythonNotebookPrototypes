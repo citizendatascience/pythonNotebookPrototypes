{
 "cells": [
  {
   "cell_type": "markdown",
   "metadata": {},
   "source": [
    "# Factorial data\n",
    "\n",
    "It is often the case that we wish to compare continuous data when the independent variable is categorical. For example:\n",
    "\n",
    "* How does height vary depending on gender?\n",
    "\n",
    "* How does income vary between two countries?\n",
    "\n",
    "* How does hospital stay vary depending on treatment A or B?\n",
    "\n",
    "The different options (A or B) are often referred to as \"levels\". Data from different levels are sometimes kept in separate files, but when merged together, the data frame would look something like this:\n",
    "\n",
    "| ID |  Level  |  Value  |\n",
    "|----|---------|---------|\n",
    "| 1  |  A      |   67.5  |\n",
    "| 2  |  B      |   54.3  |\n",
    "| 3  |  B      |   71.1  |\n",
    "\n",
    "\n"
   ]
  },
  {
   "cell_type": "markdown",
   "metadata": {},
   "source": [
    "---\n",
    "\n",
    "## Do men and women have different humour?\n",
    "\n",
    "For an example of this type of data, which is extremely common in the social sciences, consider gender differences in humour.\n",
    "\n",
    "How would you go about to measure humour? Asking people to perform a stand-up routine and rating their ability to deliver a punchline may be entertaining for the researcher, but not tell us about the role humour plays in our daily lives.\n",
    "\n",
    "There are plenty of stereotypes when it comes to humour, for example that women are self-deprecating while dads have a thing for clever puns - but do they hold up scientifically?\n",
    "\n",
    "For this purpose, a psychologist by the name of Rod Martin developed the Humor Styles Questionnaire (HSQ) in 2003 to measure how people employ humour. Martin then let around 1200 people (470 males, 725 females) answer the HSQ and collected their responses, which have been downloaded from [here](https://openpsychometrics.org/_rawdata/).\n",
    "\n",
    "![alt text](victorian_people_laughing.jpg \"Title\")\n",
    "\n",
    "The test measures four different styles, with 8 items for each: people with _affiliative_ humour use jokes and banter to be liked, those with _self-enhancing_ humour use it to cope psychologically; _self-defeating_ humour means using self-deprecation to be liked, and _aggressive_ humour is used to tease and ridicule. Respondents agree with each item on a scale of 1-5. Curious about your humour style? You can find a demo of the survey [here](https://www.psytoolkit.org/cgi-bin/psy2.4.1/survey?s=pgHAe\n",
    ").\n",
    "\n",
    "### Let's load the data!\n",
    "To prepare our analysis into gender differences, let's load the data and run the cell below. The raw CSV has a row for each subject, a column for each question, and a mean value for each style, which we will replace by a total value. Gender is encoded with 1 for male, 2 for female, and 3 for other.\n",
    "\n",
    "For example, subject 0 is a woman, with a total score of 32 in the affiliative questions. (NOTE TO SELF: why are some fractions????)"
   ]
  },
  {
   "cell_type": "code",
   "execution_count": 47,
   "metadata": {},
   "outputs": [
    {
     "data": {
      "text/html": [
       "<div>\n",
       "<style scoped>\n",
       "    .dataframe tbody tr th:only-of-type {\n",
       "        vertical-align: middle;\n",
       "    }\n",
       "\n",
       "    .dataframe tbody tr th {\n",
       "        vertical-align: top;\n",
       "    }\n",
       "\n",
       "    .dataframe thead th {\n",
       "        text-align: right;\n",
       "    }\n",
       "</style>\n",
       "<table border=\"1\" class=\"dataframe\">\n",
       "  <thead>\n",
       "    <tr style=\"text-align: right;\">\n",
       "      <th></th>\n",
       "      <th>affiliative</th>\n",
       "      <th>selfenhancing</th>\n",
       "      <th>agressive</th>\n",
       "      <th>selfdefeating</th>\n",
       "      <th>gender</th>\n",
       "    </tr>\n",
       "  </thead>\n",
       "  <tbody>\n",
       "    <tr>\n",
       "      <th>0</th>\n",
       "      <td>32.0</td>\n",
       "      <td>28.0</td>\n",
       "      <td>24.0</td>\n",
       "      <td>18.4</td>\n",
       "      <td>2</td>\n",
       "    </tr>\n",
       "    <tr>\n",
       "      <th>1</th>\n",
       "      <td>26.4</td>\n",
       "      <td>28.0</td>\n",
       "      <td>26.4</td>\n",
       "      <td>19.2</td>\n",
       "      <td>2</td>\n",
       "    </tr>\n",
       "    <tr>\n",
       "      <th>2</th>\n",
       "      <td>31.2</td>\n",
       "      <td>31.2</td>\n",
       "      <td>24.8</td>\n",
       "      <td>18.4</td>\n",
       "      <td>1</td>\n",
       "    </tr>\n",
       "    <tr>\n",
       "      <th>3</th>\n",
       "      <td>28.8</td>\n",
       "      <td>32.0</td>\n",
       "      <td>23.2</td>\n",
       "      <td>26.4</td>\n",
       "      <td>2</td>\n",
       "    </tr>\n",
       "    <tr>\n",
       "      <th>4</th>\n",
       "      <td>32.8</td>\n",
       "      <td>32.8</td>\n",
       "      <td>23.2</td>\n",
       "      <td>16.0</td>\n",
       "      <td>1</td>\n",
       "    </tr>\n",
       "  </tbody>\n",
       "</table>\n",
       "</div>"
      ],
      "text/plain": [
       "   affiliative  selfenhancing  agressive  selfdefeating  gender\n",
       "0         32.0           28.0       24.0           18.4       2\n",
       "1         26.4           28.0       26.4           19.2       2\n",
       "2         31.2           31.2       24.8           18.4       1\n",
       "3         28.8           32.0       23.2           26.4       2\n",
       "4         32.8           32.8       23.2           16.0       1"
      ]
     },
     "execution_count": 47,
     "metadata": {},
     "output_type": "execute_result"
    }
   ],
   "source": [
    "import numpy as np\n",
    "import matplotlib.pyplot as plt\n",
    "import pandas as pd\n",
    "import matplotlib.mlab as mlab\n",
    "\n",
    "#Read in file\n",
    "df = pd.read_csv('data.csv', usecols=['affiliative', 'selfenhancing', 'agressive', 'selfdefeating','gender'])\n",
    "\n",
    "\n",
    "#Cells give mean response. To get a total, multiply each by 8\n",
    "df['affiliative'] = df['affiliative'] * 8\n",
    "df['selfenhancing'] = df['selfenhancing'] * 8\n",
    "df['agressive'] = df['agressive'] * 8\n",
    "df['selfdefeating'] = df['selfdefeating'] * 8\n",
    "\n",
    "\n",
    "df.head()"
   ]
  },
  {
   "cell_type": "markdown",
   "metadata": {},
   "source": [
    "### Let's choose the question!\n",
    "\n",
    "To keep it simple, let's focus on one style: aggressive humour. Do men employ that more than women?\n",
    "\n",
    "The first thing to do when dealing with continuous independent data observations is to get a sense of their distribution. What shape is it? Where is it clustered?\n",
    "\n",
    "For this we create a _histogram_ where we plot each possible response value against its frequency (using **density = False**). Notice that, because our data is continuous, we will have to split into bins. The **bins='auto'** option does this automatically for us."
   ]
  },
  {
   "cell_type": "code",
   "execution_count": 78,
   "metadata": {},
   "outputs": [
    {
     "data": {
      "image/png": "[encoded data removed]",
      "text/plain": [
       "<Figure size 432x288 with 2 Axes>"
      ]
     },
     "metadata": {},
     "output_type": "display_data"
    }
   ],
   "source": [
    "## histogram\n",
    "\n",
    "fig, axs = plt.subplots(1, 2, sharey=True)\n",
    "\n",
    "female = df['gender'] == 2\n",
    "male = df['gender'] == 1\n",
    "\n",
    "male_agg = df[male]['agressive']\n",
    "female_agg = df[female]['agressive']\n",
    "\n",
    "axs[0].hist(male_agg, bins='auto', density=False)\n",
    "axs[0].set_title(\"Aggressive humour among males\")\n",
    "axs[0].set_ylim(0,145)\n",
    "axs[0].set_xlim(0,64)\n",
    "\n",
    "axs[1].hist(female_agg, bins='auto', density=False)\n",
    "axs[1].set_title(\"Aggressive humour among females\")\n",
    "axs[1].set_ylim(0,145)\n",
    "axs[1].set_xlim(0,64)\n",
    "\n",
    "plt.show()                                        ####NOTE TO SELF: ALIGN Y-AXES\n"
   ]
  },
  {
   "cell_type": "markdown",
   "metadata": {},
   "source": [
    "##  Is it bell-shaped?\n",
    "\n",
    "\n",
    "When exploring its shape, there is one issue were are particularly interested in: is it _normally distributed_ or not? \n",
    "\n",
    "According to a fundamental law in statistics, known as the _Central Limit Theorem_, when an outcome is the sum of many independent causes, that outcome becomes normally distributed. That is why, in Nature, normal distributions (or \"bell curves\") are pervasive, but by no means universal.\n",
    "\n",
    "The bell curve has many elegant properties. **Its mean, mode and median are all the same**, and because all values cluster tightly around it, they all summarise the distribution very well.\n",
    "\n",
    "Because many different causes are likely to influence humour style, we have reason to believe it is normally distributed, however the bell shape normally appears only in large samples. \n",
    "\n",
    "**If our sample is _not_ normal (it is _skewed_), the mean would no longer be representative of a \"typical\" value, and we are better off with the median instead.**\n",
    "\n",
    "Many data scientists decide whether it is normal using only their eyes, although there are fancy tests available to decide for us. Here, we use our eyes. Does it look bell-shaped to you?\n",
    "\n",
    "(The code below generates a bell shaped curve where y-axis gives the probability density. Don't worry too much about it for now).\n"
   ]
  },
  {
   "cell_type": "code",
   "execution_count": 79,
   "metadata": {},
   "outputs": [
    {
     "data": {
      "image/png": "[encoded data removed]",
      "text/plain": [
       "<Figure size 432x288 with 1 Axes>"
      ]
     },
     "metadata": {},
     "output_type": "display_data"
    },
    {
     "data": {
      "image/png": "[encoded data removed]",
      "text/plain": [
       "<Figure size 432x288 with 1 Axes>"
      ]
     },
     "metadata": {},
     "output_type": "display_data"
    }
   ],
   "source": [
    "## bell overlap\n",
    "import scipy.stats\n",
    "\n",
    "fig, ax = plt.subplots()\n",
    "\n",
    "\n",
    "n, bins, patches = ax.hist(male_agg, bins='auto', density=True)\n",
    "ax.set_title(\"Aggressive humour among males\")\n",
    "\n",
    "\n",
    "###don't worry about this now\n",
    "mu = np.mean(male_agg)\n",
    "sigma = np.std(male_agg)\n",
    "\n",
    "y = scipy.stats.norm.pdf(bins, mu, sigma)\n",
    "ax.plot(bins, y, '--')\n",
    "\n",
    "fig.tight_layout() \n",
    "plt.show()   \n",
    "###############################################################\n",
    "fig, ax = plt.subplots()\n",
    "\n",
    "\n",
    "n, bins, patches = ax.hist(female_agg, bins='auto', density=True)\n",
    "ax.set_title(\"Aggressive humour among females\")\n",
    "\n",
    "###don't worry about this now\n",
    "mu = np.mean(female_agg)\n",
    "sigma = np.std(female_agg)\n",
    "\n",
    "y = scipy.stats.norm.pdf(bins, mu, sigma)\n",
    "ax.plot(bins, y, '--')\n",
    "\n",
    "fig.tight_layout() \n",
    "plt.show()                                        ###NOTE TO SELF: ALIGN X-AXES\n"
   ]
  },
  {
   "cell_type": "markdown",
   "metadata": {},
   "source": [
    "## Central tendency\n",
    "\n",
    "If you agree that it looks bell-shaped, then let's calculate the mean and median. It is common to report both. \n",
    "\n"
   ]
  },
  {
   "cell_type": "code",
   "execution_count": 86,
   "metadata": {},
   "outputs": [
    {
     "name": "stdout",
     "output_type": "stream",
     "text": [
      "Male mean: 23.50567986230631\n",
      "Female mean: 23.845702306079637\n",
      "Male median: 24.0\n",
      "Female median: 23.2\n"
     ]
    }
   ],
   "source": [
    "## Central tendency\n",
    "female_agg_mean = np.mean(female_agg)\n",
    "male_agg_mean = np.mean(male_agg)\n",
    "\n",
    "female_agg_median = np.median(female_agg)\n",
    "male_agg_median = np.median(male_agg)\n",
    "\n",
    "print(\"Male mean: \" + str(male_agg_mean))\n",
    "print(\"Female mean: \" + str(female_agg_mean)) \n",
    "\n",
    "print(\"Male median: \" + str(male_agg_median) )\n",
    "print(\"Female median: \" + str(female_agg_median ))\n"
   ]
  },
  {
   "cell_type": "markdown",
   "metadata": {},
   "source": [
    "## Spread\n",
    "\n",
    "Unless we additionally report the spread of the distribution - how much variation it contains - we don't know how useful the median is. If it is very widely spread, the mean is of only limited use. To accompany the mean, we calculate **standard deviation**.\n",
    "\n",
    "Similarly, to accompany the median, the calculate the **interquartile range**."
   ]
  },
  {
   "cell_type": "code",
   "execution_count": 87,
   "metadata": {},
   "outputs": [
    {
     "name": "stdout",
     "output_type": "stream",
     "text": [
      "Male standard deviation: 3.328102646075253\n",
      "Female standard deviation: 3.238397670966247\n",
      "Male IQ: 3.328102646075253\n",
      "Female IQR: 3.238397670966247\n"
     ]
    }
   ],
   "source": [
    "## spread\n",
    "\n",
    "female_agg_std = np.std(female_agg)\n",
    "male_agg_std = np.std(male_agg)\n",
    "\n",
    "female_agg_iqr = scipy.stats.iqr(female_agg)\n",
    "male_agg_iqr = scipy.stats.iqr(female_agg)\n",
    "\n",
    "print(\"Male standard deviation: \" + str(male_agg_std))\n",
    "print(\"Female standard deviation: \" + str(female_agg_std)) \n",
    "\n",
    "print(\"Male IQ: \" + str(male_agg_std) )\n",
    "print(\"Female IQR: \" + str(female_agg_std ))"
   ]
  },
  {
   "cell_type": "markdown",
   "metadata": {},
   "source": [
    "## Summarising a distribution\n",
    "\n",
    "A histogram, however, is not succinct enough when we wish to compare the key features - namely, central tendency and spread - between two distributions. For this, we require bar chart. This visually summarises the two means and standard deviations.\n",
    "\n",
    "### Bar plots"
   ]
  },
  {
   "cell_type": "code",
   "execution_count": 89,
   "metadata": {},
   "outputs": [
    {
     "data": {
      "image/png": "[encoded data removed]",
      "text/plain": [
       "<Figure size 432x288 with 1 Axes>"
      ]
     },
     "metadata": {},
     "output_type": "display_data"
    }
   ],
   "source": [
    "## bar plot\n",
    "\n",
    "genders = ['Female', 'Male']\n",
    "CTEs = [female_agg_mean, male_agg_mean]\n",
    "error = [female_agg_std, male_agg_std]\n",
    "x_pos = np.arange(len(genders))\n",
    "# Build the plot\n",
    "fig, ax = plt.subplots()\n",
    "ax.bar(x_pos, CTEs, yerr=error, align='center', alpha=0.5, ecolor='black', capsize=10)\n",
    "ax.set_ylabel('Aggression mean response')\n",
    "ax.set_xticks(x_pos)\n",
    "ax.set_xticklabels(genders)\n",
    "ax.set_title('Gender differences in aggressive humour')\n",
    "ax.yaxis.grid(False)\n",
    "\n",
    "# Save the figure and show\n",
    "plt.tight_layout()\n",
    "plt.show()"
   ]
  },
  {
   "cell_type": "markdown",
   "metadata": {},
   "source": [
    "### Box-and-whisker plot\n",
    "Correspondingly, we wish to summarise the medians and interquartile ranges, using a box-and-whisker plot. This allows us to more clearly spot outliers. "
   ]
  },
  {
   "cell_type": "code",
   "execution_count": 96,
   "metadata": {},
   "outputs": [
    {
     "data": {
      "image/png": "[encoded data removed]",
      "text/plain": [
       "<Figure size 432x288 with 1 Axes>"
      ]
     },
     "metadata": {},
     "output_type": "display_data"
    }
   ],
   "source": [
    "## box-and-whisker plot\n",
    "fig, ax = plt.subplots()\n",
    "\n",
    "ax.boxplot([female_agg, male_agg])\n",
    "ax.set_xticks(x_pos + 1)\n",
    "ax.set_xticklabels(genders)\n",
    "ax.set_title('Gender differences in aggressive humour')\n",
    "\n",
    "plt.tight_layout()\n",
    "plt.show()"
   ]
  },
  {
   "cell_type": "markdown",
   "metadata": {},
   "source": [
    "--- \n",
    "---\n",
    "\n",
    "# Now it is up to you!\n",
    "\n",
    "The culmination of this analysis is usually to perform a statistical significance test, in this case a t-test, to see how frequently this happens as a result of chance. But let us now decide based on our descriptive data: do men have a more aggressive humour? \n",
    "\n",
    "What is the case for self-defeating humour? \n",
    "\n",
    "If you want to read the original analysis, you can find it [here](https://www.sciencedirect.com/science/article/pii/S0092656602005342)."
   ]
  },
  {
   "cell_type": "code",
   "execution_count": null,
   "metadata": {},
   "outputs": [],
   "source": []
  }
 ],
 "metadata": {
  "kernelspec": {
   "display_name": "Python 3",
   "language": "python",
   "name": "python3"
  },
  "language_info": {
   "codemirror_mode": {
    "name": "ipython",
    "version": 3
   },
   "file_extension": ".py",
   "mimetype": "text/x-python",
   "name": "python",
   "nbconvert_exporter": "python",
   "pygments_lexer": "ipython3",
   "version": "3.6.5"
  }
 },
 "nbformat": 4,
 "nbformat_minor": 2
}
