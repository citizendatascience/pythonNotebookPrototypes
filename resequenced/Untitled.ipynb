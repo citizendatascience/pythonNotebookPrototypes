{
 "cells": [
  {
   "cell_type": "code",
   "execution_count": 6,
   "metadata": {},
   "outputs": [
    {
     "data": {
      "text/plain": [
       "([<matplotlib.patches.Wedge at 0x1ccc3c4cb00>,\n",
       "  <matplotlib.patches.Wedge at 0x1ccc3c560b8>,\n",
       "  <matplotlib.patches.Wedge at 0x1ccc3c56588>,\n",
       "  <matplotlib.patches.Wedge at 0x1ccc3c56a58>],\n",
       " [Text(1.0461621663333946, 0.3399186987098808, 'A'),\n",
       "  Text(0.33991867422268784, 1.0461621742897658, 'B'),\n",
       "  Text(-1.0461621902025062, 0.3399186252483017, 'C'),\n",
       "  Text(0.3399188211458418, -1.0461621265515308, 'D')])"
      ]
     },
     "execution_count": 6,
     "metadata": {},
     "output_type": "execute_result"
    },
    {
     "data": {
      "image/png": "[encoded data removed]",
      "text/plain": [
       "<Figure size 432x288 with 1 Axes>"
      ]
     },
     "metadata": {},
     "output_type": "display_data"
    }
   ],
   "source": [
    "import matplotlib.pyplot as plt\n",
    "\n",
    "values = [5, 10, 15, 20]\n",
    "labels = ['A','B','C','D']\n",
    "colors = ['red','green','blue','yellow']\n",
    "plt.pie(values,labels=labels,colors=colors)\n",
    "#plt.axis('equal')"
   ]
  },
  {
   "cell_type": "code",
   "execution_count": null,
   "metadata": {},
   "outputs": [],
   "source": []
  },
  {
   "cell_type": "code",
   "execution_count": null,
   "metadata": {},
   "outputs": [],
   "source": []
  }
 ],
 "metadata": {
  "kernelspec": {
   "display_name": "Python 3",
   "language": "python",
   "name": "python3"
  },
  "language_info": {
   "codemirror_mode": {
    "name": "ipython",
    "version": 3
   },
   "file_extension": ".py",
   "mimetype": "text/x-python",
   "name": "python",
   "nbconvert_exporter": "python",
   "pygments_lexer": "ipython3",
   "version": "3.7.1"
  }
 },
 "nbformat": 4,
 "nbformat_minor": 2
}
