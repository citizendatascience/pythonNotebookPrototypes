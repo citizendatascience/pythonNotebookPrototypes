{
 "cells": [
  {
   "cell_type": "markdown",
   "metadata": {},
   "source": [
    "# The things in memory: Variables\n",
    "\n",
    "### Real-life variables  \n",
    "<img src=\"variable.png\" alt=\"Variables\" style=\"width:50%;height:50%;float:right;\"> \n",
    "<p> <b> Chances are that you already have done data processing at some point in your life. </b>\n",
    "    \n",
    " You have maybe calculated how much money you spent on a holiday, or did notches in the door frame to track your own growth spurt. </p> \n",
    "\n",
    "    \n",
    "<p> Suppose that we wish to count the number of female surgeons in Glasgow using pen and paper. </p>\n",
    "\n",
    "<p> Most likely you would try to make this problem more manageable by going through all the surgeons in a given hospital at a time.</p> \n",
    "\n",
    "<p> Then you would make a record of the number of female ones in that hospital, for example **Gartnavel Hospital = 14**, before moving on. <b>It almost serves like a resting-point: by storing it externally, you are relieved from having to keep every number in your own memory.</b> </p>\n",
    "\n",
    "<p> Eventually, you would sum the hospital sums together into one grand total.</p>"
   ]
  },
  {
   "cell_type": "markdown",
   "metadata": {},
   "source": [
    "### Programming variables\n",
    "\n",
    "<p>This idea of temporarily storing things before processing them further is central in programming. </p>\n",
    "    \n",
    "<p> When programming with Python, whenever we bring a new value into play and store that into memory, we decide on a label for it.<img src=\"bookwork.png\" alt=\"Variables\" style=\"width:50%;height:50%;float:right;\"> </p> \n",
    "\n",
    "<p> This label is called a <em>variable</em>. **Gartnavel Hospital** is an example of this. If a new female surgeon is hired tomorrow, we will have to revise our value to 15. Program variables can similarly be given new values.</p>\n",
    "\n",
    "<p>The rules for making a record is < variable name > = < value >.  Variable names can only contain letters, numbers and underscores, and by convention start with lowercase. Therefore we may write **gartnavel = 14**.  </p>\n",
    "    \n",
    "#### Execute the statement below to assign value 14 to the variable **gartnavel**:  "
   ]
  },
  {
   "cell_type": "code",
   "execution_count": null,
   "metadata": {},
   "outputs": [],
   "source": [
    "gartnavel = 14"
   ]
  },
  {
   "cell_type": "markdown",
   "metadata": {},
   "source": [
    "<img src=\"question.png\" alt=\"Variables\" style=\"width:10%;height:10%;float:left;\"> </p> \n",
    "### Which of the following are valid variable names:  Gartnavel Hospital, gartnavel2018, g@rtnavel, gartnavel_hospital, 2018gartnavel?\n"
   ]
  },
  {
   "cell_type": "markdown",
   "metadata": {},
   "source": [
    "### Variable types\n",
    "For Python to handle the values appropriately, you need to make sure it is of the right type. Python distinguishes between strings, like names, and numbers, like age. <p>**Strings** consist of characters, enclosed by quotation marks, like **name = \"Gartnavel\"**.</p> <p> When it is a number, it needs no quotation marks, but has to only include a number, like **age = 45.5**. Python distinguishes between whole numbers (integers) and decimals (\"doubles\") by putting a decimal afterwards. </p> <p> When it is a logical value (\"boolean\" in Python-ese), it is either True or False. Do remember the upper-case. </p>"
   ]
  },
  {
   "cell_type": "code",
   "execution_count": 3,
   "metadata": {},
   "outputs": [],
   "source": [
    "name = \"Gartnavel\"      #String\n",
    "age = 45                #Integer\n",
    "age = 45.5              #Double\n",
    "is_female = True        #Boolean"
   ]
  },
  {
   "cell_type": "markdown",
   "metadata": {},
   "source": [
    "# Doing things to variables: Computation\n",
    "\n",
    "Giving a value a label is known as an **assignment**. We don't have to explicitly specify a value: we could also give the label the result of some other processing.\n",
    "\n",
    "For example, Python can serve you well as a calculator. You have all the usual operators at your service: the right side of **result = 2*3 + 5*4** is 26. Asterisk * is used for multiplication, percentage sign for division.\n",
    "\n",
    "When you want to write a comment rather than executable code, we prefix that with a #. To print it out into the output, enclose by **print()**.\n",
    "\n",
    "<img src=\"calc.png\" alt=\"Variables\" style=\"width:50%;height:50%;\"> </p> \n",
    "\n",
    "#### By now we have enough knowledge to utilise Python as a regular calculator, except with variables instead of raw numbers. Run the following code to calculate the number of tenants per landlords in Fife: "
   ]
  },
  {
   "cell_type": "code",
   "execution_count": 4,
   "metadata": {},
   "outputs": [
    {
     "name": "stdout",
     "output_type": "stream",
     "text": [
      "Average number of tenants per landlord is 1.5958674641735806\n"
     ]
    }
   ],
   "source": [
    "nr_of_landlords = 57011\n",
    "\n",
    "nr_of_tenants = 90982\n",
    "\n",
    "avg_t_per_l = nr_of_tenants / nr_of_landlords #Note! The variable avg_t_per_l is a number\n",
    "\n",
    "print(\"Average number of tenants per landlord is \" + str(avg_t_per_l) ) \n",
    "#To print it, we need to convert it to a string"
   ]
  },
  {
   "cell_type": "markdown",
   "metadata": {},
   "source": [
    "\n",
    "# A world made up of kinds: Statistical attributes\n",
    "\n",
    "Seeing the world the way a data scientist sees it requires of you to put on a new pair of spectacles. Through these spectacles, any characteristic you are interested in - whether that be height, petal width, loudness, sadness, biological sex or the number of piano tuners in Scotland - is an **attribute**.\n",
    "\n",
    "Think of a attribute as a set of potential values. Height, width and loudness are physical and quantiative, **continuous** variable that may take up infinitely many values while number of piano tuners may be counted in whole numbers (it is **discrete**). Biological sex is not quantitative but rather **categorical** - either \"male\" or \"female\". \n",
    "\n",
    "<img src=\"question.png\" alt=\"Variables\" style=\"width:10%;height:10%;float:left;\"> </p> \n",
    "### Look around you and convert attributes around you into attributes. Take, for example, age, hometown, ID number, humidity and income. Are they numerical or categorical? Discrete or continuous? What is the difference between categorical and discrete?\n",
    "\n",
    "# Getting hold of the raw materials: CSV files\n",
    "\n",
    "Data therefore ultimately consists of variable-values. For example, you may have a list of the heights of all people in your class, a list of loudness estimates from football matches, a list of member of parliament members... All of these are **raw data**, because they list individual observations where each has a value out of the possible variable values.\n",
    "\n",
    "It is common practice to organise these observations such that each row represents one individual observation and every column represents a variable. For example, the first column may be \"id\". \n",
    "\n",
    "Below is an example of how we may organise data when the variables are id, age and physics grade. Note how the first row, called **headings**, *should* contain the variable names.\n",
    "\n",
    "| ID        | Age           | Physics grade  |\n",
    "| ------------- |:-------------:| -----:|\n",
    "| 1456      | 18 | \"A\" |\n",
    "| 1457      | 17      |   \"C\" |\n",
    "| 1458 | 17      |    \"B\" |\n",
    "\n",
    "<img src=\"question.png\" alt=\"Variables\" style=\"width:10%;height:10%;float:left;\"> </p> \n",
    "### Why do you think we did quotation marks around the grades? Was it necessary to make IDs numerical?\n",
    "\n",
    "<img src=\"import.png\" alt=\"csv\" style=\"width:50%;height:50%;\"> </p> \n",
    "\n",
    "These lists must come from somewhere. Perhaps it was you who dutifully asked classmates for their ages or noted down Member of Parliament sexes and put them into an Excel sheet. Perhaps administration staff had already put it in a database and all you had to do was to extract it. **Either way, you must convert it into a filetype that Python knows how to read.**\n",
    "\n",
    "The easiest way to do this as follows:\n",
    "\n",
    "1. _Obtain the data as a **CSV** file_. CSV stands for *Comma-Separated Values* and if you open you will find that, instead of a neat table of columns, the columns are suggested by simple comma signs.\n",
    "2. _Put it into the directory of your Python script_ \n",
    "3. _Have the program read in that file_\n",
    "\n",
    "For example, say you wish to open the file traffic_data_glasgow.csv. If you open this in a program like NotePad, you will find a jumble of letters:\n",
    "\n",
    "*Year,Count points,Pedal Cycles,MotorCycles,Cars,Buses and Coaches...\n",
    "2000,\" 118\",\"   1829\",\" 4197\",\"                     19197*\n",
    "\n",
    "Have a closer look and you will find that it is actually a table, and a program has all the information it needs in order to locate the rows and columns.\n",
    "\n",
    "Without getting bogged down in the specifics, let's have a look at an example below."
   ]
  },
  {
   "cell_type": "code",
   "execution_count": 2,
   "metadata": {},
   "outputs": [],
   "source": [
    "import pandas as pd  #Import a library full of relevant code that will help you later on\n",
    "\n",
    "df = pd.read_csv(\"traffic_data_glasgow.csv\", sep=',')\n"
   ]
  },
  {
   "cell_type": "markdown",
   "metadata": {},
   "source": [
    "# With a little help from others: Libraries and functions\n",
    "\n",
    "Let's parse the above program. The file containing the data we wish to read in is *traffic_data_glasgow.csv* and it is indeed a csv, as shown by the (.csv) extension. \n",
    "\n",
    "The code that we use to read the file is actually very complex and stored in other files called a **library**, but we can make use of it by simply loading in a library (called pandas) and *call* its **function** (run some of its code) called *read_csv( )*, into which we pass various specifications, such as the file name and the separator symbol.\n",
    "\n",
    "Try yourself! Read in a CSV file into Python - once through the portal, all kinds of magic can be done to it!"
   ]
  },
  {
   "cell_type": "markdown",
   "metadata": {},
   "source": [
    "# Playing with tables in Python: Dataframes\n",
    "\n",
    "We create a variable into which we store all the data we read in. How is it stored? Well, it's not quite a string or number - the type of Python variables we have dealt with so far, but a Python **object** called a **dataframe**.\n",
    "\n",
    "A dataframe is, quite simply, a table. We can access its values, change its values, summarise its values. \n",
    "\n",
    "For starters, let us see which headers it has.\n",
    "\n",
    "In the case you just read in we have a huge dataframe with 10 000+ rows and many columns, amd we wouldn't want to print it as we might end up feeling lost in all those numbers. \n",
    "\n",
    "What we could do instead is see what the columns are, then perhaps see the first few rows. \n",
    "\n",
    "We are going to use the following: \n",
    "* df.columns: a property (attribute) that gives us the name of the columns\n",
    "\n",
    "* df.head(): a function that gives us the first five rows\n",
    "\n",
    "These are functions where *df* is the name we gave our dataframe (this might be something else), and *.columns* is a property of the dataframe (thus no parantheses after it), while *.head()* is a **function**.\n",
    "\n",
    "These little magical expressions return a list. Unless we wrap it with a print-statement, that list will not be visible in our console. Have a go at it below.\n"
   ]
  },
  {
   "cell_type": "code",
   "execution_count": null,
   "metadata": {},
   "outputs": [],
   "source": [
    "#getting the columns of the dataframe\n",
    "print (df.columns)"
   ]
  },
  {
   "cell_type": "markdown",
   "metadata": {},
   "source": [
    "This function is very useful when we haven't seen the data file beforehand. Perhaps we just downloaded it on Internet and have no insight into its structure yet, or perhaps we couldn't remember the attribute (column) names. To remind yourself, print them out, and do remember that names are case-sensitive. \"Cars\" is *not* the same as \"cars\"."
   ]
  },
  {
   "cell_type": "code",
   "execution_count": null,
   "metadata": {},
   "outputs": [],
   "source": [
    "print (df.head())"
   ]
  },
  {
   "cell_type": "markdown",
   "metadata": {},
   "source": [
    "### Exploring the attributes \n",
    "We may also want to show all the values in a particular column, for example all the ages in the Age variable. To do this, we simply need to plug the name into a pair of square brackets and join that to the dataframe. So for example, we could write *print(   df[\"Cars\"])* . Even now we use quotation marks around the variable name, since it is a string."
   ]
  },
  {
   "cell_type": "code",
   "execution_count": 3,
   "metadata": {},
   "outputs": [
    {
     "name": "stdout",
     "output_type": "stream",
     "text": [
      "0      935727\n",
      "1      950044\n",
      "2      975271\n",
      "3      963936\n",
      "4     1006914\n",
      "5     1004468\n",
      "6     1010355\n",
      "7     1015887\n",
      "8     1023497\n",
      "9     1044660\n",
      "10    1028489\n",
      "11    1030061\n",
      "12    1090425\n",
      "13    1121681\n",
      "14    1121856\n",
      "15    1108334\n",
      "16    1135713\n",
      "17    1132339\n",
      "Name: Cars, dtype: int64\n"
     ]
    }
   ],
   "source": [
    "print(df[\"Cars\"])"
   ]
  },
  {
   "cell_type": "markdown",
   "metadata": {},
   "source": [
    "The list of values in an attribute that we just obtained has statistical properties just like any list. It may have a minimum number or a maximum number. To do that, we simply chain another function on top, simply named *.min()* and *.max()*.\n",
    "\n"
   ]
  },
  {
   "cell_type": "code",
   "execution_count": null,
   "metadata": {},
   "outputs": [],
   "source": [
    "count_points = df['Count points']\n",
    "\n",
    "count_points_min = count_points.min()\n",
    "\n",
    "print (count_points_min)"
   ]
  },
  {
   "cell_type": "markdown",
   "metadata": {},
   "source": [
    "We can do the same thing for max, except in a single row."
   ]
  },
  {
   "cell_type": "code",
   "execution_count": null,
   "metadata": {},
   "outputs": [],
   "source": [
    "print (df['Count points'].max())"
   ]
  },
  {
   "cell_type": "markdown",
   "metadata": {},
   "source": [
    "We printed out two values but those numbers don't really mean much. That's why it's useful to add meaningful print messages. In order to do this we need to cast those numbers to strings in order to concatenate them with some meaningful text. \n",
    "\n",
    "Also, let's chain the operations into one."
   ]
  },
  {
   "cell_type": "code",
   "execution_count": null,
   "metadata": {},
   "outputs": [],
   "source": [
    "print(str(df['Count points'].min()) + \" is the min number of count points\" )"
   ]
  },
  {
   "cell_type": "markdown",
   "metadata": {},
   "source": [
    "# Your turn:\n",
    "Based on the concepts covered so far, complete the following exercises. Sceleton code is provided below\n",
    "\n",
    "1. Retrieve the column where the cars stats are stored\n",
    "2. What's the minimum number of cars recorded over the years? \n",
    "3. What's the maximum number of cars recorded? \n",
    "\n"
   ]
  },
  {
   "cell_type": "code",
   "execution_count": 4,
   "metadata": {},
   "outputs": [
    {
     "ename": "SyntaxError",
     "evalue": "invalid syntax (<ipython-input-4-5ad32915c871>, line 2)",
     "output_type": "error",
     "traceback": [
      "\u001b[1;36m  File \u001b[1;32m\"<ipython-input-4-5ad32915c871>\"\u001b[1;36m, line \u001b[1;32m2\u001b[0m\n\u001b[1;33m    carsColumn = df[INSERT LABEL NAME HERE]\u001b[0m\n\u001b[1;37m                               ^\u001b[0m\n\u001b[1;31mSyntaxError\u001b[0m\u001b[1;31m:\u001b[0m invalid syntax\n"
     ]
    }
   ],
   "source": [
    "#create a variable where to store the column with header \"cars\"\n",
    "carsColumn = df[INSERT LABEL NAME HERE]\n",
    "\n",
    "#variable to store the min of cars\n",
    "carsMin = df['LABEL'].FUNCTION\n",
    "print()\n",
    "\n",
    "#variable to store the max of cars\n",
    "carsMax = df[LABEL].FUNCTION\n",
    "print()"
   ]
  },
  {
   "cell_type": "code",
   "execution_count": null,
   "metadata": {},
   "outputs": [],
   "source": []
  }
 ],
 "metadata": {
  "kernelspec": {
   "display_name": "Python 3",
   "language": "python",
   "name": "python3"
  },
  "language_info": {
   "codemirror_mode": {
    "name": "ipython",
    "version": 3
   },
   "file_extension": ".py",
   "mimetype": "text/x-python",
   "name": "python",
   "nbconvert_exporter": "python",
   "pygments_lexer": "ipython3",
   "version": "3.6.6"
  }
 },
 "nbformat": 4,
 "nbformat_minor": 2
}
