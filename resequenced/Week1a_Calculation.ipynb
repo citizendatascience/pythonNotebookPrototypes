{
 "cells": [
  {
   "cell_type": "markdown",
   "metadata": {},
   "source": [
    "# The Big Picture\n",
    "\n",
    "<div \"style=\"width:500px;\">\n",
    "\n",
    "\n",
    "<p>Before we begin mining data for the betterment of the world, we should take a minute to reflect on what programming is really about.</p>\n",
    "\n",
    "<p>Programming is about telling the computer to do tedious, repetitive things that we personally would rather not do.</p>\n",
    "\n",
    "<p>Anything a computer can do, we could <i>choose</i> to do with paper and pencil, and vice versa.</p>\n",
    "\n",
    "<p>In fact, chances are that you already have done data processing at some point, such as calculating how much you spent during a holiday. When it comes to calculating how much you spent during a <i>year</i>, it is worth offloading all those calculations to a computer.</p>\n",
    "\n",
    "</div>\n",
    "<img src=\"programming.png\" alt=\"Variables\" style=\"width:50%;height:55%;float:right;\">\n",
    "\n",
    "### Hand-calculation versus programming\n",
    "\n",
    "<div \"style=\"width:500px;\">\n",
    "\n",
    "<p> Consider how you would do the following by hand: you have a table with all surgeons in Glasgow, and you want to figure out what proportion of all female surgeons work at Gartnavel Hospital.</p>\n",
    "\n",
    "\n",
    "<p> You would probably do something like: </p> \n",
    "\n",
    "1. Count all the rows that has gender as value F and hospital as Gartnavel\n",
    "\n",
    "2. Write down this number so you don't forget\n",
    "\n",
    "3. Count all the rows that has gender as value F\n",
    "\n",
    "4. Write it down\n",
    "\n",
    "5. Calculate the ratio\n",
    "\n",
    "Just like how you would repeatedly write things down externally, a computer program works by doing simple operations and storing the result in a **variable**. In other words, we save a value by giving it a memorable name.\n",
    "\n",
    "This is useful, because it means that we can express our steps in terms of those names, and then simply look up their actual values.\n",
    "\n",
    "Without further ado, let's have a look at the Python code below, and you might be shocked to discover just how intuitive programming can be.\n",
    "</div>"
   ]
  },
  {
   "cell_type": "code",
   "execution_count": 2,
   "metadata": {},
   "outputs": [
    {
     "name": "stdout",
     "output_type": "stream",
     "text": [
      "0.208955223880597\n"
     ]
    }
   ],
   "source": [
    "gartnavel = 14\n",
    "total = 67\n",
    "ratio = gartnavel / total\n",
    "\n",
    "print(ratio)"
   ]
  },
  {
   "cell_type": "markdown",
   "metadata": {},
   "source": [
    "<div \"style=\"width:500px;\">\n",
    "\n",
    "<p>This idea of temporarily storing things before processing them further is central in programming. </p>\n",
    "    \n",
    "<p> When programming with Python, whenever we bring a new value into play and assign it a label, we are free to revise the value later:\n",
    "    \n",
    "</div>"
   ]
  },
  {
   "cell_type": "code",
   "execution_count": 3,
   "metadata": {},
   "outputs": [
    {
     "name": "stdout",
     "output_type": "stream",
     "text": [
      "16\n"
     ]
    }
   ],
   "source": [
    "gartnavel = 14\n",
    "gartnavel = 16\n",
    "\n",
    "print(gartnavel)"
   ]
  },
  {
   "cell_type": "markdown",
   "metadata": {},
   "source": [
    "<div \"style=\"width:500px;\">\n",
    "It may also be that we forgot one surgeon and need to add 1 to the ` gartnavel` variable.\n",
    "\n",
    "Here, the `gartnavel` variable is given the *old* value (left side means it is old) plus one. When ` gartnavel` is referenced later it will have the new value.\n",
    "\n",
    "</div>"
   ]
  },
  {
   "cell_type": "code",
   "execution_count": null,
   "metadata": {},
   "outputs": [],
   "source": [
    "gartnavel = 14\n",
    "gartnavel = gartnavel + 1\n",
    "\n",
    "print(gartnavel)"
   ]
  },
  {
   "cell_type": "markdown",
   "metadata": {},
   "source": [
    "### Variable syntax\n",
    "\n",
    "<div \"style=\"width:500px;\">\n",
    "There are some rules for variable assignments. Variable names must start with a letter (by convention lower case) and can only contain letters, numbers and underscores. Therefore we may write `gartnavel = 14`, but not `Gartnavel Hospital = 14`, not `g@rtnavel = 14` and certainly not `2019gartnavel = 14`. \n",
    "\n",
    "Python has strict rules for everything in order for the computer to be able to unambiguously interpret it. When violated, it results in **syntax errors**.\n",
    "\n",
    "See for yourself what happens:\n",
    "</div>"
   ]
  },
  {
   "cell_type": "code",
   "execution_count": 5,
   "metadata": {},
   "outputs": [
    {
     "ename": "SyntaxError",
     "evalue": "invalid syntax (<ipython-input-5-3fad73510cdf>, line 1)",
     "output_type": "error",
     "traceback": [
      "\u001b[1;36m  File \u001b[1;32m\"<ipython-input-5-3fad73510cdf>\"\u001b[1;36m, line \u001b[1;32m1\u001b[0m\n\u001b[1;33m    2019gartnavel = 14\u001b[0m\n\u001b[1;37m                ^\u001b[0m\n\u001b[1;31mSyntaxError\u001b[0m\u001b[1;31m:\u001b[0m invalid syntax\n"
     ]
    }
   ],
   "source": [
    "2019gartnavel = 14\n",
    "\n"
   ]
  },
  {
   "cell_type": "markdown",
   "metadata": {},
   "source": [
    "### Other operators\n",
    "\n",
    "<div \"style=\"width:500px;\">\n",
    "\n",
    "Python, by the way, has built into it all the operators you would find in a calculator (`+`,`-`,`*`,`/`,`%`, `**`). Don't worry about any whitespace (Python ignores them) and add parantheses as you see fit as long as you close them.\n",
    "\n",
    "Also note that you can add comments using the hash-symbol (`#`) for messages that are useful for the programmer (yourself) but not part of the program logic.\n",
    "\n",
    "</div>"
   ]
  },
  {
   "cell_type": "code",
   "execution_count": 10,
   "metadata": {},
   "outputs": [
    {
     "name": "stdout",
     "output_type": "stream",
     "text": [
      "40\n"
     ]
    }
   ],
   "source": [
    "a = 3\n",
    "b = 4\n",
    "\n",
    "sum = a + b\n",
    "product = a * b\n",
    "ratio = a / b\n",
    "remainder =  a % b \n",
    "exponent =  a ** b \n",
    "\n",
    "combo = (( a * b ) * a ) + b\n",
    "print(combo) #Try out the others"
   ]
  },
  {
   "cell_type": "markdown",
   "metadata": {},
   "source": [
    "### Variable types\n",
    "\n",
    "<div \"style=\"width:500px;\">\n",
    "\n",
    "Here's another thing. Python's functionality goes way beyond that of a normal calculator, because it can also deal with **strings**. Strings consist of characters, enclosed by quotation marks, like `name = \"Gartnavel\"`. The quotation marks are important, because they allow Python to distinguish between numbers-as-string (`a = '3'`) and numbers-as-numbers (`a = 3`).\n",
    "\n",
    "Why are strings useful? Many programming tasks involve processing and producing text. For example, we may want to glue two strings together (*concatenate* them). Then we could actually use the `+` operator for this.\n",
    "\n",
    "</div>"
   ]
  },
  {
   "cell_type": "code",
   "execution_count": 12,
   "metadata": {},
   "outputs": [
    {
     "name": "stdout",
     "output_type": "stream",
     "text": [
      "Peter Jones\n"
     ]
    }
   ],
   "source": [
    "name = 'Peter'\n",
    "surname = 'Jones'\n",
    "\n",
    "fullname = name + ' ' + surname  #Note the blank space in between\n",
    "print(fullname)"
   ]
  },
  {
   "cell_type": "markdown",
   "metadata": {},
   "source": [
    "<div \"style=\"width:500px;\">\n",
    "\n",
    "To complicate things, Python distinguishes between whole numbers (*integers*) and decimals (*doubles*) by putting a decimal point afterwards. \n",
    "\n",
    "Moreover, there are many situations when we wish to store the value `True` and `False`. These are called *Boolean values* and are not to be confused with strings. We'll discuss them more later.\n",
    "\n",
    "</div>"
   ]
  },
  {
   "cell_type": "code",
   "execution_count": 3,
   "metadata": {},
   "outputs": [],
   "source": [
    "name = \"Gartnavel\"      #String\n",
    "name = 'Gartnavel'      #Both single-quote and double-quote work!\n",
    "age = 45                #Integer\n",
    "age = 45.5              #Double\n",
    "is_female = True        #Boolean"
   ]
  },
  {
   "cell_type": "markdown",
   "metadata": {},
   "source": [
    "# Input, Output and the In-Between Part\n",
    "\n",
    "\n",
    "<img src=\"generating_mean.png\" alt=\"Variables\" style=\"width:33%;height:55%;float:right;\">\n",
    "<div \"style=\"width:500px;\">\n",
    "\n",
    "\n",
    "\n",
    "What we have been doing so far is using Python the way we use a calculator. We manually <i> type in </i> data, do something to it, and the <i> print </i> it for immediately visible feedback.\n",
    "    \n",
    "When we `print`, what happens is that the program sends data to the surrounding programming environment. This channel of output is called **standard output**. The programming environment can then display it.\n",
    "\n",
    "We mention this, because many programming workflows look very different to this.\n",
    "\n",
    "</div>\n",
    "\n",
    "\n",
    "<div \"style=\"width:500px;\">\n",
    " \n",
    "In order for programming to save us work, it is rare for programmers to type in data within the program. Generally, the data has been written to a separate file, and the program *reads in* this data to process it.\n",
    "\n",
    "Moreover, it is not always that we our desired end-product is a single number (such as a sum, or mean), but rather another file, such as a graphics file that we could put in our report.\n",
    " \n",
    "   \n",
    "\n",
    "To do these more complex workflows - the ones that truly save us effort - we will need to go beyond the built-in Python functionality. \n",
    "\n",
    "\n",
    "\n",
    "</div>\n",
    "\n",
    "<div>\n",
    "<img src=\"generating_graph.png\" alt=\"Variables\" style=\"width:50%;height:50%;float:right;\" > \n",
    "</div>"
   ]
  },
  {
   "cell_type": "markdown",
   "metadata": {},
   "source": [
    "### Using functions\n",
    "\n",
    "<div \"style=\"width:500px;\">\n",
    "\n",
    "When we talk about Python, the language, we are really talking about a set of rules for automatically translating operators like `+` into machine code. Like everything else, these rules are stored in files, but we never see them directly: we let our programming environment take care of it whenever we press Run.\n",
    "\n",
    "Python, the language, doesn't only contain operators. It also contains a range of **functions** - labelled code snippets stored elsewhere that we can run if we reference its name.\n",
    "\n",
    "A tell-tale sign of a function is that it contains brackets. Often - but not always - there is also information passed into it, called *arguments*, which it processes internally.\n",
    "\n",
    "There are two ways of signalling to the function what information you send:\n",
    "* The function expects the information in a particular order\n",
    "* Using keyword arguments (often called \"kwargs\"). \n",
    "\n",
    "You will encounter both during the course. Often a function has built-in *defaults* to fall back on if you don't provide further information.\n",
    "\n",
    "</div>"
   ]
  },
  {
   "cell_type": "markdown",
   "metadata": {},
   "source": [
    "### Using libraries \n",
    "\n",
    "<div \"style=\"width:500px;\">\n",
    "\n",
    "Built-in functions like `print()` are limited to the most basic operations, however. To do more complex things, like calculating a mean, we have to combine them. How useful it would be if we could *reuse* complex functions defined by others!\n",
    "\n",
    "No problem, we can. Many programmers write functions and make them available as a *library*. Ultimately, this is a bunch of Python files. Assuming that you have a local copy of that library on your PC, you can import it using `import <libraryname> as <nickname>`.\n",
    "\n",
    "</div>"
   ]
  },
  {
   "cell_type": "markdown",
   "metadata": {},
   "source": [
    "### Using objects\n",
    "\n",
    "<div \"style=\"width:500px;\">\n",
    "\n",
    "Furthermore, it's rather restricted to only use the integer, double and string types provided by Python. What if we are trying to write a program that models something more complex than say, a single price or volume quantity? What if we wished to model a *city* with both a name, an area, a population size, and a geographic location?\n",
    "\n",
    "Thankfully, we will see that these can be programmed into Python. Variables such as population size will be accessible using the *dot operator*: `<objectname>.<variable_name>`.\n",
    "\n",
    "</div>"
   ]
  },
  {
   "cell_type": "markdown",
   "metadata": {},
   "source": []
  },
  {
   "cell_type": "code",
   "execution_count": 2,
   "metadata": {},
   "outputs": [],
   "source": [
    "### import"
   ]
  }
 ],
 "metadata": {
  "kernelspec": {
   "display_name": "Python 3",
   "language": "python",
   "name": "python3"
  },
  "language_info": {
   "codemirror_mode": {
    "name": "ipython",
    "version": 3
   },
   "file_extension": ".py",
   "mimetype": "text/x-python",
   "name": "python",
   "nbconvert_exporter": "python",
   "pygments_lexer": "ipython3",
   "version": "3.7.1"
  }
 },
 "nbformat": 4,
 "nbformat_minor": 2
}
