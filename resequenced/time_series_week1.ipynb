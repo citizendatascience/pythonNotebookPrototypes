{
 "cells": [
  {
   "cell_type": "markdown",
   "metadata": {},
   "source": [
    "# Week 1\n",
    "## Notebook 1: Working with Time Series Data and Introduction to Dataframes"
   ]
  },
  {
   "cell_type": "markdown",
   "metadata": {},
   "source": [
    "### Time series\n",
    "Definition: A sequence of data points indexed in time order at equally spaced intervals. \n",
    "\n",
    "Examples: \n",
    "1. Exchange rates\n",
    "2. GDP time series\n",
    "3. Population rate\n",
    "4. Unemployment levels\n",
    "\n",
    "Visualisation: Line charts are often the most common way of visualising time series\n"
   ]
  },
  {
   "cell_type": "markdown",
   "metadata": {},
   "source": [
    "### Our dataset\n",
    "Timeseries dataset of total hours of sunshine measured in the West of Scotland in a time interval. "
   ]
  },
  {
   "cell_type": "markdown",
   "metadata": {},
   "source": [
    "### Aims\n",
    "\n",
    "1. Understand how to use the dataframe object to explore a dataset\n",
    "2. Use common dataframe concepts in an appropriate context\n",
    "3. Understand how to use matplotlib for creating line charts"
   ]
  },
  {
   "cell_type": "code",
   "execution_count": 1,
   "metadata": {},
   "outputs": [],
   "source": [
    "import pandas as pd\n",
    "import numpy as np\n",
    "import matplotlib.pyplot as plt\n",
    "import warnings; warnings.simplefilter('ignore')"
   ]
  },
  {
   "cell_type": "code",
   "execution_count": 2,
   "metadata": {},
   "outputs": [],
   "source": [
    "#in order to explore our dataset as a dataframe, we will load our csv file time series into our dataframe object\n",
    "dataframe = pd.read_csv(\"sunshinehours.csv\", sep=',')"
   ]
  },
  {
   "cell_type": "markdown",
   "metadata": {},
   "source": [
    "### Initial data exploration\n",
    "\n",
    "The dataset available in sunshinehours.csv has now been stored in a variable called dataframe. In order to understand this dataset, we can explore the dataframe, for example by checking the data stored. "
   ]
  },
  {
   "cell_type": "code",
   "execution_count": 3,
   "metadata": {},
   "outputs": [
    {
     "name": "stdout",
     "output_type": "stream",
     "text": [
      "Index(['Year', 'JAN', 'FEB', 'MAR', 'APR', 'MAY', 'JUN', 'JUL', 'AUG', 'SEP',\n",
      "       'OCT', 'NOV', 'DEC', 'WIN', 'SPR', 'SUM', 'AUT', 'ANN'],\n",
      "      dtype='object')\n"
     ]
    }
   ],
   "source": [
    "print (dataframe.columns)"
   ]
  },
  {
   "cell_type": "markdown",
   "metadata": {},
   "source": [
    "This shows that the measurements taken are for months, seasons, and year. \n",
    "\n",
    "We can then look into getting a more complete picture of a record by getting the first or the last elements of the dataframe. "
   ]
  },
  {
   "cell_type": "code",
   "execution_count": 4,
   "metadata": {},
   "outputs": [
    {
     "data": {
      "text/html": [
       "<div>\n",
       "<style scoped>\n",
       "    .dataframe tbody tr th:only-of-type {\n",
       "        vertical-align: middle;\n",
       "    }\n",
       "\n",
       "    .dataframe tbody tr th {\n",
       "        vertical-align: top;\n",
       "    }\n",
       "\n",
       "    .dataframe thead th {\n",
       "        text-align: right;\n",
       "    }\n",
       "</style>\n",
       "<table border=\"1\" class=\"dataframe\">\n",
       "  <thead>\n",
       "    <tr style=\"text-align: right;\">\n",
       "      <th></th>\n",
       "      <th>Year</th>\n",
       "      <th>JAN</th>\n",
       "      <th>FEB</th>\n",
       "      <th>MAR</th>\n",
       "      <th>APR</th>\n",
       "      <th>MAY</th>\n",
       "      <th>JUN</th>\n",
       "      <th>JUL</th>\n",
       "      <th>AUG</th>\n",
       "      <th>SEP</th>\n",
       "      <th>OCT</th>\n",
       "      <th>NOV</th>\n",
       "      <th>DEC</th>\n",
       "      <th>WIN</th>\n",
       "      <th>SPR</th>\n",
       "      <th>SUM</th>\n",
       "      <th>AUT</th>\n",
       "      <th>ANN</th>\n",
       "    </tr>\n",
       "  </thead>\n",
       "  <tbody>\n",
       "    <tr>\n",
       "      <th>0</th>\n",
       "      <td>1930</td>\n",
       "      <td>29.0</td>\n",
       "      <td>74.0</td>\n",
       "      <td>91.0</td>\n",
       "      <td>141.0</td>\n",
       "      <td>181.1</td>\n",
       "      <td>196.6</td>\n",
       "      <td>109.4</td>\n",
       "      <td>108.7</td>\n",
       "      <td>90.5</td>\n",
       "      <td>64.4</td>\n",
       "      <td>55.8</td>\n",
       "      <td>23.2</td>\n",
       "      <td>137.8</td>\n",
       "      <td>413.1</td>\n",
       "      <td>414.7</td>\n",
       "      <td>210.8</td>\n",
       "      <td>1164.7</td>\n",
       "    </tr>\n",
       "    <tr>\n",
       "      <th>1</th>\n",
       "      <td>1931</td>\n",
       "      <td>46.7</td>\n",
       "      <td>52.7</td>\n",
       "      <td>115.1</td>\n",
       "      <td>120.6</td>\n",
       "      <td>164.3</td>\n",
       "      <td>103.9</td>\n",
       "      <td>83.4</td>\n",
       "      <td>168.7</td>\n",
       "      <td>92.7</td>\n",
       "      <td>88.8</td>\n",
       "      <td>32.9</td>\n",
       "      <td>16.3</td>\n",
       "      <td>122.6</td>\n",
       "      <td>400.0</td>\n",
       "      <td>356.0</td>\n",
       "      <td>214.4</td>\n",
       "      <td>1086.0</td>\n",
       "    </tr>\n",
       "    <tr>\n",
       "      <th>2</th>\n",
       "      <td>1932</td>\n",
       "      <td>35.6</td>\n",
       "      <td>86.0</td>\n",
       "      <td>82.7</td>\n",
       "      <td>147.1</td>\n",
       "      <td>161.3</td>\n",
       "      <td>193.5</td>\n",
       "      <td>105.8</td>\n",
       "      <td>110.4</td>\n",
       "      <td>96.2</td>\n",
       "      <td>69.0</td>\n",
       "      <td>44.4</td>\n",
       "      <td>32.5</td>\n",
       "      <td>137.9</td>\n",
       "      <td>391.1</td>\n",
       "      <td>409.6</td>\n",
       "      <td>209.7</td>\n",
       "      <td>1164.4</td>\n",
       "    </tr>\n",
       "    <tr>\n",
       "      <th>3</th>\n",
       "      <td>1933</td>\n",
       "      <td>43.7</td>\n",
       "      <td>72.9</td>\n",
       "      <td>115.4</td>\n",
       "      <td>97.0</td>\n",
       "      <td>133.9</td>\n",
       "      <td>192.3</td>\n",
       "      <td>143.3</td>\n",
       "      <td>137.6</td>\n",
       "      <td>147.9</td>\n",
       "      <td>65.0</td>\n",
       "      <td>47.8</td>\n",
       "      <td>24.8</td>\n",
       "      <td>149.1</td>\n",
       "      <td>346.3</td>\n",
       "      <td>473.2</td>\n",
       "      <td>260.7</td>\n",
       "      <td>1221.6</td>\n",
       "    </tr>\n",
       "    <tr>\n",
       "      <th>4</th>\n",
       "      <td>1934</td>\n",
       "      <td>35.1</td>\n",
       "      <td>63.9</td>\n",
       "      <td>91.1</td>\n",
       "      <td>114.2</td>\n",
       "      <td>140.5</td>\n",
       "      <td>184.4</td>\n",
       "      <td>197.2</td>\n",
       "      <td>107.0</td>\n",
       "      <td>119.9</td>\n",
       "      <td>54.3</td>\n",
       "      <td>52.4</td>\n",
       "      <td>11.7</td>\n",
       "      <td>123.8</td>\n",
       "      <td>345.8</td>\n",
       "      <td>488.6</td>\n",
       "      <td>226.7</td>\n",
       "      <td>1171.7</td>\n",
       "    </tr>\n",
       "  </tbody>\n",
       "</table>\n",
       "</div>"
      ],
      "text/plain": [
       "   Year   JAN   FEB    MAR    APR    MAY    JUN    JUL    AUG    SEP   OCT  \\\n",
       "0  1930  29.0  74.0   91.0  141.0  181.1  196.6  109.4  108.7   90.5  64.4   \n",
       "1  1931  46.7  52.7  115.1  120.6  164.3  103.9   83.4  168.7   92.7  88.8   \n",
       "2  1932  35.6  86.0   82.7  147.1  161.3  193.5  105.8  110.4   96.2  69.0   \n",
       "3  1933  43.7  72.9  115.4   97.0  133.9  192.3  143.3  137.6  147.9  65.0   \n",
       "4  1934  35.1  63.9   91.1  114.2  140.5  184.4  197.2  107.0  119.9  54.3   \n",
       "\n",
       "    NOV   DEC    WIN    SPR    SUM    AUT     ANN  \n",
       "0  55.8  23.2  137.8  413.1  414.7  210.8  1164.7  \n",
       "1  32.9  16.3  122.6  400.0  356.0  214.4  1086.0  \n",
       "2  44.4  32.5  137.9  391.1  409.6  209.7  1164.4  \n",
       "3  47.8  24.8  149.1  346.3  473.2  260.7  1221.6  \n",
       "4  52.4  11.7  123.8  345.8  488.6  226.7  1171.7  "
      ]
     },
     "execution_count": 4,
     "metadata": {},
     "output_type": "execute_result"
    }
   ],
   "source": [
    "#head(): gets the first 5 entries of a dataframe. This can be customised by passing an argument to head. Example: dataframe.head(10)\n",
    "dataframe.head()\n",
    "\n",
    "#dataframe.tail(): retrieves the last 5 entries of a dataframe\n"
   ]
  },
  {
   "cell_type": "markdown",
   "metadata": {},
   "source": [
    "Sometimes it's useful to retrieve a specific column from a dataset. This is done by using the name of the column. The result looks as follows:"
   ]
  },
  {
   "cell_type": "code",
   "execution_count": 5,
   "metadata": {},
   "outputs": [
    {
     "data": {
      "text/plain": [
       "0      91.0\n",
       "1     115.1\n",
       "2      82.7\n",
       "3     115.4\n",
       "4      91.1\n",
       "5      94.4\n",
       "6      50.1\n",
       "7     112.3\n",
       "8      65.7\n",
       "9     108.0\n",
       "10     94.1\n",
       "11     98.7\n",
       "12     86.9\n",
       "13    102.8\n",
       "14    105.0\n",
       "15     76.0\n",
       "16     90.1\n",
       "17     86.0\n",
       "18    109.6\n",
       "19    121.8\n",
       "20     94.1\n",
       "21     88.0\n",
       "22    107.3\n",
       "23    115.3\n",
       "24    109.1\n",
       "25    132.6\n",
       "26    127.3\n",
       "27     53.8\n",
       "28    102.4\n",
       "29     90.7\n",
       "      ...  \n",
       "53     53.8\n",
       "54     60.3\n",
       "55    103.8\n",
       "56    106.8\n",
       "57    100.1\n",
       "58     74.7\n",
       "59     88.6\n",
       "60     69.2\n",
       "61     77.3\n",
       "62     69.3\n",
       "63     89.0\n",
       "64     73.5\n",
       "65     82.9\n",
       "66     73.1\n",
       "67     86.4\n",
       "68     53.9\n",
       "69    106.7\n",
       "70     77.6\n",
       "71    127.1\n",
       "72    110.3\n",
       "73    153.7\n",
       "74    107.4\n",
       "75     91.3\n",
       "76     78.6\n",
       "77    123.6\n",
       "78    109.6\n",
       "79    110.5\n",
       "80     93.7\n",
       "81     88.4\n",
       "82    125.2\n",
       "Name: MAR, Length: 83, dtype: float64"
      ]
     },
     "execution_count": 5,
     "metadata": {},
     "output_type": "execute_result"
    }
   ],
   "source": [
    "dataframe['MAR']"
   ]
  },
  {
   "cell_type": "markdown",
   "metadata": {},
   "source": [
    "We know we have a time interval but there are some further questions we may want to answer: \n",
    "1. What's the starting year of measurement? \n",
    "2. What's the last year of measurement, contained in this dataset? \n",
    "\n",
    "To do this we can select the column that contains the year and apply two build-in functions called max() and min(). \n"
   ]
  },
  {
   "cell_type": "code",
   "execution_count": 6,
   "metadata": {},
   "outputs": [
    {
     "name": "stdout",
     "output_type": "stream",
     "text": [
      "1930\n"
     ]
    }
   ],
   "source": [
    "minYear = dataframe['Year'].min()\n",
    "print (minYear)"
   ]
  },
  {
   "cell_type": "markdown",
   "metadata": {},
   "source": [
    "#### Task\n",
    "1. What's the max year in the dataset? \n",
    "2. What's the smallest number of sunshine hours recorded in December? \n",
    "3. What's the largest number of sunshine hours recorded in June?"
   ]
  },
  {
   "cell_type": "code",
   "execution_count": 8,
   "metadata": {},
   "outputs": [],
   "source": [
    "#max year of the dataset\n",
    "maxYear = \n",
    "print (maxYear)\n",
    "\n",
    "#DecemberMin\n",
    "decemberMin =\n",
    "\n",
    "#JuneMax\n",
    "juneMax = \n"
   ]
  },
  {
   "cell_type": "markdown",
   "metadata": {},
   "source": [
    "So far we learned how to retrieve a column, now we can learn how to do that for a row. We will make use of the following functions:\n",
    "\n",
    "1. loc[]: retrieves rows based on labels for rows and/or columns\n",
    "2. iloc[]: retrieval is based on integer positions\n",
    "\n",
    "What's the index in our particular case? Let's check:"
   ]
  },
  {
   "cell_type": "code",
   "execution_count": 278,
   "metadata": {},
   "outputs": [
    {
     "data": {
      "text/plain": [
       "RangeIndex(start=0, stop=83, step=1)"
      ]
     },
     "execution_count": 278,
     "metadata": {},
     "output_type": "execute_result"
    }
   ],
   "source": [
    "dataframe.index\n"
   ]
  },
  {
   "cell_type": "markdown",
   "metadata": {},
   "source": [
    "Our row entries are indexed, starting from 0. In this case the integer index is also the label of the particular entry, so the following will work: \n",
    "\n",
    "1. dataframe.loc[0:1]\n",
    "2. dataframe.iloc[0:1]\n",
    "\n",
    "### Task: \n",
    "Run the next cell and identify the difference between the two functions:"
   ]
  },
  {
   "cell_type": "code",
   "execution_count": 135,
   "metadata": {},
   "outputs": [
    {
     "name": "stdout",
     "output_type": "stream",
     "text": [
      "   Year   JAN   FEB    MAR    APR    MAY    JUN    JUL    AUG   SEP   OCT  \\\n",
      "0  1930  29.0  74.0   91.0  141.0  181.1  196.6  109.4  108.7  90.5  64.4   \n",
      "1  1931  46.7  52.7  115.1  120.6  164.3  103.9   83.4  168.7  92.7  88.8   \n",
      "\n",
      "    NOV   DEC    WIN    SPR    SUM    AUT     ANN  \n",
      "0  55.8  23.2  137.8  413.1  414.7  210.8  1164.7  \n",
      "1  32.9  16.3  122.6  400.0  356.0  214.4  1086.0  \n",
      "--------------------------\n",
      "   Year   JAN   FEB   MAR    APR    MAY    JUN    JUL    AUG   SEP   OCT  \\\n",
      "0  1930  29.0  74.0  91.0  141.0  181.1  196.6  109.4  108.7  90.5  64.4   \n",
      "\n",
      "    NOV   DEC    WIN    SPR    SUM    AUT     ANN  \n",
      "0  55.8  23.2  137.8  413.1  414.7  210.8  1164.7  \n"
     ]
    }
   ],
   "source": [
    "print (dataframe.loc[0:1])\n",
    "print (\"--------------------------\")\n",
    "print (dataframe.iloc[0:1])"
   ]
  },
  {
   "cell_type": "markdown",
   "metadata": {},
   "source": [
    "Dataframes allow us to index them on a particular column, so in our case it would make more sense to index our records based on the year. \n"
   ]
  },
  {
   "cell_type": "code",
   "execution_count": 279,
   "metadata": {},
   "outputs": [
    {
     "data": {
      "text/html": [
       "<div>\n",
       "<style scoped>\n",
       "    .dataframe tbody tr th:only-of-type {\n",
       "        vertical-align: middle;\n",
       "    }\n",
       "\n",
       "    .dataframe tbody tr th {\n",
       "        vertical-align: top;\n",
       "    }\n",
       "\n",
       "    .dataframe thead th {\n",
       "        text-align: right;\n",
       "    }\n",
       "</style>\n",
       "<table border=\"1\" class=\"dataframe\">\n",
       "  <thead>\n",
       "    <tr style=\"text-align: right;\">\n",
       "      <th></th>\n",
       "      <th>JAN</th>\n",
       "      <th>FEB</th>\n",
       "      <th>MAR</th>\n",
       "      <th>APR</th>\n",
       "      <th>MAY</th>\n",
       "      <th>JUN</th>\n",
       "      <th>JUL</th>\n",
       "      <th>AUG</th>\n",
       "      <th>SEP</th>\n",
       "      <th>OCT</th>\n",
       "      <th>NOV</th>\n",
       "      <th>DEC</th>\n",
       "      <th>WIN</th>\n",
       "      <th>SPR</th>\n",
       "      <th>SUM</th>\n",
       "      <th>AUT</th>\n",
       "      <th>ANN</th>\n",
       "    </tr>\n",
       "    <tr>\n",
       "      <th>Year</th>\n",
       "      <th></th>\n",
       "      <th></th>\n",
       "      <th></th>\n",
       "      <th></th>\n",
       "      <th></th>\n",
       "      <th></th>\n",
       "      <th></th>\n",
       "      <th></th>\n",
       "      <th></th>\n",
       "      <th></th>\n",
       "      <th></th>\n",
       "      <th></th>\n",
       "      <th></th>\n",
       "      <th></th>\n",
       "      <th></th>\n",
       "      <th></th>\n",
       "      <th></th>\n",
       "    </tr>\n",
       "  </thead>\n",
       "  <tbody>\n",
       "    <tr>\n",
       "      <th>1930</th>\n",
       "      <td>29.0</td>\n",
       "      <td>74.0</td>\n",
       "      <td>91.0</td>\n",
       "      <td>141.0</td>\n",
       "      <td>181.1</td>\n",
       "      <td>196.6</td>\n",
       "      <td>109.4</td>\n",
       "      <td>108.7</td>\n",
       "      <td>90.5</td>\n",
       "      <td>64.4</td>\n",
       "      <td>55.8</td>\n",
       "      <td>23.2</td>\n",
       "      <td>137.8</td>\n",
       "      <td>413.1</td>\n",
       "      <td>414.7</td>\n",
       "      <td>210.8</td>\n",
       "      <td>1164.7</td>\n",
       "    </tr>\n",
       "    <tr>\n",
       "      <th>1931</th>\n",
       "      <td>46.7</td>\n",
       "      <td>52.7</td>\n",
       "      <td>115.1</td>\n",
       "      <td>120.6</td>\n",
       "      <td>164.3</td>\n",
       "      <td>103.9</td>\n",
       "      <td>83.4</td>\n",
       "      <td>168.7</td>\n",
       "      <td>92.7</td>\n",
       "      <td>88.8</td>\n",
       "      <td>32.9</td>\n",
       "      <td>16.3</td>\n",
       "      <td>122.6</td>\n",
       "      <td>400.0</td>\n",
       "      <td>356.0</td>\n",
       "      <td>214.4</td>\n",
       "      <td>1086.0</td>\n",
       "    </tr>\n",
       "    <tr>\n",
       "      <th>1932</th>\n",
       "      <td>35.6</td>\n",
       "      <td>86.0</td>\n",
       "      <td>82.7</td>\n",
       "      <td>147.1</td>\n",
       "      <td>161.3</td>\n",
       "      <td>193.5</td>\n",
       "      <td>105.8</td>\n",
       "      <td>110.4</td>\n",
       "      <td>96.2</td>\n",
       "      <td>69.0</td>\n",
       "      <td>44.4</td>\n",
       "      <td>32.5</td>\n",
       "      <td>137.9</td>\n",
       "      <td>391.1</td>\n",
       "      <td>409.6</td>\n",
       "      <td>209.7</td>\n",
       "      <td>1164.4</td>\n",
       "    </tr>\n",
       "    <tr>\n",
       "      <th>1933</th>\n",
       "      <td>43.7</td>\n",
       "      <td>72.9</td>\n",
       "      <td>115.4</td>\n",
       "      <td>97.0</td>\n",
       "      <td>133.9</td>\n",
       "      <td>192.3</td>\n",
       "      <td>143.3</td>\n",
       "      <td>137.6</td>\n",
       "      <td>147.9</td>\n",
       "      <td>65.0</td>\n",
       "      <td>47.8</td>\n",
       "      <td>24.8</td>\n",
       "      <td>149.1</td>\n",
       "      <td>346.3</td>\n",
       "      <td>473.2</td>\n",
       "      <td>260.7</td>\n",
       "      <td>1221.6</td>\n",
       "    </tr>\n",
       "    <tr>\n",
       "      <th>1934</th>\n",
       "      <td>35.1</td>\n",
       "      <td>63.9</td>\n",
       "      <td>91.1</td>\n",
       "      <td>114.2</td>\n",
       "      <td>140.5</td>\n",
       "      <td>184.4</td>\n",
       "      <td>197.2</td>\n",
       "      <td>107.0</td>\n",
       "      <td>119.9</td>\n",
       "      <td>54.3</td>\n",
       "      <td>52.4</td>\n",
       "      <td>11.7</td>\n",
       "      <td>123.8</td>\n",
       "      <td>345.8</td>\n",
       "      <td>488.6</td>\n",
       "      <td>226.7</td>\n",
       "      <td>1171.7</td>\n",
       "    </tr>\n",
       "  </tbody>\n",
       "</table>\n",
       "</div>"
      ],
      "text/plain": [
       "       JAN   FEB    MAR    APR    MAY    JUN    JUL    AUG    SEP   OCT   NOV  \\\n",
       "Year                                                                            \n",
       "1930  29.0  74.0   91.0  141.0  181.1  196.6  109.4  108.7   90.5  64.4  55.8   \n",
       "1931  46.7  52.7  115.1  120.6  164.3  103.9   83.4  168.7   92.7  88.8  32.9   \n",
       "1932  35.6  86.0   82.7  147.1  161.3  193.5  105.8  110.4   96.2  69.0  44.4   \n",
       "1933  43.7  72.9  115.4   97.0  133.9  192.3  143.3  137.6  147.9  65.0  47.8   \n",
       "1934  35.1  63.9   91.1  114.2  140.5  184.4  197.2  107.0  119.9  54.3  52.4   \n",
       "\n",
       "       DEC    WIN    SPR    SUM    AUT     ANN  \n",
       "Year                                            \n",
       "1930  23.2  137.8  413.1  414.7  210.8  1164.7  \n",
       "1931  16.3  122.6  400.0  356.0  214.4  1086.0  \n",
       "1932  32.5  137.9  391.1  409.6  209.7  1164.4  \n",
       "1933  24.8  149.1  346.3  473.2  260.7  1221.6  \n",
       "1934  11.7  123.8  345.8  488.6  226.7  1171.7  "
      ]
     },
     "execution_count": 279,
     "metadata": {},
     "output_type": "execute_result"
    }
   ],
   "source": [
    "#set the index to be equal to the year column\n",
    "dataframe = dataframe.set_index('Year')\n",
    "dataframe.head()"
   ]
  },
  {
   "cell_type": "markdown",
   "metadata": {},
   "source": [
    "#### Task\n",
    "1. Get rows between 2010 and 2012 (including 2012)\n",
    "2. In addition, to getting the entries between 2010 and 2012, include only the columns from January to December\n",
    "3. Find the min number of sunshine hours between JAN and DEC for 2000"
   ]
  },
  {
   "cell_type": "code",
   "execution_count": 285,
   "metadata": {},
   "outputs": [],
   "source": [
    "# entries between 2010 and 2012\n",
    "print (dataframe.FUNCTION[row_range])\n",
    "\n",
    "#entries between 2010 and 2012\n",
    "print (dataframe.FUNCTION[row_range,column_range])\n",
    "\n",
    "#min temperature for 2000\n",
    "print (dataframe.loc[row_range, column_range].min())"
   ]
  },
  {
   "cell_type": "markdown",
   "metadata": {},
   "source": [
    "#### Visualising the data\n",
    "\n",
    "As mentioned, a typical way of visualising timeseries is linegraph. \n",
    "\n",
    "It would be interesting to see how the amount of sunshine fluctuates over the years during the summer and win."
   ]
  },
  {
   "cell_type": "code",
   "execution_count": 267,
   "metadata": {},
   "outputs": [
    {
     "data": {
      "image/png": "[encoded data removed]",
      "text/plain": [
       "<matplotlib.figure.Figure at 0x16c4bcb34e0>"
      ]
     },
     "metadata": {},
     "output_type": "display_data"
    }
   ],
   "source": [
    "#X axis: plotting the time range\n",
    "x = dataframe.index\n",
    "# y: hours of sunshine\n",
    "y = dataframe['WIN']\n",
    "y1 = dataframe['SUM']\n",
    "plt.plot(x,y, label='winter')\n",
    "plt.plot(x,y1,label='summer')\n",
    "plt.xticks(np.arange(min(dataframe.index), max(dataframe.index)+1, 10.0))\n",
    "#code to set title and labels\n",
    "plt.title(\"Hours of sunshine between 1930 and 2012 for the West of Scotland\")\n",
    "plt.xlabel('Year')\n",
    "plt.ylabel(\"Hours of sunshine\")\n",
    "plt.legend(loc='upper left')\n",
    "plt.show()\n"
   ]
  },
  {
   "cell_type": "markdown",
   "metadata": {},
   "source": [
    "#### Task\n",
    "Create a time range plot yourself now, using the code above. Plot the hours of sunshine in June, July, and August."
   ]
  },
  {
   "cell_type": "code",
   "execution_count": 1,
   "metadata": {},
   "outputs": [],
   "source": [
    "# store the time range in a variable x (which we are going to plot on x axis)\n",
    "#x = \n",
    "\n",
    "# store the values for June, July, and August\n",
    "#y = dataframe['']\n",
    "#y1 = dataframe['']\n",
    "#y2 = dataframe['']\n",
    "\n",
    "#plot the pairs (x,y), (x,y1), (x,y2). Don't forget to add labels to each\n",
    "#plt.plot()\n",
    "\n",
    "#add title and labels to your plot"
   ]
  },
  {
   "cell_type": "code",
   "execution_count": null,
   "metadata": {},
   "outputs": [],
   "source": []
  }
 ],
 "metadata": {
  "kernelspec": {
   "display_name": "Python 3",
   "language": "python",
   "name": "python3"
  },
  "language_info": {
   "codemirror_mode": {
    "name": "ipython",
    "version": 3
   },
   "file_extension": ".py",
   "mimetype": "text/x-python",
   "name": "python",
   "nbconvert_exporter": "python",
   "pygments_lexer": "ipython3",
   "version": "3.6.4"
  }
 },
 "nbformat": 4,
 "nbformat_minor": 2
}
