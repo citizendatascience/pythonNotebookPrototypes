{
 "cells": [
  {
   "cell_type": "markdown",
   "metadata": {},
   "source": [
    "# Calculations in the fast lane\n",
    "\n",
    "<div \"style=\"width:500px;\">\n",
    "\n",
    "When it comes to libraries, there are two particularly loyal companions to the data scientist.\n",
    "\n",
    "The first of this is **NumPy** (short for *Numerical Python*). \n",
    "\n",
    "Remember, computers are helpful only insofar as you can tell them to do repetitive things. We know how to add two numbers. Now how could you conveniently add two *lists* of numbers?\n",
    "\n",
    "Let's first import the library and name it `np`.\n",
    "\n",
    "</div>"
   ]
  },
  {
   "cell_type": "code",
   "execution_count": 1,
   "metadata": {},
   "outputs": [],
   "source": [
    "import numpy as np"
   ]
  },
  {
   "cell_type": "markdown",
   "metadata": {},
   "source": [
    "<div \"style=\"width:500px;\">\n",
    "\n",
    "NumPy has a host of convenient methods for us to explore, but it requires of us to first turn our data into a *NumPy array*, often called *ndarray*. \n",
    "\n",
    "If we create our own data as a list, then we simply put our list into the NumPy method `array()`, accessed via the dot operator: `np.array()`.\n",
    "\n",
    "</div>"
   ]
  },
  {
   "cell_type": "code",
   "execution_count": 3,
   "metadata": {},
   "outputs": [],
   "source": [
    "data = [4,6,3,2,9,9,5,2]\n",
    "arr = np.array(data)"
   ]
  },
  {
   "cell_type": "markdown",
   "metadata": {},
   "source": [
    "<div \"style=\"width:500px;\">\n",
    "\n",
    "**Extension:** In order for NumPy to perform the same operation on every element and save us work, it has to enforce that that each element is of the same type. The `array()` method simply chooses the most general type of the elements. If there's a double nestled in there among the integers, it goes for that. \n",
    "\n",
    "## Batch arithmetic\n",
    "\n",
    "Now for the real magic. With ndarrays, you can add two lists (element by element, or *element-wise*) just like you would add two numbers!\n",
    "\n",
    "</div>"
   ]
  },
  {
   "cell_type": "code",
   "execution_count": 4,
   "metadata": {},
   "outputs": [
    {
     "name": "stdout",
     "output_type": "stream",
     "text": [
      "[10 10 10 10 10 10 10 10]\n"
     ]
    }
   ],
   "source": [
    "arr2 = np.array([6,4,7,8,1,1,5,8])\n",
    "\n",
    "sumarr = arr + arr2\n",
    "print(sumarr)"
   ]
  },
  {
   "cell_type": "markdown",
   "metadata": {},
   "source": [
    "<div \"style=\"width:500px;\">\n",
    "\n",
    "You didn't even need a function call! Just make sure they are of equal length.\n",
    "\n",
    "You can probably predict what the following will do.\n",
    "\n",
    "</div>"
   ]
  },
  {
   "cell_type": "code",
   "execution_count": 5,
   "metadata": {},
   "outputs": [
    {
     "name": "stdout",
     "output_type": "stream",
     "text": [
      "[16 36  9  4 81 81 25  4]\n",
      "[ 2 -2  4  6 -8 -8  0  6]\n",
      "[0.04 0.06 0.03 0.02 0.09 0.09 0.05 0.02]\n",
      "[16 36  9  4 81 81 25  4]\n"
     ]
    }
   ],
   "source": [
    "print(arr * arr)\n",
    "print(arr2 - arr)\n",
    "print(arr / 100)\n",
    "print(arr ** 2 )"
   ]
  },
  {
   "cell_type": "markdown",
   "metadata": {},
   "source": [
    "<div \"style=\"width:500px;\">\n",
    "\n",
    "We can also use functions in NumPy to transform elements on a one-by-one basis, for example to find the square root of each.\n",
    "\n",
    "<br>\n",
    "\n",
    "<div>\n",
    "<img src=\"elementwise.png\" alt=\"Variables\" style=\"width:50%;height:50%;\">\n",
    "</div>\n",
    "\n",
    "<br>\n",
    "\n",
    "Here's just a teaser of the functions on offer:\n",
    "\n",
    "| Purpose      | NumPy function         | \n",
    "| ------------- |:-------------:| \n",
    "| Compute absolute value      | `abs( )` | \n",
    "| Compute square root    | `sqrt()`      | \n",
    "| Compute square | `square()`      | \n",
    "| Compute cosine | `cos()`      |   \n",
    "\n",
    "It also happens that we wish to do more exciting pairwise operations, in which case there are functions that accept two equal-length arrays and spit out a similar one.\n",
    "\n",
    "<br>\n",
    "\n",
    "<div>\n",
    "<img src=\"binary_operation.png\" alt=\"Variables\" style=\"width:30%;height:30%;\">\n",
    "</div>\n",
    "\n",
    "<br>\n",
    "\n",
    "| Purpose      | NumPy function         | \n",
    "| ------------- |:-------------:| \n",
    "| Adding corresponding elements      | `add( )` | \n",
    "| Subtracting corresponding elements   | `subtract()`      | \n",
    "| Multiplying corresponding elements | `multiply()`      | \n",
    "| Finding the maximum of the two | `maximum()`      |   \n",
    "\n",
    "(You're right - apart from the maximum function we could have used regular operators to achieve the same thing.)\n",
    "\n",
    "It also happens that you want to do operations where the result is a single number. For example, what if you want to add all the numbers *inside* the array instead of with an external number? Or what if you wished to compute the mean?\n",
    "\n",
    "<br>\n",
    "\n",
    "<div>\n",
    "<img src=\"unary_operation.png\" alt=\"Variables\" style=\"width:50%;height:50%;\">\n",
    "</div>\n",
    "\n",
    "<br>\n",
    "\n",
    "| Purpose      | NumPy function         | \n",
    "| ------------- |:-------------:| \n",
    "| Adding elements together     | `sum( )` | \n",
    "| Find maximum value in array   | `max()`      | \n",
    "| Find index of maximum value | `argmax()`      | \n",
    "\n",
    "As you can see, there are many potential confusions here. Be careful to distinguish `max()` from `maximum()`, `sum()` from `add()` and so on.\n",
    "\n",
    "Remember that, when we use NumPy functions on arrays, we have two options:\n",
    "\n",
    "* Access it via the library, e.g. `np.sum(arr)`\n",
    "* Access it via the array, e.g. `arr.sum()`\n",
    "\n",
    "Make sure you feel comfortable using and recognising both.\n",
    "\n",
    "\n",
    "### Exercise\n",
    "\n",
    "Now, equipped as you are with basic NumPy operations, brush up on your statistics and find ways of computing the mean of the array below using nothing but what you were just taught!\n",
    "\n",
    "Remember, the mean is the total sum divided by N.\n",
    "\n",
    "<div>"
   ]
  },
  {
   "cell_type": "code",
   "execution_count": null,
   "metadata": {},
   "outputs": [],
   "source": [
    "data = np.array([53,45,50,49,61,41,42,47,48,49])\n",
    "\n",
    "###Your code here"
   ]
  },
  {
   "cell_type": "markdown",
   "metadata": {},
   "source": [
    "<div \"style=\"width:500px;\">\n",
    "\n",
    "## Accessing and modifying the data\n",
    "\n",
    "</div>"
   ]
  },
  {
   "cell_type": "markdown",
   "metadata": {},
   "source": [
    "<div \"style=\"width:500px;\">\n",
    "\n",
    "Dealing with arrays as we are, it happens that we still want to access or modify particular elements. The location of a particular element is called its *index*. The first element has index 0 - it is the 0th element. This means that, if there are 6 elements, the last element will have index 5. NumPy has many handy shortcuts of accessing elements, which also work on regular lists. They are summarised below:\n",
    "\n",
    "<br>\n",
    "\n",
    "<div>\n",
    "<img src=\"indexing.png\" alt=\"Variables\" style=\"width:50%;height:50%;float:right;\">\n",
    "</div>\n",
    "\n",
    "<br>\n",
    "\n",
    "\n",
    "\n",
    "| Aim      | Syntax        | \n",
    "| ------------- |:-------------:| \n",
    "| A single index      | `[i]` | \n",
    "| A slice of consecutive indexes    | `[i:j]`      | \n",
    "| All elements after a particular index | `[i:]`      | \n",
    "| All elements until a particular index | `[:j]`      |  \n",
    "| All elements  | `[:]`      |  \n",
    "| i positions going backwards  | `[-i]`      | \n",
    "| A list of arbitrary indices  | `[[i,j,k,l]]`      | \n",
    "\n",
    "#### Masking\n",
    "One particular indexing way deserves particular attention. Suppose you have an ndarray A of five elements, and an ndarray B of five elements. You want to access all elements that pass a Boolean condition. You may then place the condition *inside* the square brackets.\n",
    "\n",
    "This works because the Boolean condition outputs a Boolean array, of the same length as the original array but with `True` signalling it passed the criterion:\n",
    "\n",
    "<div>\n",
    "<img src=\"masking.png\" alt=\"Variables\" style=\"width:50%;height:50%;float:right;\">\n",
    "</div>\n",
    "\n",
    "\n",
    "</div>"
   ]
  },
  {
   "cell_type": "code",
   "execution_count": 7,
   "metadata": {},
   "outputs": [
    {
     "data": {
      "text/plain": [
       "array([102, 104, 106, 108, 110, 112, 114, 116])"
      ]
     },
     "execution_count": 7,
     "metadata": {},
     "output_type": "execute_result"
    }
   ],
   "source": [
    "#Masking itself\n",
    "numbers = np.array([1,2,3,4,5,6,7,8,9,10,11,12,13,14,15,16,17])\n",
    "\n",
    "#The condition\n",
    "even_to_two = numbers % 2 == 0\n",
    "print(even_to_two)\n",
    "\n",
    "#Let's filter\n",
    "numbers[even_to_two]\n",
    "\n",
    "#Masking a different array\n",
    "hundred = np.array([101,102,103,104,105,106,107,108,109,110,111,112,113,114,115,116,117])\n",
    "hundred[even_to_two]"
   ]
  },
  {
   "cell_type": "markdown",
   "metadata": {},
   "source": [
    "#### Modification\n",
    "\n",
    "<div \"style=\"width:500px;\">\n",
    "\n",
    "If we wished to alter parts the array, we assign it just like how we assign values to normal variables.\n",
    "\n",
    "We simply place the indexed array to the left of an equality sign, and the new value to the right. For example:\n",
    "\n",
    "`arr[2] = 67`\n",
    "\n",
    "</div>"
   ]
  },
  {
   "cell_type": "code",
   "execution_count": 9,
   "metadata": {},
   "outputs": [],
   "source": [
    "arr = np.arange(6)\n",
    "arr[1] = 67\n"
   ]
  },
  {
   "cell_type": "markdown",
   "metadata": {},
   "source": [
    "<div \"style=\"width:500px;\">\n",
    "\n",
    "One thing to remember here is that if we store a subset of the array and modify the subset, the original will - believe it or not - also be updated.\n",
    "\n",
    "This is because when you use square brackets, you don't actually create a copy, but rather a *view* of the original.\n",
    "\n",
    "<br>\n",
    "<br>\n",
    "\n",
    "<div>\n",
    "<img src=\"views.png\" alt=\"Variables\" style=\"width:50%;height:50%;float:right;\">\n",
    "</div>\n",
    "\n",
    "</div>"
   ]
  },
  {
   "cell_type": "code",
   "execution_count": 12,
   "metadata": {},
   "outputs": [
    {
     "name": "stdout",
     "output_type": "stream",
     "text": [
      "[0 2 2 3 4 5]\n"
     ]
    }
   ],
   "source": [
    "sec_third = arr[1:3]\n",
    "sec_third[0] = 2\n",
    "print(arr)"
   ]
  },
  {
   "cell_type": "markdown",
   "metadata": {},
   "source": [
    "# Introducing dataframes\n",
    "\n",
    "<div \"style=\"width:500px;\">\n",
    "\n",
    "Powerful as they seem, NumPy arrays are in reality severely restricted, because they only deal with numbers, and only with data of a certain type. In real life data analyses, individual cases often have several related data, of different types. For example, a survey participant has a gender, an age, a response to Question 1 and so forth.\n",
    "\n",
    "Enter **pandas**, a fundamental library built on top of NumPy to help processing of a broader set of data.\n",
    "\n",
    "As usual, there is a conventional alias for importing it.\n",
    "\n",
    "</div>"
   ]
  },
  {
   "cell_type": "code",
   "execution_count": null,
   "metadata": {},
   "outputs": [],
   "source": [
    "import pandas as pd"
   ]
  },
  {
   "cell_type": "markdown",
   "metadata": {},
   "source": [
    "<div \"style=\"width:500px;\">\n",
    "\n",
    "To store variably typed data, we make use of a Pandas object called a **dataframe**.\n",
    "\n",
    "A dataframe is, quite simply, a table. You are probably already familiar with such tables from spreadsheet applications.\n",
    "\n",
    "More technically, it consists of several, labelled NumPy arrays called *Series*.\n",
    "\n",
    "Like a NumPy array, we can access its values, change its values, summarise its values. \n",
    "\n",
    "Creating our own dataframe is rarely done in practice. Instead, we could go ahead reading a datafile directly into a dataframe.\n",
    "\n",
    "</div>"
   ]
  },
  {
   "cell_type": "code",
   "execution_count": null,
   "metadata": {},
   "outputs": [],
   "source": [
    "df = pd.read_csv(\"traffic_data_glasgow.csv\", sep=',')"
   ]
  },
  {
   "cell_type": "markdown",
   "metadata": {},
   "source": [
    "<div \"style=\"width:500px;\">\n",
    "\n",
    "You'll find in online examples that dataframes - when dealing with a single one - are almost always called `df`.\n",
    "\n",
    "For starters, let us see which headers it has.\n",
    "\n",
    "In the case you just read in we have a huge dataframe with 10 000+ rows and many columns, and we wouldn't want to print it as we might end up feeling lost in all those numbers. \n",
    "\n",
    "What we could do instead is see what the columns are, then perhaps see the first few rows. \n",
    "\n",
    "We are going to use the following: \n",
    "* df.columns: a property (attribute) that gives us the name of the columns\n",
    "\n",
    "* df.head(): a function that gives us the first five rows\n",
    "\n",
    "Remember, `.columns` is a property of the dataframe (thus no parantheses after it), while `.head()` is a function we could likewise access via `pd`.\n",
    "\n",
    "These little magical expressions return a list. Unless we wrap it with a print-statement, that list will not be visible in our console. Have a go at it below.\n",
    "\n",
    "</div>"
   ]
  },
  {
   "cell_type": "code",
   "execution_count": null,
   "metadata": {},
   "outputs": [],
   "source": []
  }
 ],
 "metadata": {
  "kernelspec": {
   "display_name": "Python 3",
   "language": "python",
   "name": "python3"
  },
  "language_info": {
   "codemirror_mode": {
    "name": "ipython",
    "version": 3
   },
   "file_extension": ".py",
   "mimetype": "text/x-python",
   "name": "python",
   "nbconvert_exporter": "python",
   "pygments_lexer": "ipython3",
   "version": "3.7.1"
  }
 },
 "nbformat": 4,
 "nbformat_minor": 2
}
