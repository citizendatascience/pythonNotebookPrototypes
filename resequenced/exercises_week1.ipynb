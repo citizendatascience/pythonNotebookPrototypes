{
 "cells": [
  {
   "cell_type": "markdown",
   "metadata": {},
   "source": [
    "## Week 1: End of the week exercises\n",
    "\n",
    "The end of the week exercise contains 2 datasets you should try to analyse yourself, following the appropriate guidelines. The concepts you've already covered in the previous notebooks, so you should use the opportunity to strengthned your understanding.\n",
    "\n",
    "\n",
    "### Aims\n",
    "1. Perform initial data exploration\n",
    "2. Apply the covered dataframe functions\n",
    "3. Create suitable charts based on dataset characteristics\n",
    "\n",
    "\n",
    "### Glasgow Airport Passenger Dataset\n",
    "The following dataset shows number of passengers flying from Glasgow airport on a montly basis. The total number of passengers is split depending on the type of flight (scheduled vs charter).Attempt to structure your work as follows: \n",
    "1. Initial data exploration: answering simple questions about the dataset and exploring the contents of the dataframe\n",
    "\n",
    "2. Diving into the data: performing operations on the dataframe in order to answer further questions\n",
    "\n",
    "3. Plots: Choosing the right plot based on the charasteristics of the dataframe <br>\n",
    "    "
   ]
  },
  {
   "cell_type": "code",
   "execution_count": 2,
   "metadata": {},
   "outputs": [],
   "source": [
    "import pandas as pd\n",
    "import csv\n",
    "import numpy as np\n",
    "import matplotlib.pyplot as plt\n"
   ]
  },
  {
   "cell_type": "markdown",
   "metadata": {},
   "source": [
    "### Step 1\n",
    "First things first: we need to read our csv file into a dataframe object, just as we've been doing in previous notebooks. "
   ]
  },
  {
   "cell_type": "code",
   "execution_count": 3,
   "metadata": {},
   "outputs": [],
   "source": [
    "dataAirport = pd.read_csv(\"airport_data.csv\", sep=',')"
   ]
  },
  {
   "cell_type": "markdown",
   "metadata": {},
   "source": [
    "Now it's time to explore the data. Try to answer the following questions: \n",
    "\n",
    "1. How many rows and columns do we have in our dataAirport dataframe?\n",
    "2. What are the columns of the dataframe? \n",
    "3. What are the countries people are flying to? (only unique elements)\n",
    "4. What are the regions people are flying to? (only unique elements)\n",
    "5. What's the maximum amount of passengers over the year flying to a country? Which country is it? "
   ]
  },
  {
   "cell_type": "code",
   "execution_count": 4,
   "metadata": {},
   "outputs": [
    {
     "name": "stdout",
     "output_type": "stream",
     "text": [
      "(682, 15)\n"
     ]
    }
   ],
   "source": [
    "#question1: \n",
    "print (dataAirport.shape)"
   ]
  },
  {
   "cell_type": "markdown",
   "metadata": {},
   "source": [
    "Expected output: (682, 15)"
   ]
  },
  {
   "cell_type": "code",
   "execution_count": 5,
   "metadata": {},
   "outputs": [
    {
     "name": "stdout",
     "output_type": "stream",
     "text": [
      "Index(['rundate', 'reporting_period', 'foreign_region', 'foreign_country',\n",
      "       'UK_airport', 'foreign_airport', 'this_month_total_pax',\n",
      "       'this_month_schedueld_pax', 'this_month_charter_pax',\n",
      "       'last_month_total_pax', 'last_month_scheduled_pax',\n",
      "       'last_month_charter_pax', 'percent_change', 'Month', 'Year'],\n",
      "      dtype='object')\n"
     ]
    }
   ],
   "source": [
    "#question2: \n",
    "print (dataAirport.columns)"
   ]
  },
  {
   "cell_type": "markdown",
   "metadata": {},
   "source": [
    "Expected output: \n",
    "\n",
    "Index(['rundate', 'reporting_period', 'foreign_region', 'foreign_country',\n",
    "       'UK_airport', 'foreign_airport', 'this_month_total_pax',\n",
    "       'this_month_schedueld_pax', 'this_month_charter_pax',\n",
    "       'last_month_total_pax', 'last_month_scheduled_pax',\n",
    "       'last_month_charter_pax', 'percent_change', 'Month', 'Year'],\n",
    "      dtype='object')"
   ]
  },
  {
   "cell_type": "code",
   "execution_count": 6,
   "metadata": {},
   "outputs": [],
   "source": [
    "#question3:\n",
    "#HINT: You may want to use the method unique here\n",
    "#print (dataAirport['foreign_country'].unique())"
   ]
  },
  {
   "cell_type": "markdown",
   "metadata": {},
   "source": [
    "Expected output: \n",
    "['AUSTRIA' 'BARBADOS' 'CANADA' 'CAPE VERDE ISLANDS' 'CUBA' 'CYPRUS'\n",
    " 'DENMARK' 'EGYPT' 'FRANCE' 'GERMANY' 'ICELAND' 'IRISH REPUBLIC' 'ITALY'\n",
    " 'MEXICO' 'NETHERLANDS' 'NORWAY' 'PORTUGAL(EXCLUDING MADEIRA)'\n",
    " 'PORTUGAL(MADEIRA)' 'SPAIN' 'SPAIN(CANARY ISLANDS)' 'SWITZERLAND'\n",
    " 'TUNISIA' 'TURKEY' 'UNITED ARAB EMIRATES' 'USA' 'SWEDEN' 'MALTA' 'POLAND'\n",
    " 'REPUBLIC OF SERBIA' 'GREECE' 'BELGIUM' 'BULGARIA' 'HUNGARY' 'MOROCCO'\n",
    " 'CROATIA' 'DOMINICAN REPUBLIC' 'FAROE ISLANDS' 'FINLAND' 'OIL RIGS'\n",
    " 'UKRAINE' 'KAZAKHSTAN' 'MACEDONIA' 'RUSSIA' 'LUXEMBOURG']"
   ]
  },
  {
   "cell_type": "code",
   "execution_count": 7,
   "metadata": {},
   "outputs": [
    {
     "name": "stdout",
     "output_type": "stream",
     "text": [
      "['WESTERN EUROPE-EU' 'CARIBBEAN AREA' 'CANADA' 'ATLANTIC OCEAN ISLANDS'\n",
      " 'CENTRAL AMERICA' 'NORTH AFRICA' 'WESTERN EUROPE-OTHER' 'MIDDLE EAST'\n",
      " 'UNITED STATES OF AMERICA' 'EASTERN EUROPE-EU' 'OIL RIGS'\n",
      " 'EASTERN EUROPE -OTHER']\n"
     ]
    }
   ],
   "source": [
    "#question4: \n",
    "print (dataAirport['foreign_region'].unique())"
   ]
  },
  {
   "cell_type": "markdown",
   "metadata": {},
   "source": [
    "Expected output: \n",
    "    ['WESTERN EUROPE-EU' 'CARIBBEAN AREA' 'CANADA' 'ATLANTIC OCEAN ISLANDS'\n",
    " 'CENTRAL AMERICA' 'NORTH AFRICA' 'WESTERN EUROPE-OTHER' 'MIDDLE EAST'\n",
    " 'UNITED STATES OF AMERICA' 'EASTERN EUROPE-EU' 'OIL RIGS'\n",
    " 'EASTERN EUROPE -OTHER']"
   ]
  },
  {
   "cell_type": "code",
   "execution_count": 8,
   "metadata": {},
   "outputs": [
    {
     "name": "stdout",
     "output_type": "stream",
     "text": [
      "rundate                      20/11/2013 14:01\n",
      "reporting_period                       201307\n",
      "foreign_region              WESTERN EUROPE-EU\n",
      "foreign_country                         SPAIN\n",
      "UK_airport                            GLASGOW\n",
      "foreign_airport             PALMA DE MALLORCA\n",
      "this_month_total_pax                    44269\n",
      "this_month_schedueld_pax                17669\n",
      "this_month_charter_pax                  26600\n",
      "last_month_total_pax                    41415\n",
      "last_month_scheduled_pax                14212\n",
      "last_month_charter_pax                  27203\n",
      "percent_change                        6.89122\n",
      "Month                                    July\n",
      "Year                                     2013\n",
      "Name: 363, dtype: object\n"
     ]
    }
   ],
   "source": [
    "#question5:\n",
    "#HINT: use idxmax() instead of max as this will return the index of the max records.\n",
    "print (dataAirport.loc[dataAirport['this_month_total_pax'].idxmax()])"
   ]
  },
  {
   "cell_type": "markdown",
   "metadata": {},
   "source": [
    "### Step 2\n",
    "The next part of the investigation process aims to answer further questions we might have about the data.<br>\n",
    "1.How does the number of passengers vary per month independently of their chosen destination? <br>\n",
    "2.How does the number of passengers for a particular country change during the year? e.g Spain  <br>\n"
   ]
  },
  {
   "cell_type": "code",
   "execution_count": 9,
   "metadata": {},
   "outputs": [
    {
     "name": "stdout",
     "output_type": "stream",
     "text": [
      "        Month  this_month_total_pax\n",
      "0     January                166783\n",
      "1    February                154758\n",
      "2       March                206648\n",
      "3       April                248998\n",
      "4         May                340629\n",
      "5        June                446522\n",
      "6        July                494974\n",
      "7      August                427711\n",
      "8   September                433741\n",
      "9     October                380497\n",
      "10   November                201924\n",
      "11   December                190354\n"
     ]
    }
   ],
   "source": [
    "#Number of total passengers per month across all destinations\n",
    "#Hints: \n",
    "#1. use the same approach we used earlier this week, see the notebook on geographical visualisations and potholes\n",
    "#2. You may find the fuction sum useful (check the glossary)\n",
    "dataMonth = dataAirport.groupby('Month', sort = False,as_index=False)['this_month_total_pax'].sum()\n",
    "\n",
    "print (dataMonth)\n"
   ]
  },
  {
   "cell_type": "code",
   "execution_count": 10,
   "metadata": {},
   "outputs": [
    {
     "name": "stdout",
     "output_type": "stream",
     "text": [
      "        Month  this_month_total_pax\n",
      "0     January                 15110\n",
      "1    February                 15426\n",
      "2       March                 23394\n",
      "3       April                 49564\n",
      "4         May                 85222\n",
      "5        June                122981\n",
      "6        July                128721\n",
      "7      August                112205\n",
      "8   September                111213\n",
      "9     October                 82046\n",
      "10   November                 26272\n",
      "11   December                 21017\n"
     ]
    }
   ],
   "source": [
    "#Number of passengers per country for each month\n",
    "\n",
    "dataCountry = dataAirport[dataAirport['foreign_country'] =='SPAIN']\n",
    "\n",
    "dataCountry = dataCountry.groupby('Month', sort = False, as_index=False)['this_month_total_pax'].sum()\n",
    "\n",
    "print (dataCountry)"
   ]
  },
  {
   "cell_type": "code",
   "execution_count": 11,
   "metadata": {},
   "outputs": [
    {
     "data": {
      "image/png": "[encoded data removed]",
      "text/plain": [
       "<Figure size 432x288 with 1 Axes>"
      ]
     },
     "metadata": {},
     "output_type": "display_data"
    }
   ],
   "source": [
    "plt.bar(dataCountry['Month'],dataCountry['this_month_total_pax'])\n",
    "plt.show()"
   ]
  },
  {
   "cell_type": "markdown",
   "metadata": {},
   "source": [
    "### Step 3\n",
    "Another important step of the analysis is generating charts. Choose the appropriate visualisation method for the following two tasks. Justify your choice\n",
    "\n",
    "Create a plot that visualises the variation in the number of passengers to Spain. \n",
    "\n",
    "Hint: don't forget to add labels and a title to your plot\n",
    "    "
   ]
  },
  {
   "cell_type": "code",
   "execution_count": null,
   "metadata": {},
   "outputs": [],
   "source": []
  }
 ],
 "metadata": {
  "kernelspec": {
   "display_name": "Python 3",
   "language": "python",
   "name": "python3"
  },
  "language_info": {
   "codemirror_mode": {
    "name": "ipython",
    "version": 3
   },
   "file_extension": ".py",
   "mimetype": "text/x-python",
   "name": "python",
   "nbconvert_exporter": "python",
   "pygments_lexer": "ipython3",
   "version": "3.6.5"
  }
 },
 "nbformat": 4,
 "nbformat_minor": 2
}
