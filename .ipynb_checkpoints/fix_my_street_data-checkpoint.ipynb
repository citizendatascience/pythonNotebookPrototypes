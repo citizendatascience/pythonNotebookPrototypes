{
 "cells": [
  {
   "cell_type": "markdown",
   "metadata": {},
   "source": [
    "# Modifying Dataframes and Further Visualisations\n",
    "\n",
    "## The Dataset\n",
    "This dataset is based on citizen's reports to FixMyStreet.com regarding problems with pavements or potholes.For each report there is a category assigned, the longitude and the latitude are provided, as well as some datazone information (name of the datazone and code).\n",
    "\n",
    "| category | latitude | longitude | datazone | name |\n",
    "|:-------|:--------|:-------- |:-------- |:-------|\n",
    "| Potholes | 55.84409 | -4.34629 | S01009815 | Cardonald West and Central - 01 |\n",
    "| Pavements/footpaths | 55.87155| -4.32769 | S01010391 | Glasgow Harbour and Partick South - 04 |\n",
    "| Potholes | 55.87056|-4.32029 | S01010391 | Glasgow Harbour and Partick South - 04 |\n",
    "| ... | ...|... | ... |...|\n",
    "\n",
    "\n",
    "## Aims \n",
    "1.Learn about data processing and explore a dataframe, using the build-in functions for counting + grouping the data\n",
    "\n",
    "2.Explore geographical visualisation and more standard barchart\n",
    "\n",
    "## Questions to consider\n",
    "\n",
    "Are there any areas with particularly bad road conditions? Which ones? \n",
    "<br>\n",
    "Are there any major differences between the city center datazones and the suburbs?\n",
    "<br>\n",
    "What other observations can you make about the data? \n",
    "\n",
    "## Concepts covered\n",
    "\n",
    "1. Further use of panda dataframes: \n",
    " <br>   a. creating new dataframes\n",
    "   <br> b. use of build-in functions: counting occurences, getting stats about the dataset (min, max, count, quantiles)\n",
    "2. Processing a dataset in order to create a more structured view\n",
    "3. Exploring geographical data viausalisations, using gmplot"
   ]
  },
  {
   "cell_type": "code",
   "execution_count": 2,
   "metadata": {},
   "outputs": [],
   "source": [
    "import pandas as pd\n",
    "import gmplot\n",
    "import csv\n",
    "import numpy as np\n",
    "import matplotlib.pyplot as plt\n",
    "import seaborn as sns"
   ]
  },
  {
   "cell_type": "markdown",
   "metadata": {},
   "source": [
    "## Recall: Reading from a csv\n",
    "In the previous notebook, we learned how to read from a csv file and create a dataframe. "
   ]
  },
  {
   "cell_type": "code",
   "execution_count": 3,
   "metadata": {},
   "outputs": [],
   "source": [
    "dataframe = pd.read_csv(\"data/fix_myStreetGlasgow.csv\", sep=',')"
   ]
  },
  {
   "cell_type": "markdown",
   "metadata": {},
   "source": [
    "### **Task**\n",
    "Recall some of the dataframe operations covered in the previous notebook, explore this dataframe based on the FixMyStree data for Glasgow. "
   ]
  },
  {
   "cell_type": "code",
   "execution_count": 9,
   "metadata": {},
   "outputs": [],
   "source": [
    "#CODE GOES HERE"
   ]
  },
  {
   "cell_type": "markdown",
   "metadata": {},
   "source": [
    "## Filtering\n",
    "\n",
    "Based on the data we have it would be nice to quantify the potholes and pavements issues per datazone. In this way we should be able to identify which areas are most problematic. \n",
    "\n",
    "Essentially, what we want to achieve is having the results in the following form:\n",
    "\n",
    "| name | potholes | \n",
    "|:-------|:--------|\n",
    "| Alexandra Parade - 03 | 3 |\n",
    "| Anderston - 01        | 7 |\n",
    "| ...                   | ... |\n",
    "\n",
    "The next few cells will cover the following concepts: \n",
    "1. filtering based on a value\n",
    "2. grouping by a column to obtain a statistic\n",
    "3. creating a new dataframe"
   ]
  },
  {
   "cell_type": "code",
   "execution_count": 10,
   "metadata": {},
   "outputs": [],
   "source": [
    "#returns only the rows for which the category is potholes\n",
    "dataF = dataframe[dataframe['category'] == 'Potholes']\n",
    "\n",
    "#once we have only the potholes, we want to aggregate the results based on the name of the datazone and count the total number of potholes\n",
    "dataF = dataF.groupby('name', as_index=False)['category'].count()\n",
    "#print (dataF)\n",
    "\n",
    "#Now when we have that, we would lile to store it in a new dataframe\n",
    "dataPo = pd.DataFrame(data=dataF).rename( columns={\"name\": \"Datazone\", \"category\": \"Potholes\"})\n",
    "\n",
    "\n"
   ]
  },
  {
   "cell_type": "markdown",
   "metadata": {},
   "source": [
    "### **Task**\n",
    "\n",
    "Based on the earlier example, create a dataframe, called **dataPav** that contains the datazones and the count of pavements/footpath issues. Follow the steps outlined below if you are stuck: \n",
    "\n",
    "1. Filter the data based on whether the value of the 'category' is 'Pavements/footpaths'\n",
    "2. Group it by 'name' and count the total occurences per datazone\n",
    "3. Create a new dataframe, called **dataPav**, with columns: 'Datazone' and 'Pavements'\n"
   ]
  },
  {
   "cell_type": "code",
   "execution_count": 12,
   "metadata": {},
   "outputs": [],
   "source": [
    "#YOUR CODE GOES HERE"
   ]
  },
  {
   "cell_type": "markdown",
   "metadata": {},
   "source": [
    "## Concatenating dataframes\n",
    "\n",
    "Assuming your code for the previous task works, now you should have 2 dataframes: \n",
    "\n",
    "1. dataPO: containing 2 columns, the name of the datazone and the count of potholes for that datazone\n",
    "2. dataPav: containing 2 columns, the name of the datazone and the count of reported pavement problems\n",
    "\n",
    "Ideally, what we want to do is to have one dataframe that combines the data from dataPo and dataPav. Since the column 'name' is common for the two dataframes, we want to use it to join them together.\n",
    "\n"
   ]
  },
  {
   "cell_type": "code",
   "execution_count": 24,
   "metadata": {},
   "outputs": [
    {
     "name": "stdout",
     "output_type": "stream",
     "text": [
      "                              Datazone  Pavements\n",
      "0                       Anderston - 01          1\n",
      "1                       Anderston - 05          1\n",
      "2                       Anderston - 06          2\n",
      "3                 Anniesland East - 02          2\n",
      "4                 Anniesland East - 05          2\n",
      "5                 Anniesland West - 03          1\n",
      "6                 Anniesland West - 04          2\n",
      "7                 Anniesland West - 06          1\n",
      "8                 Anniesland West - 08          2\n",
      "9                Baillieston East - 01          1\n",
      "10               Baillieston East - 02          2\n",
      "11               Baillieston East - 03          1\n",
      "12               Baillieston West - 02          1\n",
      "13               Baillieston West - 03          1\n",
      "14                      Balornock - 04          2\n",
      "15                      Balornock - 05          2\n",
      "16                      Barlanark - 01          2\n",
      "17                    Battlefield - 01          1\n",
      "18                    Battlefield - 03          2\n",
      "19                    Battlefield - 05          5\n",
      "20                    Battlefield - 06          2\n",
      "21               Blairdardie East - 01          1\n",
      "22               Blairdardie East - 02          1\n",
      "23               Blairdardie East - 03          2\n",
      "24               Blairdardie East - 06          1\n",
      "25               Blairdardie West - 01          1\n",
      "26               Blairdardie West - 02          2\n",
      "27               Blairdardie West - 03          4\n",
      "28                     Braidfauld - 02          2\n",
      "29                     Braidfauld - 06          1\n",
      "..                                 ...        ...\n",
      "233                       Ruchill - 02          1\n",
      "234                       Ruchill - 03          5\n",
      "235                       Ruchill - 05          1\n",
      "236                       Ruchill - 08          1\n",
      "237      Scotstoun South and West - 01          1\n",
      "238      Scotstoun South and West - 03          1\n",
      "239      Scotstoun South and West - 05          1\n",
      "240                Shawlands West - 02          1\n",
      "241                Shawlands West - 03          1\n",
      "242             Shettleston South - 03          2\n",
      "243             Shettleston South - 05          2\n",
      "244                     Sighthill - 01          1\n",
      "245                    Springburn - 03          2\n",
      "246  Springburn East and Cowlairs - 04          1\n",
      "247                   Strathbungo - 05          1\n",
      "248                   Strathbungo - 07          1\n",
      "249   Summerston Central and West - 01          1\n",
      "250   Summerston Central and West - 02          1\n",
      "251   Summerston Central and West - 03          3\n",
      "252              Summerston North - 01          3\n",
      "253                     Tollcross - 01          1\n",
      "254         Toryglen and Oatlands - 07          1\n",
      "255                 Victoria Park - 02          1\n",
      "256                     Whiteinch - 02          1\n",
      "257                     Woodlands - 01          3\n",
      "258                     Woodlands - 02          1\n",
      "259                      Woodside - 01          1\n",
      "260                      Woodside - 03          1\n",
      "261                   Yoker North - 02          1\n",
      "262                   Yoker South - 02          1\n",
      "\n",
      "[263 rows x 2 columns]\n"
     ]
    },
    {
     "ename": "ValueError",
     "evalue": "columns overlap but no suffix specified: Index(['Datazone'], dtype='object')",
     "output_type": "error",
     "traceback": [
      "\u001b[1;31m---------------------------------------------------------------------------\u001b[0m",
      "\u001b[1;31mValueError\u001b[0m                                Traceback (most recent call last)",
      "\u001b[1;32m<ipython-input-24-643ef4650c78>\u001b[0m in \u001b[0;36m<module>\u001b[1;34m()\u001b[0m\n\u001b[0;32m      3\u001b[0m \u001b[0mprint\u001b[0m \u001b[1;33m(\u001b[0m\u001b[0mdataPav\u001b[0m\u001b[1;33m)\u001b[0m\u001b[1;33m\u001b[0m\u001b[0m\n\u001b[0;32m      4\u001b[0m \u001b[1;31m#concatenating the two dataframes\u001b[0m\u001b[1;33m\u001b[0m\u001b[1;33m\u001b[0m\u001b[0m\n\u001b[1;32m----> 5\u001b[1;33m \u001b[0mresult\u001b[0m \u001b[1;33m=\u001b[0m \u001b[0mdataPo\u001b[0m\u001b[1;33m.\u001b[0m\u001b[0mjoin\u001b[0m\u001b[1;33m(\u001b[0m\u001b[0mdataPav\u001b[0m\u001b[1;33m,\u001b[0m\u001b[0mon\u001b[0m\u001b[1;33m=\u001b[0m\u001b[1;34m'Datazone'\u001b[0m\u001b[1;33m,\u001b[0m \u001b[0mhow\u001b[0m\u001b[1;33m=\u001b[0m\u001b[1;34m'outer'\u001b[0m\u001b[1;33m)\u001b[0m\u001b[1;33m\u001b[0m\u001b[0m\n\u001b[0m",
      "\u001b[1;32m~\\Anaconda3\\lib\\site-packages\\pandas\\core\\frame.py\u001b[0m in \u001b[0;36mjoin\u001b[1;34m(self, other, on, how, lsuffix, rsuffix, sort)\u001b[0m\n\u001b[0;32m   5314\u001b[0m         \u001b[1;31m# For SparseDataFrame's benefit\u001b[0m\u001b[1;33m\u001b[0m\u001b[1;33m\u001b[0m\u001b[0m\n\u001b[0;32m   5315\u001b[0m         return self._join_compat(other, on=on, how=how, lsuffix=lsuffix,\n\u001b[1;32m-> 5316\u001b[1;33m                                  rsuffix=rsuffix, sort=sort)\n\u001b[0m\u001b[0;32m   5317\u001b[0m \u001b[1;33m\u001b[0m\u001b[0m\n\u001b[0;32m   5318\u001b[0m     def _join_compat(self, other, on=None, how='left', lsuffix='', rsuffix='',\n",
      "\u001b[1;32m~\\Anaconda3\\lib\\site-packages\\pandas\\core\\frame.py\u001b[0m in \u001b[0;36m_join_compat\u001b[1;34m(self, other, on, how, lsuffix, rsuffix, sort)\u001b[0m\n\u001b[0;32m   5329\u001b[0m             return merge(self, other, left_on=on, how=how,\n\u001b[0;32m   5330\u001b[0m                          \u001b[0mleft_index\u001b[0m\u001b[1;33m=\u001b[0m\u001b[0mon\u001b[0m \u001b[1;32mis\u001b[0m \u001b[1;32mNone\u001b[0m\u001b[1;33m,\u001b[0m \u001b[0mright_index\u001b[0m\u001b[1;33m=\u001b[0m\u001b[1;32mTrue\u001b[0m\u001b[1;33m,\u001b[0m\u001b[1;33m\u001b[0m\u001b[0m\n\u001b[1;32m-> 5331\u001b[1;33m                          suffixes=(lsuffix, rsuffix), sort=sort)\n\u001b[0m\u001b[0;32m   5332\u001b[0m         \u001b[1;32melse\u001b[0m\u001b[1;33m:\u001b[0m\u001b[1;33m\u001b[0m\u001b[0m\n\u001b[0;32m   5333\u001b[0m             \u001b[1;32mif\u001b[0m \u001b[0mon\u001b[0m \u001b[1;32mis\u001b[0m \u001b[1;32mnot\u001b[0m \u001b[1;32mNone\u001b[0m\u001b[1;33m:\u001b[0m\u001b[1;33m\u001b[0m\u001b[0m\n",
      "\u001b[1;32m~\\Anaconda3\\lib\\site-packages\\pandas\\core\\reshape\\merge.py\u001b[0m in \u001b[0;36mmerge\u001b[1;34m(left, right, how, on, left_on, right_on, left_index, right_index, sort, suffixes, copy, indicator, validate)\u001b[0m\n\u001b[0;32m     56\u001b[0m                          \u001b[0mcopy\u001b[0m\u001b[1;33m=\u001b[0m\u001b[0mcopy\u001b[0m\u001b[1;33m,\u001b[0m \u001b[0mindicator\u001b[0m\u001b[1;33m=\u001b[0m\u001b[0mindicator\u001b[0m\u001b[1;33m,\u001b[0m\u001b[1;33m\u001b[0m\u001b[0m\n\u001b[0;32m     57\u001b[0m                          validate=validate)\n\u001b[1;32m---> 58\u001b[1;33m     \u001b[1;32mreturn\u001b[0m \u001b[0mop\u001b[0m\u001b[1;33m.\u001b[0m\u001b[0mget_result\u001b[0m\u001b[1;33m(\u001b[0m\u001b[1;33m)\u001b[0m\u001b[1;33m\u001b[0m\u001b[0m\n\u001b[0m\u001b[0;32m     59\u001b[0m \u001b[1;33m\u001b[0m\u001b[0m\n\u001b[0;32m     60\u001b[0m \u001b[1;33m\u001b[0m\u001b[0m\n",
      "\u001b[1;32m~\\Anaconda3\\lib\\site-packages\\pandas\\core\\reshape\\merge.py\u001b[0m in \u001b[0;36mget_result\u001b[1;34m(self)\u001b[0m\n\u001b[0;32m    586\u001b[0m \u001b[1;33m\u001b[0m\u001b[0m\n\u001b[0;32m    587\u001b[0m         llabels, rlabels = items_overlap_with_suffix(ldata.items, lsuf,\n\u001b[1;32m--> 588\u001b[1;33m                                                      rdata.items, rsuf)\n\u001b[0m\u001b[0;32m    589\u001b[0m \u001b[1;33m\u001b[0m\u001b[0m\n\u001b[0;32m    590\u001b[0m         \u001b[0mlindexers\u001b[0m \u001b[1;33m=\u001b[0m \u001b[1;33m{\u001b[0m\u001b[1;36m1\u001b[0m\u001b[1;33m:\u001b[0m \u001b[0mleft_indexer\u001b[0m\u001b[1;33m}\u001b[0m \u001b[1;32mif\u001b[0m \u001b[0mleft_indexer\u001b[0m \u001b[1;32mis\u001b[0m \u001b[1;32mnot\u001b[0m \u001b[1;32mNone\u001b[0m \u001b[1;32melse\u001b[0m \u001b[1;33m{\u001b[0m\u001b[1;33m}\u001b[0m\u001b[1;33m\u001b[0m\u001b[0m\n",
      "\u001b[1;32m~\\Anaconda3\\lib\\site-packages\\pandas\\core\\internals.py\u001b[0m in \u001b[0;36mitems_overlap_with_suffix\u001b[1;34m(left, lsuffix, right, rsuffix)\u001b[0m\n\u001b[0;32m   5024\u001b[0m         \u001b[1;32mif\u001b[0m \u001b[1;32mnot\u001b[0m \u001b[0mlsuffix\u001b[0m \u001b[1;32mand\u001b[0m \u001b[1;32mnot\u001b[0m \u001b[0mrsuffix\u001b[0m\u001b[1;33m:\u001b[0m\u001b[1;33m\u001b[0m\u001b[0m\n\u001b[0;32m   5025\u001b[0m             raise ValueError('columns overlap but no suffix specified: %s' %\n\u001b[1;32m-> 5026\u001b[1;33m                              to_rename)\n\u001b[0m\u001b[0;32m   5027\u001b[0m \u001b[1;33m\u001b[0m\u001b[0m\n\u001b[0;32m   5028\u001b[0m         \u001b[1;32mdef\u001b[0m \u001b[0mlrenamer\u001b[0m\u001b[1;33m(\u001b[0m\u001b[0mx\u001b[0m\u001b[1;33m)\u001b[0m\u001b[1;33m:\u001b[0m\u001b[1;33m\u001b[0m\u001b[0m\n",
      "\u001b[1;31mValueError\u001b[0m: columns overlap but no suffix specified: Index(['Datazone'], dtype='object')"
     ]
    }
   ],
   "source": [
    "dataP = dataframe[dataframe['category'] == 'Pavements/footpaths'].groupby('name', as_index=False)['category'].count()\n",
    "dataPav= pd.DataFrame(data=dataP).rename(index=str, columns={\"name\": \"Datazone\", \"category\": \"Pavements\"})\n",
    "#concatenating the two dataframes\n",
    "result = dataPo.join(dataPav,on='Datazone', how='outer')"
   ]
  },
  {
   "cell_type": "markdown",
   "metadata": {},
   "source": [
    "### Side Note\n",
    "What happens when you print the resulting dataframe? \n",
    "\n",
    "Sometimes the count value is **NaN** since no problems have been reported for this area. In similar cases, we say we have **missing data**. There are different techniques for dealing with missing data but before we discuss this any further, we can just replace all 'NaN's with 0s instead. "
   ]
  },
  {
   "cell_type": "code",
   "execution_count": 15,
   "metadata": {},
   "outputs": [
    {
     "name": "stdout",
     "output_type": "stream",
     "text": [
      "Empty DataFrame\n",
      "Columns: [Datazone, Potholes, Datazone, Pavements]\n",
      "Index: []\n"
     ]
    }
   ],
   "source": [
    "result = result.fillna(0)\n",
    "print (result)"
   ]
  },
  {
   "cell_type": "raw",
   "metadata": {},
   "source": [
    "## Creating bargraphs\n",
    "\n",
    "Recall how in our previous notebook we created a bar graph to compare the protected territories. Here it would be interesting to see how the reported issues accross the datazones compare. \n",
    "\n",
    "Here we could do something similar and compare the datazones based on a threshold number of potholes. "
   ]
  },
  {
   "cell_type": "code",
   "execution_count": null,
   "metadata": {},
   "outputs": [],
   "source": []
  },
  {
   "cell_type": "code",
   "execution_count": 24,
   "metadata": {},
   "outputs": [
    {
     "data": {
      "image/png": "[encoded data removed]",
      "text/plain": [
       "<matplotlib.figure.Figure at 0x29ef28f46a0>"
      ]
     },
     "metadata": {},
     "output_type": "display_data"
    }
   ],
   "source": [
    "result = result[(result['Potholes']>15.0) | (result['Pavements']>15.0)]\n",
    "#print (result)\n",
    "plot = result[['Potholes','Pavements']].plot(kind='bar', title =\"Datazones with reports of potholes or pavements >15\", figsize=(15, 10), legend=True, fontsize=14)\n",
    "plt.xlabel('Datazones', fontsize=13)\n",
    "plt.ylabel('Number of problems reported',fontsize=13)\n",
    "plt.show()"
   ]
  },
  {
   "cell_type": "markdown",
   "metadata": {},
   "source": [
    "## Geographical Visualisation\n",
    "We have the coordinates of the reported potholes, so another option for exploring the data would be using a geographical map.\n",
    "\n",
    "### Heatmaps\n",
    "Heatmaps use colour-coding to represent different values. In our particular case, red would mean zones with many potholes/pavement problems. \n"
   ]
  },
  {
   "cell_type": "code",
   "execution_count": 17,
   "metadata": {},
   "outputs": [],
   "source": [
    "# take the latitudes and longitudes\n",
    "latitudes = dataframe[\"latitude\"]\n",
    "longitudes = dataframe[\"longitude\"]\n",
    "\n",
    "# Creating the location we would like to initialize the focus on. \n",
    "# Parameters: Lattitude, Longitude, Zoom\n",
    "gmap = gmplot.GoogleMapPlotter(55.8721,-4.2882,10)\n",
    "\n",
    "# Overlay our datapoints onto the map\n",
    "gmap.heatmap(latitudes, longitudes)\n",
    "\n",
    "# Generate the heatmap into an HTML file\n",
    "gmap.draw(\"Glasgow_heatmap.html\")"
   ]
  },
  {
   "cell_type": "markdown",
   "metadata": {},
   "source": [
    "### Task: REQUIRED\n",
    "Answer a few questions: https://goo.gl/forms/ezJTyLTwIXt4jVUG3\n"
   ]
  },
  {
   "cell_type": "code",
   "execution_count": null,
   "metadata": {},
   "outputs": [],
   "source": []
  }
 ],
 "metadata": {
  "kernelspec": {
   "display_name": "Python 3",
   "language": "python",
   "name": "python3"
  },
  "language_info": {
   "codemirror_mode": {
    "name": "ipython",
    "version": 3
   },
   "file_extension": ".py",
   "mimetype": "text/x-python",
   "name": "python",
   "nbconvert_exporter": "python",
   "pygments_lexer": "ipython3",
   "version": "3.6.4"
  }
 },
 "nbformat": 4,
 "nbformat_minor": 2
}
