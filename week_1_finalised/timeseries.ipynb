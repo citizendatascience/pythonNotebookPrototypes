{
 "cells": [
  {
   "cell_type": "markdown",
   "metadata": {},
   "source": [
    "### Week 1, Notebook 1: Introduction to dataframes and timeseries\n",
    "\n",
    "#### Aims: \n",
    "1. See the concepts of objects, methods and attributes in practice\n",
    "2. Apply methods to the dataframe object\n",
    "3. Get an introduction to data exploration\n",
    "4. Visualise timeseries data\n",
    "\n",
    "#### Note on libraries\n",
    "Usually the code you will see over the next few weeks starts with imports. Wе need those import statements in order to make use of the appropriate libraries. Libraries include methods we would like to use without having to implement them from scratch. "
   ]
  },
  {
   "cell_type": "code",
   "execution_count": 2,
   "metadata": {},
   "outputs": [],
   "source": [
    "import pandas as pd #contains dataframes + allows us to read csv files into a variable\n",
    "import numpy as np\n",
    "import matplotlib.pyplot as plt #will use it to create charts\n",
    "import warnings; warnings.simplefilter('ignore')"
   ]
  },
  {
   "cell_type": "markdown",
   "metadata": {},
   "source": [
    "#### Recall\n",
    "We are creating a variable _df_ where we are going to store our object, that's of type pandas dataframe. Variables we are able to modify over the course of the program. On our dataframe object we are able to apply different methods. \n",
    "\n",
    "The pandas **library** allows us to read a csv file into a dataframe object."
   ]
  },
  {
   "cell_type": "code",
   "execution_count": 3,
   "metadata": {},
   "outputs": [],
   "source": [
    "df = pd.read_csv(\"traffic_data_glasgow.csv\", sep=',')"
   ]
  },
  {
   "cell_type": "markdown",
   "metadata": {},
   "source": [
    "Naturally as we have an object we want to invoke method on this object that would allow us to explore it. In the cases when we have a huge dataframe with 10 000+ rows and many columns, we wouldn't want to print it as we might end up feeling lost in all those numbers. \n",
    "\n",
    "What we could do instead is see what the columns are, then perhaps see the first few rows. \n",
    "\n",
    "We are going to use the following: \n",
    "* df.columns: where columns is an **attribute** to the dataframe object\n",
    "\n",
    "* df.head(): where head() is a **method**\n",
    "\n",
    "Let's recall the definitions of those concepts: \n",
    "\n",
    "* Attribute: describes a property of an object. For example, the dataframe object has columns, values, it can be an empty dataframe or contain values\n",
    "* Method: defines the behaviour of the object"
   ]
  },
  {
   "cell_type": "code",
   "execution_count": 33,
   "metadata": {},
   "outputs": [
    {
     "name": "stdout",
     "output_type": "stream",
     "text": [
      "Index(['Year', 'Count points', 'Pedal Cycles', 'Motorcycles', 'Cars',\n",
      "       'Buses and Coaches', 'Light Goods Vehicles', 'All HGVs',\n",
      "       'All Motor Vehicles'],\n",
      "      dtype='object')\n"
     ]
    }
   ],
   "source": [
    "#getting the columns of the dataframe\n",
    "print (df.columns)"
   ]
  },
  {
   "cell_type": "code",
   "execution_count": 34,
   "metadata": {},
   "outputs": [
    {
     "name": "stdout",
     "output_type": "stream",
     "text": [
      "   Year  Count points  Pedal Cycles  Motorcycles     Cars  Buses and Coaches  \\\n",
      "0  2000           118          1829         4197   935727              19197   \n",
      "1  2001           118          1976         4495   950044              19698   \n",
      "2  2002           118          2007         4771   975271              20767   \n",
      "3  2003           118          2141         5648   963936              19331   \n",
      "4  2004           118          1715         4354  1006914              16296   \n",
      "\n",
      "   Light Goods Vehicles  All HGVs  All Motor Vehicles  \n",
      "0                120022     72182             1152324  \n",
      "1                125213     71345             1170794  \n",
      "2                127144     70991             1198946  \n",
      "3                133488     71984             1194387  \n",
      "4                141136     78108             1246808  \n"
     ]
    }
   ],
   "source": [
    "print (df.head())"
   ]
  },
  {
   "cell_type": "markdown",
   "metadata": {},
   "source": [
    "#### So what do we have stored in our dataframe?\n",
    "Now when we were able to access the contents of our dataframe, we see that we have annual data, related to  vehicles. In fact the source of this dataset is the Department of Transport which provides detailed traffic reports. This particular summary report is based on Glasgow City. <br>\n",
    "Source: https://www.dft.gov.uk/traffic-counts/area.php?region=Scotland&la=Glasgow+City\n",
    "\n",
    "Our next step is to learn how to retrieve further elements of dataframes and apply simple methods. \n",
    "\n",
    "Often it's useful to be able to get the values of a particular column. In order to do that we need to use the column key (also, called name). Keep in mind labels are case-sensitive. "
   ]
  },
  {
   "cell_type": "code",
   "execution_count": 35,
   "metadata": {},
   "outputs": [
    {
     "name": "stdout",
     "output_type": "stream",
     "text": [
      "0     2000\n",
      "1     2001\n",
      "2     2002\n",
      "3     2003\n",
      "4     2004\n",
      "5     2005\n",
      "6     2006\n",
      "7     2007\n",
      "8     2008\n",
      "9     2009\n",
      "10    2010\n",
      "11    2011\n",
      "12    2012\n",
      "13    2013\n",
      "14    2014\n",
      "15    2015\n",
      "16    2016\n",
      "17    2017\n",
      "Name: Year, dtype: int64\n"
     ]
    }
   ],
   "source": [
    "print (df['Year'])"
   ]
  },
  {
   "cell_type": "markdown",
   "metadata": {},
   "source": [
    "Two important methods are min() and max() which return the minimum and maximum values respectively. Let's see what the number of min and max count points is: "
   ]
  },
  {
   "cell_type": "code",
   "execution_count": 36,
   "metadata": {},
   "outputs": [
    {
     "name": "stdout",
     "output_type": "stream",
     "text": [
      "118\n",
      "186\n"
     ]
    }
   ],
   "source": [
    "print (df['Count points'].min())\n",
    "\n",
    "print (df['Count points'].max())"
   ]
  },
  {
   "cell_type": "markdown",
   "metadata": {},
   "source": [
    "We printed out two values but those numbers don't really mean much. That's why it's useful to add meaningful print messages. In order to do this we need to cast those numbers to strings in order to concatenate them with some meaningful text. "
   ]
  },
  {
   "cell_type": "code",
   "execution_count": 37,
   "metadata": {},
   "outputs": [
    {
     "name": "stdout",
     "output_type": "stream",
     "text": [
      "118 is the min number of count points\n"
     ]
    }
   ],
   "source": [
    "print(str(df['Count points'].min()) + \" is the min number of count points\" )"
   ]
  },
  {
   "cell_type": "markdown",
   "metadata": {},
   "source": [
    "### Your turn:\n",
    "Based on the concepts covered so far, complete the following exercises. Sceleton code is provided below\n",
    "\n",
    "1. Retrieve the column where the cars stats are stored\n",
    "2. What's the minimum number of cars recorded over the years? \n",
    "3. What's the maximum number of cars recorded? \n",
    "\n",
    "Note: make sure you add a meaningful print message when computing the min and max"
   ]
  },
  {
   "cell_type": "code",
   "execution_count": 18,
   "metadata": {},
   "outputs": [],
   "source": [
    "#create a variable where to store the column with header \"cars\"\n",
    "carsColumn = df[INSERT LABEL NAME HERE]\n",
    "\n",
    "#variable to store the min of cars\n",
    "carsMin = df['LABEL'].FUNCTION\n",
    "print()\n",
    "\n",
    "#variable to store the max of cars\n",
    "carsMax = df[LABEL].FUNCTION\n",
    "print()"
   ]
  },
  {
   "cell_type": "markdown",
   "metadata": {},
   "source": [
    "Expected output:\n",
    "\n",
    "The maximum number of cars recorded is: 1135713\n",
    "\n",
    "The minimum number of cars recorded is: 935727\n",
    "\n"
   ]
  },
  {
   "cell_type": "markdown",
   "metadata": {},
   "source": [
    "So far we learned how to retrieve a column, now we can learn how to do that for a row. We will make use of the following functions:\n",
    "\n",
    "1. loc[]: retrieves rows based on labels for rows and/or columns\n",
    "2. iloc[]: retrieval is based on integer positions\n",
    "\n",
    "What's the index in our particular case? Let's check:"
   ]
  },
  {
   "cell_type": "code",
   "execution_count": 38,
   "metadata": {},
   "outputs": [
    {
     "data": {
      "text/plain": [
       "RangeIndex(start=0, stop=18, step=1)"
      ]
     },
     "execution_count": 38,
     "metadata": {},
     "output_type": "execute_result"
    }
   ],
   "source": [
    "df.index"
   ]
  },
  {
   "cell_type": "markdown",
   "metadata": {},
   "source": [
    "Our row entries are indexed, starting from 0. In this case the integer index is also the label of the particular entry, so the following will work: \n",
    "\n",
    "1. dataframe.loc[0:1]\n",
    "2. dataframe.iloc[0:1]\n",
    "\n",
    "### Your turn: \n",
    "1. Is index attribute or method? HINT: if you struggle to decide, consult our Python help sheet.\n",
    "2. Run the next cell and identify the difference between the two functions"
   ]
  },
  {
   "cell_type": "code",
   "execution_count": 39,
   "metadata": {},
   "outputs": [
    {
     "name": "stdout",
     "output_type": "stream",
     "text": [
      "   Year  Count points  Pedal Cycles  Motorcycles    Cars  Buses and Coaches  \\\n",
      "0  2000           118          1829         4197  935727              19197   \n",
      "1  2001           118          1976         4495  950044              19698   \n",
      "\n",
      "   Light Goods Vehicles  All HGVs  All Motor Vehicles  \n",
      "0                120022     72182             1152324  \n",
      "1                125213     71345             1170794  \n",
      "--------------------------\n",
      "   Year  Count points  Pedal Cycles  Motorcycles    Cars  Buses and Coaches  \\\n",
      "0  2000           118          1829         4197  935727              19197   \n",
      "\n",
      "   Light Goods Vehicles  All HGVs  All Motor Vehicles  \n",
      "0                120022     72182             1152324  \n"
     ]
    }
   ],
   "source": [
    "print (df.loc[0:1])\n",
    "print (\"--------------------------\")\n",
    "print (df.iloc[0:1])"
   ]
  },
  {
   "cell_type": "markdown",
   "metadata": {},
   "source": [
    "Dataframes allow us to index them on a particular column, so in our case it would make more sense to index our records based on the year. \n"
   ]
  },
  {
   "cell_type": "code",
   "execution_count": 43,
   "metadata": {},
   "outputs": [
    {
     "name": "stdout",
     "output_type": "stream",
     "text": [
      "      Count points  Pedal Cycles  Motorcycles     Cars  Buses and Coaches  \\\n",
      "Year                                                                        \n",
      "2000           118          1829         4197   935727              19197   \n",
      "2001           118          1976         4495   950044              19698   \n",
      "2002           118          2007         4771   975271              20767   \n",
      "2003           118          2141         5648   963936              19331   \n",
      "2004           118          1715         4354  1006914              16296   \n",
      "\n",
      "      Light Goods Vehicles  All HGVs  All Motor Vehicles  \n",
      "Year                                                      \n",
      "2000                120022     72182             1152324  \n",
      "2001                125213     71345             1170794  \n",
      "2002                127144     70991             1198946  \n",
      "2003                133488     71984             1194387  \n",
      "2004                141136     78108             1246808  \n"
     ]
    }
   ],
   "source": [
    "#set the index to be equal to the year column\n",
    "df = df.set_index('Year')\n",
    "print (df.head())"
   ]
  },
  {
   "cell_type": "markdown",
   "metadata": {},
   "source": [
    "### Your turn:\n",
    "1. Get rows between 2010 and 2012 (including 2012)\n",
    "2. In addition, to getting the entries between 2010 and 2012, include only the columns from Pedal Cycles to Cars\n",
    "3. Find the min number of motorcyles between 2000 and 2005 (Hint: you should get 4174 as a min number of motorcycles between 2000 and 2005)"
   ]
  },
  {
   "cell_type": "code",
   "execution_count": 48,
   "metadata": {},
   "outputs": [],
   "source": [
    "# entries between 2010 and 2012\n",
    "print (df.FUNCTION[row_range])\n",
    "\n",
    "#entries between 2010 and 2012\n",
    "print (df.FUNCTION[row_range,column_range])\n",
    "\n",
    "#min temperature for 2000\n",
    "print (df.loc[row_range, column].FUNCTION)"
   ]
  },
  {
   "cell_type": "markdown",
   "metadata": {},
   "source": [
    "#### Simple filtering\n",
    "In our analysis often it's useful to know which entries satisfy a condition. For example, we might want to only look at dates with more than 120 count points. \n",
    "\n",
    "How to do that? \n"
   ]
  },
  {
   "cell_type": "code",
   "execution_count": 52,
   "metadata": {},
   "outputs": [
    {
     "name": "stdout",
     "output_type": "stream",
     "text": [
      "      Count points  Pedal Cycles  Motorcycles     Cars  Buses and Coaches  \\\n",
      "Year                                                                        \n",
      "2005           127          1383         4174  1004468              17025   \n",
      "2006           133          1729         4257  1010355              17861   \n",
      "2007           133          1148         4373  1015887              17076   \n",
      "2008           133          1634         4339  1023497              17290   \n",
      "2009           133          1898         4727  1044660              15243   \n",
      "\n",
      "      Light Goods Vehicles  All HGVs  All Motor Vehicles  \n",
      "Year                                                      \n",
      "2005                148306     80161             1254133  \n",
      "2006                153059     81516             1267048  \n",
      "2007                158280     80477             1276093  \n",
      "2008                161291     80944             1287362  \n",
      "2009                158558     74673             1296861  \n"
     ]
    }
   ],
   "source": [
    "dfCounting = df[df['Count points']>120]\n",
    "#breaking it down: \n",
    "# df['Count points']>120 returns TRUE/FALSE values depending whether the condition has been satisfied\n",
    "# However, we don't want to see when there were more than 120 count points and what were the values recorded and pandas to that for us. \n",
    "print (dfCounting.head())"
   ]
  },
  {
   "cell_type": "markdown",
   "metadata": {},
   "source": [
    "### Your turn:\n",
    "In the previous example, we decided to use greater than (>) but we can have different conditions\n",
    "\n",
    "1. Retrieve the entries for which the count points are exactly 118 (HINT: use == for your condition)\n",
    "2. Retrieve the entries for which the number of motorcycles is less than 4400"
   ]
  },
  {
   "cell_type": "code",
   "execution_count": null,
   "metadata": {},
   "outputs": [],
   "source": [
    "#retrieveing entries with exactly 118 count points\n",
    "dfPoints = df[df[COLUMN_NAME]CONDITION]\n",
    "\n",
    "#entries with less than 4400 motorcycles counted\n",
    "dfMotorcycles = ...\n",
    "\n",
    "print(dfPoints.head())"
   ]
  },
  {
   "cell_type": "markdown",
   "metadata": {},
   "source": [
    "### Timeseries and Line Charts\n",
    "\n",
    "Definition: A sequence of data points indexed in time order at equally spaced intervals. \n",
    "\n",
    "Examples: \n",
    "1. Exchange rates\n",
    "2. GDP time series\n",
    "3. Population rate\n",
    "4. Unemployment levels\n",
    "\n",
    "Visualisation: Line charts are often the most common way of visualising time series\n"
   ]
  },
  {
   "cell_type": "code",
   "execution_count": 4,
   "metadata": {},
   "outputs": [
    {
     "data": {
      "image/png": "[encoded data removed]",
      "text/plain": [
       "<Figure size 432x288 with 1 Axes>"
      ]
     },
     "metadata": {},
     "output_type": "display_data"
    }
   ],
   "source": [
    "#X axis: plotting the time range\n",
    "x = df.index\n",
    "# y: number of vehicles\n",
    "y = df['All Motor Vehicles']\n",
    "y1 = df['Cars']\n",
    "plt.plot(x,y, label='all')\n",
    "plt.plot(x,y1,label='cars')\n",
    "\n",
    "plt.xticks(np.arange(min(df.index), max(df.index)+1, 4))\n",
    "#code to set title and labels\n",
    "plt.title(\"Traffic measurements between 2000 and 2017\")\n",
    "plt.xlabel('Year')\n",
    "plt.ylabel(\"Count\")\n",
    "plt.legend(loc='upper left')\n",
    "plt.show()\n"
   ]
  },
  {
   "cell_type": "markdown",
   "metadata": {},
   "source": [
    "### Your turn\n",
    "Create a line chart for 2 fieds of your choice. You can also select a year range if you prefer"
   ]
  },
  {
   "cell_type": "code",
   "execution_count": 6,
   "metadata": {},
   "outputs": [],
   "source": [
    "#X axis: plotting the time range\n",
    "x = df.index\n",
    "# y: number of vehicles\n",
    "y = df[COLUMN NAME]\n",
    "y1 = df[COLUMN NAME]\n",
    "plt.plot(x,y, label= SENSIBLE LEGEND LABEL)\n",
    "plt.plot(x,y1,label= SENSIBLE LEGEND LABEL)\n",
    "plt.xticks(np.arange(min(df.index), max(df.index)+1, 4))\n",
    "\n",
    "#code to set title and labels (see previous example)\n",
    "plt.title(...)\n",
    "plt.\n",
    "...\n",
    "plt.show()\n"
   ]
  },
  {
   "cell_type": "code",
   "execution_count": null,
   "metadata": {},
   "outputs": [],
   "source": []
  }
 ],
 "metadata": {
  "kernelspec": {
   "display_name": "Python 3",
   "language": "python",
   "name": "python3"
  },
  "language_info": {
   "codemirror_mode": {
    "name": "ipython",
    "version": 3
   },
   "file_extension": ".py",
   "mimetype": "text/x-python",
   "name": "python",
   "nbconvert_exporter": "python",
   "pygments_lexer": "ipython3",
   "version": "3.6.4"
  }
 },
 "nbformat": 4,
 "nbformat_minor": 2
}
