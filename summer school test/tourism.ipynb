{
 "cells": [
  {
   "cell_type": "markdown",
   "metadata": {},
   "source": [
    "# Scottish Tourism Data\n",
    "\n",
    "First we need to load the dataset with the usual Python commands."
   ]
  },
  {
   "cell_type": "code",
   "execution_count": 1,
   "metadata": {},
   "outputs": [],
   "source": [
    "import pandas as pd\n",
    "import matplotlib.pyplot as pyplot\n",
    "\n",
    "df = pd.read_csv('data/tourism.csv')"
   ]
  },
  {
   "cell_type": "markdown",
   "metadata": {},
   "source": [
    "# Why is this data interesting?\n",
    "\n",
    "It's official information about tourism activities in Scotland over the past few years. Students should be able to relate to this data set - they probably form part of it. Activities are classified into different groups. Annual statistics are provided for each group.\n",
    "\n",
    "# Questions we might want to ask\n",
    "\n",
    "1. Which activities are becoming more popular over time? (This involves looking at trends in time series data).\n",
    "2. Which activities show spikes in certain years? (e.g. sport in 2014?)\n",
    "3. Which are the top three activities this year? Does this change over time?\n",
    "\n",
    "# Initial data exploration\n",
    "\n",
    "Now we have loaded the dataframe into a variable called `df` we can look at the column labels, to try and understand what information is captured in this dataset."
   ]
  },
  {
   "cell_type": "code",
   "execution_count": 2,
   "metadata": {},
   "outputs": [
    {
     "name": "stdout",
     "output_type": "stream",
     "text": [
      "['FeatureCode' 'DateCode' 'Measurement' 'Units' 'Value' 'Tourism Activity'\n",
      " 'Breakdown of Domestic Tourism']\n"
     ]
    }
   ],
   "source": [
    "print(df.columns.values)\n"
   ]
  },
  {
   "cell_type": "markdown",
   "metadata": {},
   "source": [
    "This doesn't give us very much help --- it would be better to see a few sample rows of data. Use the `head()` function to examine the first few rows."
   ]
  },
  {
   "cell_type": "code",
   "execution_count": 3,
   "metadata": {},
   "outputs": [
    {
     "data": {
      "text/html": [
       "<div>\n",
       "<style scoped>\n",
       "    .dataframe tbody tr th:only-of-type {\n",
       "        vertical-align: middle;\n",
       "    }\n",
       "\n",
       "    .dataframe tbody tr th {\n",
       "        vertical-align: top;\n",
       "    }\n",
       "\n",
       "    .dataframe thead th {\n",
       "        text-align: right;\n",
       "    }\n",
       "</style>\n",
       "<table border=\"1\" class=\"dataframe\">\n",
       "  <thead>\n",
       "    <tr style=\"text-align: right;\">\n",
       "      <th></th>\n",
       "      <th>FeatureCode</th>\n",
       "      <th>DateCode</th>\n",
       "      <th>Measurement</th>\n",
       "      <th>Units</th>\n",
       "      <th>Value</th>\n",
       "      <th>Tourism Activity</th>\n",
       "      <th>Breakdown of Domestic Tourism</th>\n",
       "    </tr>\n",
       "  </thead>\n",
       "  <tbody>\n",
       "    <tr>\n",
       "      <th>0</th>\n",
       "      <td>S92000003</td>\n",
       "      <td>2016</td>\n",
       "      <td>Count</td>\n",
       "      <td>million pounds (GBP)</td>\n",
       "      <td>69</td>\n",
       "      <td>Day out to a beauty/health centre/spa, etc.</td>\n",
       "      <td>Expenditure</td>\n",
       "    </tr>\n",
       "    <tr>\n",
       "      <th>1</th>\n",
       "      <td>S92000003</td>\n",
       "      <td>2014</td>\n",
       "      <td>Count</td>\n",
       "      <td>Million Visits</td>\n",
       "      <td>2</td>\n",
       "      <td>Day out to a beauty/health centre/spa, etc.</td>\n",
       "      <td>Visits</td>\n",
       "    </tr>\n",
       "    <tr>\n",
       "      <th>2</th>\n",
       "      <td>S92000003</td>\n",
       "      <td>2014</td>\n",
       "      <td>Count</td>\n",
       "      <td>million pounds (GBP)</td>\n",
       "      <td>71</td>\n",
       "      <td>Day out to a beauty/health centre/spa, etc.</td>\n",
       "      <td>Expenditure</td>\n",
       "    </tr>\n",
       "    <tr>\n",
       "      <th>3</th>\n",
       "      <td>S92000003</td>\n",
       "      <td>2016</td>\n",
       "      <td>Count</td>\n",
       "      <td>Million Visits</td>\n",
       "      <td>2</td>\n",
       "      <td>Day out to a beauty/health centre/spa, etc.</td>\n",
       "      <td>Visits</td>\n",
       "    </tr>\n",
       "    <tr>\n",
       "      <th>4</th>\n",
       "      <td>S92000003</td>\n",
       "      <td>2013</td>\n",
       "      <td>Count</td>\n",
       "      <td>Million Visits</td>\n",
       "      <td>1</td>\n",
       "      <td>Day out to a beauty/health centre/spa, etc.</td>\n",
       "      <td>Visits</td>\n",
       "    </tr>\n",
       "  </tbody>\n",
       "</table>\n",
       "</div>"
      ],
      "text/plain": [
       "  FeatureCode  DateCode Measurement                 Units  Value  \\\n",
       "0   S92000003      2016       Count  million pounds (GBP)     69   \n",
       "1   S92000003      2014       Count        Million Visits      2   \n",
       "2   S92000003      2014       Count  million pounds (GBP)     71   \n",
       "3   S92000003      2016       Count        Million Visits      2   \n",
       "4   S92000003      2013       Count        Million Visits      1   \n",
       "\n",
       "                              Tourism Activity Breakdown of Domestic Tourism  \n",
       "0  Day out to a beauty/health centre/spa, etc.                   Expenditure  \n",
       "1  Day out to a beauty/health centre/spa, etc.                        Visits  \n",
       "2  Day out to a beauty/health centre/spa, etc.                   Expenditure  \n",
       "3  Day out to a beauty/health centre/spa, etc.                        Visits  \n",
       "4  Day out to a beauty/health centre/spa, etc.                        Visits  "
      ]
     },
     "execution_count": 3,
     "metadata": {},
     "output_type": "execute_result"
    }
   ],
   "source": [
    "df.head()"
   ]
  },
  {
   "cell_type": "markdown",
   "metadata": {},
   "source": [
    "Now we can see that there are two entries for each year, for the \"Day out to a beauty/health/centre/spa etc\". One entry records the total money spent, the other entry records the total number of visits.\n",
    "\n",
    "What other activities do people do, other than going to a spa? We need a list of the unique values in the **Tourism Activity** column. We can use the `unique()` function to compute this. How many different activities are recorded?"
   ]
  },
  {
   "cell_type": "code",
   "execution_count": 6,
   "metadata": {},
   "outputs": [
    {
     "name": "stdout",
     "output_type": "stream",
     "text": [
      "['Day out to a beauty/health centre/spa, etc.'\n",
      " 'Leisure activities e.g. hobbies & evening classes'\n",
      " 'Entertainment - to a cinema, concert or theatre'\n",
      " 'Visitor attraction e.g. theme park, museum, zoo'\n",
      " 'Outdoor leisure activities e.g. walking, golf'\n",
      " 'Special personal events e.g. wedding, graduation'\n",
      " 'Night out to a bar, pub and/or club'\n",
      " 'Shopping for items that you do not regularly buy' 'Went out for a meal'\n",
      " 'Watched live sporting events (not on TV)' 'All'\n",
      " 'Visited friends or family for leisure'\n",
      " 'General day out/ to explore an area'\n",
      " 'Day trips/excursions for other leisure purpose'\n",
      " 'Special public event e.g. festival, exhibition'\n",
      " 'Sport participation, e.g. exercise classes, gym']\n"
     ]
    }
   ],
   "source": [
    "print(df['Tourism Activity'].unique())\n"
   ]
  },
  {
   "cell_type": "markdown",
   "metadata": {},
   "source": [
    "How many years of data is contained in the dataset? We need to find the _minimum_ and _maximum_ values in the 'DateCode' column."
   ]
  },
  {
   "cell_type": "code",
   "execution_count": 10,
   "metadata": {},
   "outputs": [
    {
     "name": "stdout",
     "output_type": "stream",
     "text": [
      "The earliest data is from 2013\n"
     ]
    }
   ],
   "source": [
    "earliestYear = min(df['DateCode'])\n",
    "print('The earliest data is from ' + str(earliestYear))"
   ]
  },
  {
   "cell_type": "markdown",
   "metadata": {},
   "source": [
    "# Drilling down in sports data\n",
    "\n",
    "Now we want to extract the sporting events visits, and see how much money is spent each year. We need to **subset** the dataframe - this is like doing an SQL query on a database to extract the matching data. In pandas, we build a _new_ dataframe that includes only the relevant data."
   ]
  },
  {
   "cell_type": "code",
   "execution_count": 20,
   "metadata": {},
   "outputs": [
    {
     "data": {
      "text/html": [
       "<div>\n",
       "<style scoped>\n",
       "    .dataframe tbody tr th:only-of-type {\n",
       "        vertical-align: middle;\n",
       "    }\n",
       "\n",
       "    .dataframe tbody tr th {\n",
       "        vertical-align: top;\n",
       "    }\n",
       "\n",
       "    .dataframe thead th {\n",
       "        text-align: right;\n",
       "    }\n",
       "</style>\n",
       "<table border=\"1\" class=\"dataframe\">\n",
       "  <thead>\n",
       "    <tr style=\"text-align: right;\">\n",
       "      <th></th>\n",
       "      <th>FeatureCode</th>\n",
       "      <th>DateCode</th>\n",
       "      <th>Measurement</th>\n",
       "      <th>Units</th>\n",
       "      <th>Value</th>\n",
       "      <th>Tourism Activity</th>\n",
       "      <th>Breakdown of Domestic Tourism</th>\n",
       "    </tr>\n",
       "  </thead>\n",
       "  <tbody>\n",
       "    <tr>\n",
       "      <th>73</th>\n",
       "      <td>S92000003</td>\n",
       "      <td>2015</td>\n",
       "      <td>Count</td>\n",
       "      <td>million pounds (GBP)</td>\n",
       "      <td>400</td>\n",
       "      <td>Watched live sporting events (not on TV)</td>\n",
       "      <td>Expenditure</td>\n",
       "    </tr>\n",
       "    <tr>\n",
       "      <th>76</th>\n",
       "      <td>S92000003</td>\n",
       "      <td>2016</td>\n",
       "      <td>Count</td>\n",
       "      <td>million pounds (GBP)</td>\n",
       "      <td>469</td>\n",
       "      <td>Watched live sporting events (not on TV)</td>\n",
       "      <td>Expenditure</td>\n",
       "    </tr>\n",
       "    <tr>\n",
       "      <th>77</th>\n",
       "      <td>S92000003</td>\n",
       "      <td>2013</td>\n",
       "      <td>Count</td>\n",
       "      <td>million pounds (GBP)</td>\n",
       "      <td>243</td>\n",
       "      <td>Watched live sporting events (not on TV)</td>\n",
       "      <td>Expenditure</td>\n",
       "    </tr>\n",
       "    <tr>\n",
       "      <th>79</th>\n",
       "      <td>S92000003</td>\n",
       "      <td>2014</td>\n",
       "      <td>Count</td>\n",
       "      <td>million pounds (GBP)</td>\n",
       "      <td>421</td>\n",
       "      <td>Watched live sporting events (not on TV)</td>\n",
       "      <td>Expenditure</td>\n",
       "    </tr>\n",
       "  </tbody>\n",
       "</table>\n",
       "</div>"
      ],
      "text/plain": [
       "   FeatureCode  DateCode Measurement                 Units  Value  \\\n",
       "73   S92000003      2015       Count  million pounds (GBP)    400   \n",
       "76   S92000003      2016       Count  million pounds (GBP)    469   \n",
       "77   S92000003      2013       Count  million pounds (GBP)    243   \n",
       "79   S92000003      2014       Count  million pounds (GBP)    421   \n",
       "\n",
       "                            Tourism Activity Breakdown of Domestic Tourism  \n",
       "73  Watched live sporting events (not on TV)                   Expenditure  \n",
       "76  Watched live sporting events (not on TV)                   Expenditure  \n",
       "77  Watched live sporting events (not on TV)                   Expenditure  \n",
       "79  Watched live sporting events (not on TV)                   Expenditure  "
      ]
     },
     "execution_count": 20,
     "metadata": {},
     "output_type": "execute_result"
    }
   ],
   "source": [
    "activity = 'Watched live sporting events (not on TV)'\n",
    "sports = df[(df['Units']=='million pounds (GBP)') & (df['Tourism Activity']==activity)]\n",
    "sports.head()"
   ]
  },
  {
   "cell_type": "markdown",
   "metadata": {},
   "source": [
    "# Drawing a graph\n",
    "\n",
    "Now we have this data about sporting events visits, let's draw a graph to show how the money spent varies with time. (This is called a time series analysis.)\n",
    "We want to create a dataframe with only two columns, the DateCode and the Value."
   ]
  },
  {
   "cell_type": "code",
   "execution_count": 30,
   "metadata": {},
   "outputs": [
    {
     "data": {
      "text/plain": [
       "<matplotlib.axes._subplots.AxesSubplot at 0x10c503810>"
      ]
     },
     "execution_count": 30,
     "metadata": {},
     "output_type": "execute_result"
    },
    {
     "data": {
      "image/png": "[encoded data removed]",
      "text/plain": [
       "<matplotlib.figure.Figure at 0x10c4f35d0>"
      ]
     },
     "metadata": {},
     "output_type": "display_data"
    }
   ],
   "source": [
    "sp2 = sports.sort_values(by=['DateCode'])\n",
    "sp2.head()\n",
    "sp2.plot(x='DateCode', y='Value')"
   ]
  },
  {
   "cell_type": "markdown",
   "metadata": {},
   "source": [
    "**Question**: Why do you think there might be a spike in sporting expenditure in 2014?"
   ]
  },
  {
   "cell_type": "markdown",
   "metadata": {},
   "source": [
    "# More ideas for investigation\n",
    "\n",
    "* We could divide the amount of money spent by the number of visits, for each activity in each year. This would allow us to see which activities are most expensive.\n",
    "\n",
    "* We could subset the frames by year, then sort each year frame by the number of visits. This would allow us to see which activities are the most popular in each year.\n",
    "\n",
    "* We could check whether increased sport watching leads to increased sports participation. Is there a _correlation_ between these two activities?"
   ]
  },
  {
   "cell_type": "code",
   "execution_count": null,
   "metadata": {},
   "outputs": [],
   "source": []
  }
 ],
 "metadata": {
  "kernelspec": {
   "display_name": "Python 3",
   "language": "python",
   "name": "python3"
  },
  "language_info": {
   "codemirror_mode": {
    "name": "ipython",
    "version": 3
   },
   "file_extension": ".py",
   "mimetype": "text/x-python",
   "name": "python",
   "nbconvert_exporter": "python",
   "pygments_lexer": "ipython3",
   "version": "3.6.4"
  }
 },
 "nbformat": 4,
 "nbformat_minor": 2
}
