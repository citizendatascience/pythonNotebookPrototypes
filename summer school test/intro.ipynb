{
 "cells": [
  {
   "cell_type": "markdown",
   "metadata": {},
   "source": [
    "# Introduction to data science\n",
    "\n",
    "## The Dataset\n",
    "Joint Nation Preservation Committee Dataset providing information about the protected territories in the UK over a period of time. There is a record for the number of protected territories in the UK from 1950 until 2017.\n",
    "<br>\n",
    "\n",
    "| Year | On land | At sea | Total |\n",
    "| --- | --- | --- | --- |\n",
    "| 1950 | 0.046 | 0.000 | 0.046 |\n",
    "| 1951 | 0.692 | 0.015 | 0.707 |\n",
    "| 1952 | 0.919 | 0.028 | 0.947 |\n",
    "| 1953 | 0.936 | 0.031 | 0.967 |\n",
    "| ... | ... | ... | ... |\n",
    "\n",
    "\n",
    "## Dataframes\n",
    "Dataframes are 2D structures with data organised in rows and columns. Dataframes can be manipulated in various ways: data can be filtered based on a value in a particular column, aggregations could be performed, etc. \n",
    "\n",
    "\n"
   ]
  },
  {
   "cell_type": "code",
   "execution_count": 1,
   "metadata": {},
   "outputs": [],
   "source": [
    "import pandas as pd\n",
    "import numpy as np\n",
    "import matplotlib.pyplot as plt\n",
    "import warnings; warnings.simplefilter('ignore')"
   ]
  },
  {
   "cell_type": "markdown",
   "metadata": {},
   "source": [
    "## Reading from a csv file\n",
    "In order to facilitate the data manipulation, we are going to essentially store the data we have in a csv file into our dataframe object."
   ]
  },
  {
   "cell_type": "code",
   "execution_count": 2,
   "metadata": {},
   "outputs": [],
   "source": [
    "dataframe = pd.read_csv(\"data/protected_areas.csv\", sep=',')"
   ]
  },
  {
   "cell_type": "markdown",
   "metadata": {},
   "source": [
    "## Dataframe operations\n",
    "There is a lot we could do with this dataframe object but how does it look? \n",
    "\n",
    "The build-in function **head()** will give us the first 5 records in our dataframe. As you can see this essentially looks like our csv file. \n",
    "\n",
    "You can also access a particular column of a dataframe or just items with specific indices. The usual syntax is as follows: \n",
    "**dataframe[columnName][fromIndex:toIndex]**"
   ]
  },
  {
   "cell_type": "code",
   "execution_count": 3,
   "metadata": {},
   "outputs": [
    {
     "name": "stdout",
     "output_type": "stream",
     "text": [
      "   Year  On land  At sea  Total\n",
      "0  1950    0.046   0.000  0.046\n",
      "1  1951    0.692   0.015  0.707\n",
      "2  1952    0.919   0.028  0.947\n",
      "3  1953    0.936   0.031  0.967\n",
      "4  1954    1.279   0.048  1.328\n"
     ]
    }
   ],
   "source": [
    "print (dataframe.head())"
   ]
  },
  {
   "cell_type": "code",
   "execution_count": 21,
   "metadata": {},
   "outputs": [
    {
     "name": "stdout",
     "output_type": "stream",
     "text": [
      "2    0.919\n",
      "3    0.936\n",
      "Name: On land, dtype: float64\n",
      "   Year  On land  At sea  Total\n",
      "0  1950    0.046   0.000  0.046\n",
      "1  1951    0.692   0.015  0.707\n",
      "2  1952    0.919   0.028  0.947\n",
      "3  1953    0.936   0.031  0.967\n",
      "4  1954    1.279   0.048  1.328\n",
      "5  1955    1.319   0.056  1.375\n",
      "6  1956    1.456   0.091  1.548\n"
     ]
    }
   ],
   "source": [
    "print (dataframe['On land'][2:4])\n"
   ]
  },
  {
   "cell_type": "markdown",
   "metadata": {},
   "source": [
    "### **Task: Exploring the dataframe**\n",
    "Explore the dataframe object with some of those functions. What results do you get? Run those examples in separate cells of this notebook. \n",
    "\n",
    "1. dataframe.tail()\n",
    "2. dataframe[0:5]\n",
    "3. dataframe[0:10]['On land']\n",
    "4. dataframe.loc[2:4]\n",
    "5. How can you use the head function to get the first 10 rows? \n",
    "\n",
    "Hint: You can have a look at https://pandas.pydata.org/pandas-docs/stable/generated/pandas.DataFrame.html\n"
   ]
  },
  {
   "cell_type": "code",
   "execution_count": 6,
   "metadata": {},
   "outputs": [],
   "source": [
    "#CODE GOES HERE"
   ]
  },
  {
   "cell_type": "markdown",
   "metadata": {},
   "source": [
    "## Visualising our dataset\n",
    "Now when we have a good understanding of what essentially the dataframe object is, let's make more sense of it by visualising it. \n"
   ]
  },
  {
   "cell_type": "code",
   "execution_count": 4,
   "metadata": {},
   "outputs": [
    {
     "data": {
      "image/png": "[encoded data removed]",
      "text/plain": [
       "<matplotlib.figure.Figure at 0x1c60b5ced30>"
      ]
     },
     "metadata": {},
     "output_type": "display_data"
    }
   ],
   "source": [
    "dataframe.plot(x='Year',y=['At sea','On land','Total'])\n",
    "plt.title(\"Protected territories in the UK\")\n",
    "plt.ylabel(\"Million Hectares\")\n",
    "plt.show()\n"
   ]
  },
  {
   "cell_type": "markdown",
   "metadata": {},
   "source": [
    "### ** Task: Understanding visualisations **\n",
    "What are some observations that could be made about this dataset, based on the graph above? \n"
   ]
  },
  {
   "cell_type": "markdown",
   "metadata": {},
   "source": [
    "## Slicing the dataframe\n",
    "So far we just worked with the original data and creating a plot was extremely easy. However, often we are interested in a particular subset of the original data that matches a criteria or helps us answer a particular question. \n",
    "\n",
    "Assuming we want to visualise the change of the protected territories at sea after 2006. \n",
    "\n",
    "Steps: \n",
    "1. Select slice of the dataset based on the filter value (year > 2006)\n",
    "2. Use matplotlib to visualise it\n"
   ]
  },
  {
   "cell_type": "code",
   "execution_count": 29,
   "metadata": {},
   "outputs": [
    {
     "data": {
      "image/png": "[encoded data removed]",
      "text/plain": [
       "<matplotlib.figure.Figure at 0x1c60bd53400>"
      ]
     },
     "metadata": {},
     "output_type": "display_data"
    }
   ],
   "source": [
    "yearRange = dataframe['Year']>2006\n",
    "x_pos = np.arange(len(dataframe[yearRange]['Year']))\n",
    "plt.bar(x_pos,dataframe[yearRange]['At sea'])\n",
    "plt.xticks(x_pos, dataframe[yearRange]['Year'])\n",
    "plt.title('Protected territories at sea')\n",
    "#LABELS CODE HERE\n",
    "plt.show()\n",
    "\n"
   ]
  },
  {
   "cell_type": "markdown",
   "metadata": {},
   "source": [
    "### **Task: Good practices**\n",
    "It's a good practice to provide clear labeling to graphs. Go back to the previous cell with the barchart of protected territories at sea and complete the following: \n",
    "1. Add a label to the y axis to illustrate we are plotting change in million hectares\n",
    "2. Add a label to the x axis\n",
    "\n",
    "**Hint**: You may find the matplotlib documentatioin helpful. https://matplotlib.org/api/_as_gen/matplotlib.pyplot.html"
   ]
  },
  {
   "cell_type": "markdown",
   "metadata": {},
   "source": [
    "### **Task: Creating charts on your own**\n",
    "1. Create a bar graph of the protected territories on land after 2010\n",
    "2. Make the colour of the bars green"
   ]
  },
  {
   "cell_type": "markdown",
   "metadata": {},
   "source": [
    "### **Optional Task**\n",
    "Create a stacked bar chart of the data at sea and on land after 2006. \n",
    "Don't forget to include labels and title. If you are unsure, take a look at: https://matplotlib.org/gallery/lines_bars_and_markers/bar_stacked.html\n",
    "\n"
   ]
  },
  {
   "cell_type": "code",
   "execution_count": null,
   "metadata": {},
   "outputs": [],
   "source": []
  }
 ],
 "metadata": {
  "kernelspec": {
   "display_name": "Python 3",
   "language": "python",
   "name": "python3"
  },
  "language_info": {
   "codemirror_mode": {
    "name": "ipython",
    "version": 3
   },
   "file_extension": ".py",
   "mimetype": "text/x-python",
   "name": "python",
   "nbconvert_exporter": "python",
   "pygments_lexer": "ipython3",
   "version": "3.6.4"
  }
 },
 "nbformat": 4,
 "nbformat_minor": 2
}
