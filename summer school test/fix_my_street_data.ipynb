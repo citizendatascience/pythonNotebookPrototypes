{
 "cells": [
  {
   "cell_type": "markdown",
   "metadata": {},
   "source": [
    "# Modifying Dataframes and Further Visualisations\n",
    "\n",
    "## The Dataset\n",
    "This dataset is based on citizen's reports to FixMyStreet.com regarding problems with pavements or potholes.For each report there is a category assigned, the longitude and the latitude are provided, as well as some datazone information (name of the datazone and code).\n",
    "\n",
    "| category | latitude | longitude | datazone | name |\n",
    "|:-------|:--------|:-------- |:-------- |:-------|\n",
    "| Potholes | 55.84409 | -4.34629 | S01009815 | Cardonald West and Central - 01 |\n",
    "| Pavements/footpaths | 55.87155| -4.32769 | S01010391 | Glasgow Harbour and Partick South - 04 |\n",
    "| Potholes | 55.87056|-4.32029 | S01010391 | Glasgow Harbour and Partick South - 04 |\n",
    "| ... | ...|... | ... |...|\n",
    "\n",
    "\n",
    "## Aims \n",
    "1.Learn about data processing and explore a dataframe, using the build-in functions for counting + grouping the data\n",
    "\n",
    "2.Explore geographical visualisation and more standard barchart\n",
    "\n",
    "## Questions to consider\n",
    "\n",
    "Are there any areas with particularly bad road conditions? Which ones? \n",
    "<br>\n",
    "Are there any major differences between the city center datazones and the suburbs?\n",
    "<br>\n",
    "What other observations can you make about the data? \n",
    "\n",
    "## Concepts covered\n",
    "\n",
    "1. Further use of panda dataframes: \n",
    " <br>   a. creating new dataframes\n",
    "   <br> b. use of build-in functions: counting occurences, getting stats about the dataset (min, max, count, quantiles)\n",
    "2. Processing a dataset in order to create a more structured view\n",
    "3. Exploring geographical data viausalisations, using gmplot"
   ]
  },
  {
   "cell_type": "code",
   "execution_count": 1,
   "metadata": {},
   "outputs": [],
   "source": [
    "import pandas as pd\n",
    "import gmplot\n",
    "import csv\n",
    "import numpy as np\n",
    "import matplotlib.pyplot as plt\n",
    "import seaborn as sns"
   ]
  },
  {
   "cell_type": "markdown",
   "metadata": {},
   "source": [
    "## Recall: Reading from a csv\n",
    "In the previous notebook, we learned how to read from a csv file and create a dataframe. "
   ]
  },
  {
   "cell_type": "code",
   "execution_count": 2,
   "metadata": {},
   "outputs": [],
   "source": [
    "dataframe = pd.read_csv(\"data/fix_myStreetGlasgow.csv\", sep=',')"
   ]
  },
  {
   "cell_type": "markdown",
   "metadata": {},
   "source": [
    "### **Task**\n",
    "Recall some of the dataframe operations covered in the previous notebook, explore this dataframe based on the FixMyStree data for Glasgow. "
   ]
  },
  {
   "cell_type": "code",
   "execution_count": 3,
   "metadata": {},
   "outputs": [],
   "source": [
    "#CODE GOES HERE"
   ]
  },
  {
   "cell_type": "markdown",
   "metadata": {},
   "source": [
    "## Filtering\n",
    "\n",
    "Based on the data we have it would be nice to quantify the potholes and pavements issues per datazone. In this way we should be able to identify which areas are most problematic. \n",
    "\n",
    "Essentially, what we want to achieve is having the results in the following form:\n",
    "\n",
    "| name | potholes | \n",
    "|:-------|:--------|\n",
    "| Alexandra Parade - 03 | 3 |\n",
    "| Anderston - 01        | 7 |\n",
    "| ...                   | ... |\n",
    "\n",
    "The next few cells will cover the following concepts: \n",
    "1. filtering based on a value\n",
    "2. grouping by a column to obtain a statistic\n",
    "3. creating a new dataframe"
   ]
  },
  {
   "cell_type": "code",
   "execution_count": 4,
   "metadata": {},
   "outputs": [],
   "source": [
    "#returns only the rows for which the category is potholes\n",
    "dataF = dataframe[dataframe['category'] == 'Potholes']\n",
    "\n",
    "#once we have only the potholes, we want to aggregate the results based on the name of the datazone and count the total number of potholes\n",
    "dataF = dataF.groupby('name', as_index=False)['category'].count()\n",
    "#print (dataF)\n",
    "\n",
    "#Now when we have that, we would lile to store it in a new dataframe\n",
    "dataPo = pd.DataFrame(data=dataF).rename( columns={\"name\": \"Datazone\", \"category\": \"Potholes\"})\n",
    "\n",
    "\n"
   ]
  },
  {
   "cell_type": "markdown",
   "metadata": {},
   "source": [
    "### **Task**\n",
    "\n",
    "Based on the earlier example, create a dataframe, called **dataPav** that contains the datazones and the count of pavements/footpath issues. Follow the steps outlined below if you are stuck: \n",
    "\n",
    "1. Filter the data based on whether the value of the 'category' is 'Pavements/footpaths'\n",
    "2. Group it by 'name' and count the total occurences per datazone\n",
    "3. Create a new dataframe, called **dataPav**, with columns: 'Datazone' and 'Pavements'\n"
   ]
  },
  {
   "cell_type": "code",
   "execution_count": 5,
   "metadata": {},
   "outputs": [],
   "source": [
    "#YOUR CODE GOES HERE"
   ]
  },
  {
   "cell_type": "markdown",
   "metadata": {},
   "source": [
    "## Concatenating dataframes\n",
    "\n",
    "Assuming your code for the previous task works, now you should have 2 dataframes: \n",
    "\n",
    "1. dataPO: containing 2 columns, the name of the datazone and the count of potholes for that datazone\n",
    "2. dataPav: containing 2 columns, the name of the datazone and the count of reported pavement problems\n",
    "\n",
    "Ideally, what we want to do is to have one dataframe that combines the data from dataPo and dataPav. Since the column 'name' is common for the two dataframes, we want to use it to join them together.\n",
    "\n"
   ]
  },
  {
   "cell_type": "code",
   "execution_count": 6,
   "metadata": {},
   "outputs": [
    {
     "name": "stdout",
     "output_type": "stream",
     "text": [
      "                             Datazone  Pavements  Potholes\n",
      "0                      Anderston - 01        1.0       7.0\n",
      "1                      Anderston - 05        1.0      10.0\n",
      "2                      Anderston - 06        2.0       6.0\n",
      "3                Anniesland East - 02        2.0       9.0\n",
      "4                Anniesland East - 05        2.0       5.0\n",
      "5                Anniesland West - 03        1.0       NaN\n",
      "6                Anniesland West - 04        2.0       2.0\n",
      "7                Anniesland West - 06        1.0       3.0\n",
      "8                Anniesland West - 08        2.0       3.0\n",
      "9               Baillieston East - 01        1.0       5.0\n",
      "10              Baillieston East - 02        2.0       8.0\n",
      "11              Baillieston East - 03        1.0       2.0\n",
      "12              Baillieston West - 02        1.0       1.0\n",
      "13              Baillieston West - 03        1.0       3.0\n",
      "14                     Balornock - 04        2.0       3.0\n",
      "15                     Balornock - 05        2.0       4.0\n",
      "16                     Barlanark - 01        2.0       9.0\n",
      "17                   Battlefield - 01        1.0       2.0\n",
      "18                   Battlefield - 03        2.0       8.0\n",
      "19                   Battlefield - 05        5.0      10.0\n",
      "20                   Battlefield - 06        2.0      25.0\n",
      "21              Blairdardie East - 01        1.0       3.0\n",
      "22              Blairdardie East - 02        1.0       3.0\n",
      "23              Blairdardie East - 03        2.0       9.0\n",
      "24              Blairdardie East - 06        1.0       7.0\n",
      "25              Blairdardie West - 01        1.0       NaN\n",
      "26              Blairdardie West - 02        2.0       9.0\n",
      "27              Blairdardie West - 03        4.0       NaN\n",
      "28                    Braidfauld - 02        2.0       3.0\n",
      "29                    Braidfauld - 06        1.0       1.0\n",
      "..                                ...        ...       ...\n",
      "616  Summerston Central and West - 05        NaN       1.0\n",
      "617  Summerston Central and West - 06        NaN      36.0\n",
      "618             Summerston North - 02        NaN       9.0\n",
      "619             Summerston North - 03        NaN       4.0\n",
      "620                    Tollcross - 04        NaN       2.0\n",
      "621                    Tollcross - 05        NaN       4.0\n",
      "622        Toryglen and Oatlands - 04        NaN       4.0\n",
      "623        Toryglen and Oatlands - 05        NaN       3.0\n",
      "624        Toryglen and Oatlands - 06        NaN      14.0\n",
      "625                Victoria Park - 01        NaN       3.0\n",
      "626                Victoria Park - 03        NaN       4.0\n",
      "627                    Whiteinch - 01        NaN       5.0\n",
      "628                    Whiteinch - 03        NaN       1.0\n",
      "629                    Woodlands - 03        NaN       5.0\n",
      "630                    Woodlands - 04        NaN       3.0\n",
      "631                    Woodlands - 07        NaN       2.0\n",
      "632                    Woodlands - 08        NaN       1.0\n",
      "633                     Woodside - 02        NaN       2.0\n",
      "634                     Woodside - 04        NaN       2.0\n",
      "635                     Wyndford - 01        NaN       1.0\n",
      "636                     Wyndford - 02        NaN       3.0\n",
      "637                     Wyndford - 04        NaN       1.0\n",
      "638                     Wyndford - 05        NaN       2.0\n",
      "639                  Yoker North - 01        NaN       3.0\n",
      "640                  Yoker North - 04        NaN       5.0\n",
      "641                  Yoker South - 01        NaN       2.0\n",
      "642                  Yoker South - 03        NaN       1.0\n",
      "643                  Yoker South - 04        NaN       6.0\n",
      "644                  Yoker South - 05        NaN       1.0\n",
      "645                  Yoker South - 06        NaN       1.0\n",
      "\n",
      "[646 rows x 3 columns]\n"
     ]
    }
   ],
   "source": [
    "dataP = dataframe[dataframe['category'] == 'Pavements/footpaths'].groupby('name', as_index=False)['category'].count()\n",
    "dataPav= pd.DataFrame(data=dataP).rename(index=str, columns={\"name\": \"Datazone\", \"category\": \"Pavements\"})\n",
    "#concatenating the two dataframes\n",
    "result = pd.merge(dataPav, dataPo, how='outer')\n",
    "print (result)"
   ]
  },
  {
   "cell_type": "markdown",
   "metadata": {},
   "source": [
    "### Side Note\n",
    "What happens when you print the resulting dataframe? \n",
    "\n",
    "Sometimes the count value is **NaN** since no problems have been reported for this area. In similar cases, we say we have **missing data**. There are different techniques for dealing with missing data but before we discuss this any further, we can just replace all 'NaN's with 0s instead. "
   ]
  },
  {
   "cell_type": "code",
   "execution_count": 7,
   "metadata": {},
   "outputs": [
    {
     "name": "stdout",
     "output_type": "stream",
     "text": [
      "                             Datazone  Pavements  Potholes\n",
      "0                      Anderston - 01        1.0       7.0\n",
      "1                      Anderston - 05        1.0      10.0\n",
      "2                      Anderston - 06        2.0       6.0\n",
      "3                Anniesland East - 02        2.0       9.0\n",
      "4                Anniesland East - 05        2.0       5.0\n",
      "5                Anniesland West - 03        1.0       0.0\n",
      "6                Anniesland West - 04        2.0       2.0\n",
      "7                Anniesland West - 06        1.0       3.0\n",
      "8                Anniesland West - 08        2.0       3.0\n",
      "9               Baillieston East - 01        1.0       5.0\n",
      "10              Baillieston East - 02        2.0       8.0\n",
      "11              Baillieston East - 03        1.0       2.0\n",
      "12              Baillieston West - 02        1.0       1.0\n",
      "13              Baillieston West - 03        1.0       3.0\n",
      "14                     Balornock - 04        2.0       3.0\n",
      "15                     Balornock - 05        2.0       4.0\n",
      "16                     Barlanark - 01        2.0       9.0\n",
      "17                   Battlefield - 01        1.0       2.0\n",
      "18                   Battlefield - 03        2.0       8.0\n",
      "19                   Battlefield - 05        5.0      10.0\n",
      "20                   Battlefield - 06        2.0      25.0\n",
      "21              Blairdardie East - 01        1.0       3.0\n",
      "22              Blairdardie East - 02        1.0       3.0\n",
      "23              Blairdardie East - 03        2.0       9.0\n",
      "24              Blairdardie East - 06        1.0       7.0\n",
      "25              Blairdardie West - 01        1.0       0.0\n",
      "26              Blairdardie West - 02        2.0       9.0\n",
      "27              Blairdardie West - 03        4.0       0.0\n",
      "28                    Braidfauld - 02        2.0       3.0\n",
      "29                    Braidfauld - 06        1.0       1.0\n",
      "..                                ...        ...       ...\n",
      "616  Summerston Central and West - 05        0.0       1.0\n",
      "617  Summerston Central and West - 06        0.0      36.0\n",
      "618             Summerston North - 02        0.0       9.0\n",
      "619             Summerston North - 03        0.0       4.0\n",
      "620                    Tollcross - 04        0.0       2.0\n",
      "621                    Tollcross - 05        0.0       4.0\n",
      "622        Toryglen and Oatlands - 04        0.0       4.0\n",
      "623        Toryglen and Oatlands - 05        0.0       3.0\n",
      "624        Toryglen and Oatlands - 06        0.0      14.0\n",
      "625                Victoria Park - 01        0.0       3.0\n",
      "626                Victoria Park - 03        0.0       4.0\n",
      "627                    Whiteinch - 01        0.0       5.0\n",
      "628                    Whiteinch - 03        0.0       1.0\n",
      "629                    Woodlands - 03        0.0       5.0\n",
      "630                    Woodlands - 04        0.0       3.0\n",
      "631                    Woodlands - 07        0.0       2.0\n",
      "632                    Woodlands - 08        0.0       1.0\n",
      "633                     Woodside - 02        0.0       2.0\n",
      "634                     Woodside - 04        0.0       2.0\n",
      "635                     Wyndford - 01        0.0       1.0\n",
      "636                     Wyndford - 02        0.0       3.0\n",
      "637                     Wyndford - 04        0.0       1.0\n",
      "638                     Wyndford - 05        0.0       2.0\n",
      "639                  Yoker North - 01        0.0       3.0\n",
      "640                  Yoker North - 04        0.0       5.0\n",
      "641                  Yoker South - 01        0.0       2.0\n",
      "642                  Yoker South - 03        0.0       1.0\n",
      "643                  Yoker South - 04        0.0       6.0\n",
      "644                  Yoker South - 05        0.0       1.0\n",
      "645                  Yoker South - 06        0.0       1.0\n",
      "\n",
      "[646 rows x 3 columns]\n"
     ]
    }
   ],
   "source": [
    "result = result.fillna(0)\n",
    "print (result)"
   ]
  },
  {
   "cell_type": "raw",
   "metadata": {},
   "source": [
    "## Creating bargraphs\n",
    "\n",
    "Recall how in our previous notebook we created a bar graph to compare the protected territories. Here it would be interesting to see how the reported issues accross the datazones compare. \n",
    "\n",
    "Here we could do something similar and compare the datazones based on a threshold number of potholes. "
   ]
  },
  {
   "cell_type": "code",
   "execution_count": null,
   "metadata": {},
   "outputs": [],
   "source": []
  },
  {
   "cell_type": "code",
   "execution_count": 8,
   "metadata": {},
   "outputs": [
    {
     "data": {
      "image/png": "[encoded data removed]",
      "text/plain": [
       "<Figure size 1080x720 with 1 Axes>"
      ]
     },
     "metadata": {},
     "output_type": "display_data"
    }
   ],
   "source": [
    "result = result[(result['Potholes']>15.0) | (result['Pavements']>15.0)]\n",
    "#print (result)\n",
    "plot = result[['Potholes','Pavements']].plot(kind='bar', title =\"Datazones with reports of potholes or pavements >15\", figsize=(15, 10), legend=True, fontsize=14)\n",
    "plt.xlabel('Datazones', fontsize=13)\n",
    "plt.ylabel('Number of problems reported',fontsize=13)\n",
    "plt.show()"
   ]
  },
  {
   "cell_type": "markdown",
   "metadata": {},
   "source": [
    "## Geographical Visualisation\n",
    "We have the coordinates of the reported potholes, so another option for exploring the data would be using a geographical map.\n",
    "\n",
    "### Heatmaps\n",
    "Heatmaps use colour-coding to represent different values. In our particular case, red would mean zones with many potholes/pavement problems. \n"
   ]
  },
  {
   "cell_type": "code",
   "execution_count": 17,
   "metadata": {},
   "outputs": [],
   "source": [
    "# take the latitudes and longitudes\n",
    "latitudes = dataframe[\"latitude\"]\n",
    "longitudes = dataframe[\"longitude\"]\n",
    "\n",
    "# Creating the location we would like to initialize the focus on. \n",
    "# Parameters: Lattitude, Longitude, Zoom\n",
    "gmap = gmplot.GoogleMapPlotter(55.8721,-4.2882,10)\n",
    "\n",
    "# Overlay our datapoints onto the map\n",
    "gmap.heatmap(latitudes, longitudes)\n",
    "\n",
    "# Generate the heatmap into an HTML file\n",
    "gmap.draw(\"Glasgow_heatmap.html\")"
   ]
  },
  {
   "cell_type": "markdown",
   "metadata": {},
   "source": [
    "### Task: REQUIRED\n",
    "Answer a few questions: https://goo.gl/forms/ezJTyLTwIXt4jVUG3\n"
   ]
  },
  {
   "cell_type": "code",
   "execution_count": null,
   "metadata": {},
   "outputs": [],
   "source": []
  }
 ],
 "metadata": {
  "kernelspec": {
   "display_name": "Python 3",
   "language": "python",
   "name": "python3"
  },
  "language_info": {
   "codemirror_mode": {
    "name": "ipython",
    "version": 3
   },
   "file_extension": ".py",
   "mimetype": "text/x-python",
   "name": "python",
   "nbconvert_exporter": "python",
   "pygments_lexer": "ipython3",
   "version": "3.6.4"
  }
 },
 "nbformat": 4,
 "nbformat_minor": 2
}
