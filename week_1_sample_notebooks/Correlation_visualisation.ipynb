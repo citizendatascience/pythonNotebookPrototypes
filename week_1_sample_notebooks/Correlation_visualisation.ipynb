{
 "cells": [
  {
   "cell_type": "markdown",
   "metadata": {},
   "source": [
    "## Week 2\n",
    "\n",
    "### Aims \n",
    "1. Apply the concepts of central tendency and spread \n",
    "2. Understand the importance of plotting your data as part of the analysis\n",
    "3. Get an introduction to correlated data\n",
    "\n",
    "\n",
    "### Dataset\n",
    "Our focus will be the so-called Anscombe's quartet. The dataset consists of 4 pairs of variables (x and y) and our goal is to firstly get some descriptive stats and then visualise the relationship between x and y. "
   ]
  },
  {
   "cell_type": "code",
   "execution_count": 2,
   "metadata": {},
   "outputs": [],
   "source": [
    "import pandas as pd\n",
    "import csv\n",
    "import numpy as np\n",
    "import matplotlib.pyplot as plt"
   ]
  },
  {
   "cell_type": "code",
   "execution_count": 3,
   "metadata": {},
   "outputs": [
    {
     "name": "stdout",
     "output_type": "stream",
     "text": [
      "    x1     y1  x2    y2  x3     y3  x4     y4\n",
      "0   10   8.04  10  9.14  10   7.46   8   6.58\n",
      "1    8   6.95   8  8.14   8   6.77   8   5.76\n",
      "2   13   7.58  13  8.74  13  12.74   8   7.71\n",
      "3    9   8.81   9  8.77   9   7.11   8   8.84\n",
      "4   11   8.33  11  9.26  11   7.81   8   8.47\n",
      "5   14   9.96  14  8.10  14   8.84   8   7.04\n",
      "6    6   7.24   6  6.13   6   6.08   8   5.25\n",
      "7    4   4.26   4  3.10   4   5.39  19  12.50\n",
      "8   12  10.84  12  9.13  12   8.15   8   5.56\n",
      "9    7   4.82   7  7.26   7   6.42   8   7.91\n",
      "10   5   5.68   5  4.74   5   5.73   8   6.89\n"
     ]
    }
   ],
   "source": [
    "df = pd.read_csv(\"anscombe_quartet.csv\", sep=',')\n",
    "print (df)"
   ]
  },
  {
   "cell_type": "markdown",
   "metadata": {},
   "source": [
    "### Recall: \n",
    "Previously we covered the concepts of central tendency and spread. Let's recall their meaning: \n",
    "\n",
    "**Mean**: calculated by adding up the observed values and dividing by the total number of values. The mean is quite sensitive to outliers, so in some cases the median is preferred as a measurement \n",
    "\n",
    "**Median**: the middle value of the dataset when it has been arranged in ascending order. \n",
    "\n",
    "**Variance**: measurement of the spread between values. It's the avarage of the squared distances from the mean.\n",
    "\n",
    "**Standard deviation**: calculated by getting a square root of the variance\n",
    "\n"
   ]
  },
  {
   "cell_type": "code",
   "execution_count": 6,
   "metadata": {},
   "outputs": [
    {
     "name": "stdout",
     "output_type": "stream",
     "text": [
      "9.0\n",
      "9.0\n",
      "7.500909090909093\n",
      "3.1622776601683795\n",
      "1.937024215108669\n"
     ]
    }
   ],
   "source": [
    "set1 = df[['x1','y1']]\n",
    "\n",
    "#Calculating the mean and the standard deviation\n",
    "print (np.mean(set1['x1']))\n",
    "print (np.median(set1['x1']))\n",
    "print (np.mean(set1['y1']))\n",
    "print (np.std(set1['x1']))\n",
    "print (np.std(set1['y1']))"
   ]
  },
  {
   "cell_type": "markdown",
   "metadata": {},
   "source": [
    "### Task:\n",
    "Let's compare the descriptive statistics of the 4 sets within the Anscombe's quartet"
   ]
  },
  {
   "cell_type": "code",
   "execution_count": 7,
   "metadata": {},
   "outputs": [
    {
     "name": "stdout",
     "output_type": "stream",
     "text": [
      "9.0\n",
      "7.500909090909091\n",
      "3.1622776601683795\n"
     ]
    }
   ],
   "source": [
    "set2 = df[['x2','y2']]\n",
    "#compute mean, median, and standard deviation\n",
    "set3 = df[['x3','y3']]\n",
    "set4 = df[['x4','y4']]\n",
    "\n",
    "\n",
    "print (np.mean(set2['x2']))\n",
    "print (np.mean(set2['y2']))\n",
    "print (np.std(set2['x2']))\n",
    "#print (np.corrcoef(set2['x2'],set2['y2']))"
   ]
  },
  {
   "cell_type": "markdown",
   "metadata": {},
   "source": [
    "#### Visualising our data\n",
    "Let's visualise the 4 pairs and find-out whether we can identify a relationship, using a scatterplot. \n",
    "\n",
    "What are scatterplots? \n",
    "Scatterplots (sometimes called correlation plots) are used to show the relationship between 2 variables."
   ]
  },
  {
   "cell_type": "code",
   "execution_count": 64,
   "metadata": {},
   "outputs": [
    {
     "data": {
      "text/plain": [
       "<matplotlib.collections.PathCollection at 0x29d4e85db00>"
      ]
     },
     "execution_count": 64,
     "metadata": {},
     "output_type": "execute_result"
    },
    {
     "data": {
      "image/png": "[encoded data removed]",
      "text/plain": [
       "<Figure size 432x288 with 4 Axes>"
      ]
     },
     "metadata": {},
     "output_type": "display_data"
    }
   ],
   "source": [
    "#Let's visualise the 4 pairs and find-out whether we can identify a relationship based on a scatterplot\n",
    "plt.subplot(221)\n",
    "plt.axis([2, 20, 2, 14])\n",
    "#finding the best fit line\n",
    "z = np.polyfit(set1['x1'], set1['y1'], deg=1)\n",
    "plt.title(\"Scatterplot 1\")\n",
    "plt.scatter(set1['x1'], set1['y1'])\n",
    "plt.plot(np.unique(set1['x1']), np.poly1d(np.polyfit(set1['x1'],set1['y1'], 1))(np.unique(set1['x1'])))\n",
    "\n",
    "plt.subplot(222)\n",
    "plt.axis([2, 20, 2, 14])\n",
    "plt.title(\"Scatterplot 2\")\n",
    "plt.scatter(set2['x2'], set2['y2'])\n",
    "\n",
    "plt.subplot(223)\n",
    "plt.axis([2, 20, 2, 14])\n",
    "plt.title(\"Scatterplot 3\")\n",
    "plt.scatter(set3['x3'], set3['y3'])\n",
    "plt.tight_layout()\n",
    "\n",
    "plt.subplot(224)\n",
    "plt.axis([2, 20, 2, 14])\n",
    "plt.title(\"Scatterplot 4\")\n",
    "plt.scatter(set4['x4'], set4['y4'])"
   ]
  },
  {
   "cell_type": "code",
   "execution_count": 11,
   "metadata": {},
   "outputs": [],
   "source": [
    "###TODO: Best fit line\n",
    "\n",
    "#In how much detail are we going? "
   ]
  },
  {
   "cell_type": "markdown",
   "metadata": {},
   "source": [
    "### Understanding our results\n",
    "\n",
    "As we can see from the visualisations despite having very similar simple statistics, the relationships between the pairs of variables are quite different. Thus, we can understand the importance of plotting our data.\n",
    "\n",
    "Scatterplot 1: This dataset appears to be suitable for the use of linear regression. \n",
    "\n",
    "Scatterplot 2: While there's seems to be a correlation, it's not linear. \n",
    "\n",
    "Scatterplot 3: Linearly correlated data but the scatterplot shows us the existence of an outlier. \n",
    "\n",
    "Scatterplot 4: There doesn't seem to be а correlation. \n",
    "\n",
    "Without plotting our data, we can decide to calculate the so called correlation coefficient for each subset. A common correlation measurement is the Pearson correlation coefficient(PCC), however it only measures the linear correlation between two variables. If we calculate the PCC for our values, we get a similar score but as it can be seen from the plots some of those correlations are linear while some pairs demonstrate no correlation at all. Thus, we should be careful what techniques we use for exploring our data because some are sensitive to the presence of outliers.\n",
    "\n"
   ]
  },
  {
   "cell_type": "markdown",
   "metadata": {},
   "source": [
    " ### Outliers\n",
    " An outlier is an observation that is unlike other observations in the same dataset. Outliers can occur by chance but it can also be an indication of a measurement error. \n",
    " \n",
    " There are different methods for outlier detection. (Not sure how much on outliers should be included?)"
   ]
  },
  {
   "cell_type": "markdown",
   "metadata": {},
   "source": [
    "### Correlation: What you need to know\n",
    "\n",
    "Correlation is a relationship between quantities. For example, there exists a correlation between stopping distance and speed (the greater the speed, the longer the stopping distance is). \n",
    "\n",
    "Why is it useful? If we are aware of the presence of correlation, this can help us predict one quantity from another. In statistics as mentioned "
   ]
  },
  {
   "cell_type": "code",
   "execution_count": null,
   "metadata": {},
   "outputs": [],
   "source": []
  }
 ],
 "metadata": {
  "kernelspec": {
   "display_name": "Python 3",
   "language": "python",
   "name": "python3"
  },
  "language_info": {
   "codemirror_mode": {
    "name": "ipython",
    "version": 3
   },
   "file_extension": ".py",
   "mimetype": "text/x-python",
   "name": "python",
   "nbconvert_exporter": "python",
   "pygments_lexer": "ipython3",
   "version": "3.6.4"
  }
 },
 "nbformat": 4,
 "nbformat_minor": 2
}
